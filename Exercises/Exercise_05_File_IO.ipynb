{
 "cells": [
  {
   "attachments": {},
   "cell_type": "markdown",
   "metadata": {},
   "source": [
    "# Exercise 5\n",
    "\n",
    "Related Notes:\n",
    "- Chapter_05_File_IO\n",
    "\n",
    "[![Open In Colab](https://colab.research.google.com/assets/colab-badge.svg)](https://colab.research.google.com/github/njc-cz2-2021/Materials/blob/main/Exercises/Exercise_05_File_IO.ipynb) "
   ]
  },
  {
   "cell_type": "markdown",
   "metadata": {},
   "source": [
    "## Exercise 5.1\n",
    "\n",
    "Write following list `s` into a text file `q1.txt` with each item occupying 1 line.\n",
    "\n",
    ">``` python\n",
    ">s = [chr(i) + '.txt' for i in range(ord('A'), ord('F'))]\n",
    ">```\n",
    "\n",
    "Use following command in Jupyter Notebook to open `q1.txt` to verify the content in the file.\n",
    "\n",
    ">`!notepad q1.txt`"
   ]
  },
  {
   "cell_type": "code",
   "execution_count": 5,
   "metadata": {},
   "outputs": [],
   "source": [
    "s = [chr(i) + '.txt' for i in range(ord('A'), ord('F'))]\n",
    "\n",
    "with open('./output/q1.txt', 'w') as f:\n",
    "    f.writelines([i + '\\n' for i in s])\n"
   ]
  },
  {
   "cell_type": "markdown",
   "metadata": {},
   "source": [
    "## Exercise 5.2\n",
    "\n",
    "For each line of text in `q1.txt`, generate an empty text file and name the file using that line of text. If file already exists, remove it before generating a new file. \n",
    "\n",
    "Use the following code to check if a file exists.\n",
    "\n",
    ">``` python\n",
    ">import os\n",
    ">if os.path.exists(file_path): pass\n",
    ">```\n",
    "\n",
    "Use following command in Jupyter Notebook to confirm that you have generated all files.\n",
    "\n",
    ">``` bash\n",
    ">!ls *.txt\n",
    ">```"
   ]
  },
  {
   "cell_type": "code",
   "execution_count": 8,
   "metadata": {},
   "outputs": [],
   "source": [
    "import os\n",
    "\n",
    "with open('./output/q1.txt') as f:\n",
    "    files = f.readlines()\n",
    "\n",
    "for f in files:\n",
    "    f = f.rstrip()\n",
    "    try:\n",
    "        os.remove('./output/' + f)\n",
    "    except:\n",
    "        pass\n",
    "    with open('./output/' + f, 'w') as alphabet_file:\n",
    "        alphabet_file.write(f)\n",
    "\n",
    "\n",
    "        \n",
    "    \n",
    "\n"
   ]
  },
  {
   "cell_type": "markdown",
   "metadata": {},
   "source": [
    "## Exercise 5.3\n",
    "\n",
    "Write code to generate all the positive integers up to $n$ that are perfect squares and save them in a text file called `PERFECT_SQUARES.TXT`. Note that each line within the file should contain one integer, and the last character within the file should be an end line character."
   ]
  },
  {
   "cell_type": "code",
   "execution_count": 50,
   "metadata": {},
   "outputs": [
    {
     "name": "stdout",
     "output_type": "stream",
     "text": [
      "['0', '1', '4', '9', '16', '25', '36', '49', '64', '81', '100', '121', '144', '169', '196', '225', '256', '289', '324', '361', '400', '441', '484', '529', '576', '625', '676', '729', '784', '841', '900', '961', '1024', '1089', '1156', '1225', '1296', '1369', '1444', '1521', '1600', '1681', '1764', '1849', '1936', '2025', '2116', '2209', '2304', '2401', '2500', '2601', '2704', '2809', '2916', '3025', '3136', '3249', '3364', '3481', '3600', '3721', '3844', '3969', '4096', '4225', '4356', '4489', '4624', '4761', '4900', '5041', '5184', '5329', '5476', '5625', '5776', '5929', '6084', '6241', '6400', '6561', '6724', '6889', '7056', '7225', '7396', '7569', '7744', '7921', '8100', '8281', '8464', '8649', '8836', '9025', '9216', '9409', '9604', '9801', '10000']\n"
     ]
    }
   ],
   "source": [
    "from math import sqrt, ceil\n",
    "\n",
    "n = 10000\n",
    "perfect_squares = [str(i ** 2) for i in range(ceil(sqrt(n))+1)]\n",
    "print(perfect_squares)\n",
    "with open('./resources/PERFECT_SQUARES.TXT', 'w') as f:\n",
    "    f.writelines('\\n'.join(perfect_squares))"
   ]
  },
  {
   "cell_type": "markdown",
   "metadata": {},
   "source": [
    "## Exercise 5.4\n",
    "\n",
    "Write code to generate all the positive integers from $n + 1$ to $n + m$, and then append them to the file used in Exercise 5.3. (Note, do not overwrite the perfect squares from Exercise 5.3) "
   ]
  },
  {
   "cell_type": "code",
   "execution_count": 51,
   "metadata": {},
   "outputs": [],
   "source": [
    "n = 10000\n",
    "m = 90000\n",
    "perfect_squares_plus = [str(i ** 2) for i in range(ceil(sqrt(n))+1,ceil(sqrt(m))+1)]\n",
    "with open('./resources/PERFECT_SQUARES.TXT', 'a') as f:\n",
    "    f.writelines('\\n'+'\\n'.join(perfect_squares_plus))"
   ]
  },
  {
   "cell_type": "markdown",
   "metadata": {},
   "source": [
    "## Exercise 5.5\n",
    "\n",
    "A log of a certain boss fight from a certain game is stored inside the file `log_ex8.csv` under the folder `resources`. The csv file contains the following header.\n",
    "\n",
    "- `'Parse%'`  refers to the performance of the character relative to all other players in the world,\n",
    "- `'Name'` refers to the name of the character in the game,\n",
    "- `'Amount'`  refers to the amount of damage\n",
    "- `'iLvL'`  refers to the quality of the equipment the character is using,\n",
    "- `'iLvL%'` refers to the performance of the player relative to players with similar quality of equipment,\n",
    "- `'Active Time'` refers to the percentage of time spend by the character doing damage during the fight.\n",
    "- `'DPS'` refers to the amount of damage done per second in the fight.\n",
    "\n",
    "Your task is to:\n",
    "\n",
    "- Store the contents of the csv file into a list `records` where each element in the list is itself a list where the elements correspond to the `Parse%`,`Name`,`Amount`,`iLvL`,`iLvL%`,`Active Time`,`DPS` values for each line in the csv file.\n",
    "- Create an empty list called `player_name`.\n",
    "- iterate over each element of `records` appending the player names to `player_name`.\n",
    "- Print each name in `player_name` in alphabetical order."
   ]
  },
  {
   "cell_type": "code",
   "execution_count": 31,
   "metadata": {},
   "outputs": [
    {
     "name": "stdout",
     "output_type": "stream",
     "text": [
      "['Angers', 'Anothervc', 'Avey', 'Biraprie', 'Chrisfumi', 'Chrissinger', 'Darkietank', 'Dewgie', 'Ericlock', 'Exolaris', 'Fyrebird', 'Gamheals', 'Gdook', 'Haloxd', 'Jari', 'Keipra', 'Kieu', 'Knoxvegas', 'Kolhito', 'Lymos', 'Makotoase', 'Masachi', 'Masakins', 'NÃ³mi', 'Ovy', 'Paeldryth', 'Pappaslop', 'Plastral', 'Revtide', 'Spooknspell', 'Stormblast', 'Synesthetix', 'WÃ´es']\n"
     ]
    }
   ],
   "source": [
    "import csv\n",
    "with open('./resources/log_ex8.csv') as f:\n",
    "    header, *reader = csv.reader(f)\n",
    "    records = [row for row in reader]\n",
    "player_name = sorted([row[1] for row in records])\n",
    "print(player_name)\n",
    "\n"
   ]
  },
  {
   "cell_type": "markdown",
   "metadata": {},
   "source": [
    "## Exercise 5.6\n",
    "\n",
    "Download the file: https://archive.ics.uci.edu/ml/machine-learning-databases/iris/iris.data\n",
    "\n",
    "Write code to read and store the contents of this comma separated file within a 2D List, $L$, such that $L[i]$ corresponds to the sample entry on the $i$-th line of the file, and $L[i][j]$ corresponds to the $j$-th value of the $i$-th entry.\n",
    "Print the contents of the 2D List to verify that you have stored the contents correctly.\n"
   ]
  },
  {
   "cell_type": "code",
   "execution_count": 32,
   "metadata": {},
   "outputs": [
    {
     "name": "stdout",
     "output_type": "stream",
     "text": [
      "[['5.1', '3.5', '1.4', '0.2', 'Iris-setosa'], ['4.9', '3.0', '1.4', '0.2', 'Iris-setosa'], ['4.7', '3.2', '1.3', '0.2', 'Iris-setosa'], ['4.6', '3.1', '1.5', '0.2', 'Iris-setosa'], ['5.0', '3.6', '1.4', '0.2', 'Iris-setosa'], ['5.4', '3.9', '1.7', '0.4', 'Iris-setosa'], ['4.6', '3.4', '1.4', '0.3', 'Iris-setosa'], ['5.0', '3.4', '1.5', '0.2', 'Iris-setosa'], ['4.4', '2.9', '1.4', '0.2', 'Iris-setosa'], ['4.9', '3.1', '1.5', '0.1', 'Iris-setosa'], ['5.4', '3.7', '1.5', '0.2', 'Iris-setosa'], ['4.8', '3.4', '1.6', '0.2', 'Iris-setosa'], ['4.8', '3.0', '1.4', '0.1', 'Iris-setosa'], ['4.3', '3.0', '1.1', '0.1', 'Iris-setosa'], ['5.8', '4.0', '1.2', '0.2', 'Iris-setosa'], ['5.7', '4.4', '1.5', '0.4', 'Iris-setosa'], ['5.4', '3.9', '1.3', '0.4', 'Iris-setosa'], ['5.1', '3.5', '1.4', '0.3', 'Iris-setosa'], ['5.7', '3.8', '1.7', '0.3', 'Iris-setosa'], ['5.1', '3.8', '1.5', '0.3', 'Iris-setosa'], ['5.4', '3.4', '1.7', '0.2', 'Iris-setosa'], ['5.1', '3.7', '1.5', '0.4', 'Iris-setosa'], ['4.6', '3.6', '1.0', '0.2', 'Iris-setosa'], ['5.1', '3.3', '1.7', '0.5', 'Iris-setosa'], ['4.8', '3.4', '1.9', '0.2', 'Iris-setosa'], ['5.0', '3.0', '1.6', '0.2', 'Iris-setosa'], ['5.0', '3.4', '1.6', '0.4', 'Iris-setosa'], ['5.2', '3.5', '1.5', '0.2', 'Iris-setosa'], ['5.2', '3.4', '1.4', '0.2', 'Iris-setosa'], ['4.7', '3.2', '1.6', '0.2', 'Iris-setosa'], ['4.8', '3.1', '1.6', '0.2', 'Iris-setosa'], ['5.4', '3.4', '1.5', '0.4', 'Iris-setosa'], ['5.2', '4.1', '1.5', '0.1', 'Iris-setosa'], ['5.5', '4.2', '1.4', '0.2', 'Iris-setosa'], ['4.9', '3.1', '1.5', '0.1', 'Iris-setosa'], ['5.0', '3.2', '1.2', '0.2', 'Iris-setosa'], ['5.5', '3.5', '1.3', '0.2', 'Iris-setosa'], ['4.9', '3.1', '1.5', '0.1', 'Iris-setosa'], ['4.4', '3.0', '1.3', '0.2', 'Iris-setosa'], ['5.1', '3.4', '1.5', '0.2', 'Iris-setosa'], ['5.0', '3.5', '1.3', '0.3', 'Iris-setosa'], ['4.5', '2.3', '1.3', '0.3', 'Iris-setosa'], ['4.4', '3.2', '1.3', '0.2', 'Iris-setosa'], ['5.0', '3.5', '1.6', '0.6', 'Iris-setosa'], ['5.1', '3.8', '1.9', '0.4', 'Iris-setosa'], ['4.8', '3.0', '1.4', '0.3', 'Iris-setosa'], ['5.1', '3.8', '1.6', '0.2', 'Iris-setosa'], ['4.6', '3.2', '1.4', '0.2', 'Iris-setosa'], ['5.3', '3.7', '1.5', '0.2', 'Iris-setosa'], ['5.0', '3.3', '1.4', '0.2', 'Iris-setosa'], ['7.0', '3.2', '4.7', '1.4', 'Iris-versicolor'], ['6.4', '3.2', '4.5', '1.5', 'Iris-versicolor'], ['6.9', '3.1', '4.9', '1.5', 'Iris-versicolor'], ['5.5', '2.3', '4.0', '1.3', 'Iris-versicolor'], ['6.5', '2.8', '4.6', '1.5', 'Iris-versicolor'], ['5.7', '2.8', '4.5', '1.3', 'Iris-versicolor'], ['6.3', '3.3', '4.7', '1.6', 'Iris-versicolor'], ['4.9', '2.4', '3.3', '1.0', 'Iris-versicolor'], ['6.6', '2.9', '4.6', '1.3', 'Iris-versicolor'], ['5.2', '2.7', '3.9', '1.4', 'Iris-versicolor'], ['5.0', '2.0', '3.5', '1.0', 'Iris-versicolor'], ['5.9', '3.0', '4.2', '1.5', 'Iris-versicolor'], ['6.0', '2.2', '4.0', '1.0', 'Iris-versicolor'], ['6.1', '2.9', '4.7', '1.4', 'Iris-versicolor'], ['5.6', '2.9', '3.6', '1.3', 'Iris-versicolor'], ['6.7', '3.1', '4.4', '1.4', 'Iris-versicolor'], ['5.6', '3.0', '4.5', '1.5', 'Iris-versicolor'], ['5.8', '2.7', '4.1', '1.0', 'Iris-versicolor'], ['6.2', '2.2', '4.5', '1.5', 'Iris-versicolor'], ['5.6', '2.5', '3.9', '1.1', 'Iris-versicolor'], ['5.9', '3.2', '4.8', '1.8', 'Iris-versicolor'], ['6.1', '2.8', '4.0', '1.3', 'Iris-versicolor'], ['6.3', '2.5', '4.9', '1.5', 'Iris-versicolor'], ['6.1', '2.8', '4.7', '1.2', 'Iris-versicolor'], ['6.4', '2.9', '4.3', '1.3', 'Iris-versicolor'], ['6.6', '3.0', '4.4', '1.4', 'Iris-versicolor'], ['6.8', '2.8', '4.8', '1.4', 'Iris-versicolor'], ['6.7', '3.0', '5.0', '1.7', 'Iris-versicolor'], ['6.0', '2.9', '4.5', '1.5', 'Iris-versicolor'], ['5.7', '2.6', '3.5', '1.0', 'Iris-versicolor'], ['5.5', '2.4', '3.8', '1.1', 'Iris-versicolor'], ['5.5', '2.4', '3.7', '1.0', 'Iris-versicolor'], ['5.8', '2.7', '3.9', '1.2', 'Iris-versicolor'], ['6.0', '2.7', '5.1', '1.6', 'Iris-versicolor'], ['5.4', '3.0', '4.5', '1.5', 'Iris-versicolor'], ['6.0', '3.4', '4.5', '1.6', 'Iris-versicolor'], ['6.7', '3.1', '4.7', '1.5', 'Iris-versicolor'], ['6.3', '2.3', '4.4', '1.3', 'Iris-versicolor'], ['5.6', '3.0', '4.1', '1.3', 'Iris-versicolor'], ['5.5', '2.5', '4.0', '1.3', 'Iris-versicolor'], ['5.5', '2.6', '4.4', '1.2', 'Iris-versicolor'], ['6.1', '3.0', '4.6', '1.4', 'Iris-versicolor'], ['5.8', '2.6', '4.0', '1.2', 'Iris-versicolor'], ['5.0', '2.3', '3.3', '1.0', 'Iris-versicolor'], ['5.6', '2.7', '4.2', '1.3', 'Iris-versicolor'], ['5.7', '3.0', '4.2', '1.2', 'Iris-versicolor'], ['5.7', '2.9', '4.2', '1.3', 'Iris-versicolor'], ['6.2', '2.9', '4.3', '1.3', 'Iris-versicolor'], ['5.1', '2.5', '3.0', '1.1', 'Iris-versicolor'], ['5.7', '2.8', '4.1', '1.3', 'Iris-versicolor'], ['6.3', '3.3', '6.0', '2.5', 'Iris-virginica'], ['5.8', '2.7', '5.1', '1.9', 'Iris-virginica'], ['7.1', '3.0', '5.9', '2.1', 'Iris-virginica'], ['6.3', '2.9', '5.6', '1.8', 'Iris-virginica'], ['6.5', '3.0', '5.8', '2.2', 'Iris-virginica'], ['7.6', '3.0', '6.6', '2.1', 'Iris-virginica'], ['4.9', '2.5', '4.5', '1.7', 'Iris-virginica'], ['7.3', '2.9', '6.3', '1.8', 'Iris-virginica'], ['6.7', '2.5', '5.8', '1.8', 'Iris-virginica'], ['7.2', '3.6', '6.1', '2.5', 'Iris-virginica'], ['6.5', '3.2', '5.1', '2.0', 'Iris-virginica'], ['6.4', '2.7', '5.3', '1.9', 'Iris-virginica'], ['6.8', '3.0', '5.5', '2.1', 'Iris-virginica'], ['5.7', '2.5', '5.0', '2.0', 'Iris-virginica'], ['5.8', '2.8', '5.1', '2.4', 'Iris-virginica'], ['6.4', '3.2', '5.3', '2.3', 'Iris-virginica'], ['6.5', '3.0', '5.5', '1.8', 'Iris-virginica'], ['7.7', '3.8', '6.7', '2.2', 'Iris-virginica'], ['7.7', '2.6', '6.9', '2.3', 'Iris-virginica'], ['6.0', '2.2', '5.0', '1.5', 'Iris-virginica'], ['6.9', '3.2', '5.7', '2.3', 'Iris-virginica'], ['5.6', '2.8', '4.9', '2.0', 'Iris-virginica'], ['7.7', '2.8', '6.7', '2.0', 'Iris-virginica'], ['6.3', '2.7', '4.9', '1.8', 'Iris-virginica'], ['6.7', '3.3', '5.7', '2.1', 'Iris-virginica'], ['7.2', '3.2', '6.0', '1.8', 'Iris-virginica'], ['6.2', '2.8', '4.8', '1.8', 'Iris-virginica'], ['6.1', '3.0', '4.9', '1.8', 'Iris-virginica'], ['6.4', '2.8', '5.6', '2.1', 'Iris-virginica'], ['7.2', '3.0', '5.8', '1.6', 'Iris-virginica'], ['7.4', '2.8', '6.1', '1.9', 'Iris-virginica'], ['7.9', '3.8', '6.4', '2.0', 'Iris-virginica'], ['6.4', '2.8', '5.6', '2.2', 'Iris-virginica'], ['6.3', '2.8', '5.1', '1.5', 'Iris-virginica'], ['6.1', '2.6', '5.6', '1.4', 'Iris-virginica'], ['7.7', '3.0', '6.1', '2.3', 'Iris-virginica'], ['6.3', '3.4', '5.6', '2.4', 'Iris-virginica'], ['6.4', '3.1', '5.5', '1.8', 'Iris-virginica'], ['6.0', '3.0', '4.8', '1.8', 'Iris-virginica'], ['6.9', '3.1', '5.4', '2.1', 'Iris-virginica'], ['6.7', '3.1', '5.6', '2.4', 'Iris-virginica'], ['6.9', '3.1', '5.1', '2.3', 'Iris-virginica'], ['5.8', '2.7', '5.1', '1.9', 'Iris-virginica'], ['6.8', '3.2', '5.9', '2.3', 'Iris-virginica'], ['6.7', '3.3', '5.7', '2.5', 'Iris-virginica'], ['6.7', '3.0', '5.2', '2.3', 'Iris-virginica'], ['6.3', '2.5', '5.0', '1.9', 'Iris-virginica'], ['6.5', '3.0', '5.2', '2.0', 'Iris-virginica'], ['6.2', '3.4', '5.4', '2.3', 'Iris-virginica'], ['5.9', '3.0', '5.1', '1.8', 'Iris-virginica'], []]\n"
     ]
    }
   ],
   "source": [
    "import csv\n",
    "\n",
    "with open('./resources/IRIS.data') as f:\n",
    "    L = [row for row in csv.reader(f)]\n",
    "print(L)"
   ]
  },
  {
   "cell_type": "markdown",
   "metadata": {},
   "source": [
    "## Exercise 5.7\n",
    "\n",
    "Each line in the file at: http://itu.dk/people/pagh/sad12/primes1000000.txt represents a prime number below 1,000,000.\n",
    " \n",
    "Write a function that uses the above file to test if a given positive integer below 1,000,000 is a prime number. If the given numbers exceeds 1,000,000, then utilise a separate function to calculate if it is a prime. "
   ]
  },
  {
   "cell_type": "code",
   "execution_count": null,
   "metadata": {},
   "outputs": [
    {
     "name": "stdout",
     "output_type": "stream",
     "text": [
      "0.5354376999894157\n",
      "10.60793240001658\n",
      "is prime\n",
      "yay prime\n"
     ]
    }
   ],
   "source": [
    "from math import sqrt, ceil\n",
    "\n",
    "def get_factor(n) -> int:\n",
    "    \"Gets factor of number n if factor is within 1000000\"\n",
    "    with open('./resources/primes1000000.txt') as f:\n",
    "        prime = 0\n",
    "        while prime ** 2 <= n and prime < 999983:\n",
    "            prime = int(f.readline())\n",
    "            if n % prime == 0:\n",
    "                return (prime)\n",
    "        return (None)\n",
    "    \n",
    "#Inefficient method\n",
    "# def is_prime(n):\n",
    "#     with open('./resources/primes1000000.txt') as f:\n",
    "#         return str(n) + '\\n' in f.readlines()\n",
    "\n",
    "def get_factor_large(n):\n",
    "    \"Gets factor of number if factor is within 1000000\"\n",
    "    for i in range(999996, ceil(sqrt(n))+6, 6):\n",
    "        #all primes are 6k+1 or 6k-1, k is integer\n",
    "        if n % (i-1) == 0:\n",
    "            return (i-1)\n",
    "        if n % (i+1) == 0:\n",
    "            return (i+1)\n",
    "    return (None)\n",
    "        \n",
    "\n",
    "n = int(input(\"Input positive integer:\")) \n",
    "#54192375525768481 (17digit square no.) takes ~10s to compute\n",
    "prime_factor = get_factor(n) \n",
    "if prime_factor != None:\n",
    "    print('no boohoo ',prime_factor,' is factor')\n",
    "elif n < 1000000000000: #ensures SQRT of number not in file\n",
    "    print('yay prime')\n",
    "else:\n",
    "    prime_factor = get_factor_large(n)\n",
    "    if prime_factor != None:\n",
    "        print('no boohoo ',prime_factor,' is factor')\n",
    "    else:\n",
    "        print('yay prime')"
   ]
  },
  {
   "cell_type": "code",
   "execution_count": 37,
   "metadata": {},
   "outputs": [
    {
     "name": "stdout",
     "output_type": "stream",
     "text": [
      "no boohoo  232792559  is factor\n",
      "no boohoo  232792559  is factor\n",
      "no boohoo  232792559  is factor\n",
      "no boohoo  232792559  is factor\n",
      "no boohoo  232792559  is factor\n"
     ]
    },
    {
     "data": {
      "text/plain": [
       "10.103103820001706"
      ]
     },
     "execution_count": 37,
     "metadata": {},
     "output_type": "execute_result"
    }
   ],
   "source": [
    "from timeit import timeit\n",
    "\n",
    "def get_factor(n):\n",
    "    with open('./resources/primes1000000.txt') as f:\n",
    "        prime = 0\n",
    "        while prime ** 2 <= n and prime < 999983:\n",
    "            prime = int(f.readline())\n",
    "            if n % prime == 0:\n",
    "                return (prime)\n",
    "        return (None)\n",
    "\n",
    "def main():\n",
    "    n = 54192375525768481\n",
    "    prime_factor = get_factor(n)\n",
    "    if prime_factor != None:\n",
    "        print('no boohoo ',prime_factor,' is factor')\n",
    "    elif n < 1000000:\n",
    "        print('yay prime')\n",
    "    else:\n",
    "        prime_factor = get_factor_large(n)\n",
    "        if prime_factor != None:\n",
    "            print('no boohoo ',prime_factor,' is factor')\n",
    "        else:\n",
    "            print('yay prime')\n",
    "timeit(main,number=5) / 5"
   ]
  },
  {
   "cell_type": "markdown",
   "metadata": {},
   "source": [
    "## Exercise 5.8\n",
    "\n",
    "A mathematical equation $y=f(x)$ can be visualized on a cartesian plane as the set of all the points $(x,y)$ where $y=f(x)$. Write a code that \n",
    "\n",
    "1. generates 100 points that satisfy the equation $y=x^2$ for $-10\\leq x\\leq 10$ (for simplicity, take the uniform spacing for the $x$-values of the points),and\n",
    "2. saves them into a text file named `ex8_8.txt`. Each line in the file is of the form $(x,y)$, \n",
    "3. load the points from `ex8_8.txt` and using the module `matplotlib`, show the plot.\n"
   ]
  },
  {
   "cell_type": "code",
   "execution_count": 1,
   "metadata": {},
   "outputs": [],
   "source": [
    "#initialize ex5_8.txt\n",
    "import csv\n",
    "\n",
    "def f(x):\n",
    "    return x ** 2 \n",
    "\n",
    "n, x_min, x_max = 100, -10, 10  #equation parameters\n",
    "point_list = [x_min + i * (x_max - x_min) / (n) for i in range(0, n + 1) ]\n",
    "point_list = [(x, f(x)) for x in point_list] #list of points\n",
    "with open('./resources/ex5_8.txt', 'w') as txt:\n",
    "    txt.writelines('\\n'.join(map(str, point_list)))\n",
    "    \n"
   ]
  },
  {
   "cell_type": "code",
   "execution_count": 2,
   "metadata": {},
   "outputs": [
    {
     "data": {
      "text/plain": [
       "[<matplotlib.lines.Line2D at 0x1e5d45531d0>]"
      ]
     },
     "execution_count": 2,
     "metadata": {},
     "output_type": "execute_result"
    },
    {
     "data": {
      "image/png": "[encoded data removed]",
      "text/plain": [
       "<Figure size 640x480 with 1 Axes>"
      ]
     },
     "metadata": {},
     "output_type": "display_data"
    }
   ],
   "source": [
    "#open ex5_8.txt\n",
    "import matplotlib.pyplot as plt\n",
    "with open('./resources/ex5_8.txt', 'r') as txt:\n",
    "    data = txt.readlines()\n",
    "point_list = [eval(point.rstrip('\\n')) for point in data]\n",
    "x, y = [point[0] for point in point_list], [point[1] for point in point_list]\n",
    "plt.plot(x, y)"
   ]
  },
  {
   "cell_type": "markdown",
   "metadata": {},
   "source": [
    "## Exercise 5.9\n",
    "\n",
    "A text file, `NOI_24_RESULT.txt` contains the results of the medallist recipients for the 24th National Olympiad in Informatics.\n",
    "\n",
    "Write a code to:\n",
    "\n",
    "- read the data from the text file,\n",
    "- store the school name and medal counts in a Python dictionary `medal_count` where the school name is the key and the associated value is a tuple of the form `(GOLD, SILVER, BRONZE)`,\n",
    "- print out the top 5 school with the highest number of medals won, regardless of the medal type. "
   ]
  },
  {
   "cell_type": "code",
   "execution_count": 16,
   "metadata": {},
   "outputs": [
    {
     "name": "stdout",
     "output_type": "stream",
     "text": [
      "['Raffles Institution medals = 10', 'Hwa Chong Institution medals = 10', 'NUS High School Of Mathematics And Science medals = 10', 'United World College South East Asia Dover Campus medals = 8', 'Anglo-Chinese School Independent medals = 5']\n"
     ]
    }
   ],
   "source": [
    "with open('./resources/NOI_24_result.CSV', 'r') as f:\n",
    "    data = f.readlines()\n",
    "gold, silver, bronze = [], [], []\n",
    "school_set = set()\n",
    "current_medal = \"Gold\"\n",
    "for i in data:\n",
    "    i = i.rstrip('\\n')\n",
    "    if i == '': continue\n",
    "    if current_medal == \"Gold\":\n",
    "        if i != \"Silver\": \n",
    "            gold.append(i.split(', ')[-1]) #appends school to list\n",
    "        else: \n",
    "            current_medal = \"Silver\"\n",
    "            school_set.update(gold)\n",
    "    elif current_medal == \"Silver\":\n",
    "        if i != \"Bronze\": silver.append(i.split(', ')[-1])\n",
    "        else:\n",
    "            current_medal = \"Bronze\"\n",
    "            school_set.update(silver)\n",
    "    elif current_medal == \"Bronze\":\n",
    "        bronze.append(i.split(', ')[-1])\n",
    "school_set.update(bronze)\n",
    "medal_count = {school: (gold.count(school), silver.count(school), bronze.count(school)) for school in school_set}\n",
    "top_schools = sorted(medal_count.items(),key = lambda a: sum(a[1]), reverse = True)\n",
    "print([f\"{i[0]} medals = {sum(i[1])}\" for i in top_schools[:5]])\n",
    "\n"
   ]
  },
  {
   "attachments": {},
   "cell_type": "markdown",
   "metadata": {},
   "source": [
    "## Exercise 5.10\n",
    "\n",
    "A text file, `MARKET_PRICES.TXT`, contains the in-game prices for 6 items, Widowbloom, Rising Glory, Marrowroot, Vigil's Torch, Nighshade and Spectral Flask of Power from 1 December 2020 to 3 March 2021. Each line contains tab-delimited data that shows the date and the prices (in copper coins) of the 6 items.\n",
    "\n",
    "Each line is in the format:\n",
    "\n",
    ">``` text\n",
    ">YYYY-MM-DD\\tWIDOWBLOOM\\tRISING_GLORY\\t\\MARROWROOT\\tVIGILS_TORCH\\tNIGHTSHADE\\tSPECTRAL_FLASK_OF_POWER\\n\n",
    ">```\n",
    "\n",
    "- The date is of the form `YYYY-MM-DD`, for example, `2020-12-03` is 3rd December, 2020.\n",
    "- WIDOWBLOOM, RISING_GLORY, MARROWROOT, VIGILS_TORCH, NIGHTSHADE, SPECTRAL_FLASK_OF_POWER are all integers.\n",
    "- `\\t` represents the tab character\n",
    "- `\\n` represents the newline character\n",
    "\n",
    "The text file is stored in ascending order of date and time."
   ]
  },
  {
   "cell_type": "markdown",
   "metadata": {},
   "source": [
    "### Task 1 \n",
    "\n",
    "Write a program to:\n",
    "\n",
    "- read the price data from the text file,\n",
    "- for each of the 6 items:\n",
    "    - find the highest price and print this value,\n",
    "    - find the lowest price and print this value.\n",
    "\n"
   ]
  },
  {
   "cell_type": "markdown",
   "metadata": {},
   "source": [
    "### Task 2\n",
    "\n",
    "Suppose you want to play the market by buying and selling the 6 items above, one way to decide on items to invest in is by using the mean and variance of the daily rate of returns of the items. The latter is used to quantify the risk of holding such item.\n",
    "\n",
    "For an item $j$, \n",
    "- the **daily rate of return** of day $i$ to $i+1$, denoted as $r_i$ is defined to be $$r_i=\\frac{p_{i+1}-p_{i}}{p_i},$$ where $p_{i+1}$ and $p_i$ are prices of the item on day $i+1$ and day $i$ respectively,\n",
    "- the mean of the daily rate of returns, denoted as $\\overline{r}$, is just $\\frac{\\sum r_i}{n}$, where $n$ is the number of daily rate of returns recorded,\n",
    "- the variance of the daily rate of returns is $$\\frac{\\sum{(r_i-\\overline{r})^2}}{n},$$ where $\\overline{r}$ is the mean of the daily rate of returns and again $n$ is the number of daily returns recorded.\n",
    "\n",
    "Write a program to:\n",
    "\n",
    "- for each of the 6 items:\n",
    "    - find the mean of the daily rate of return,\n",
    "    - find the variance of the daily rate of return.\n",
    "    "
   ]
  },
  {
   "cell_type": "code",
   "execution_count": 45,
   "metadata": {},
   "outputs": [
    {
     "name": "stdout",
     "output_type": "stream",
     "text": [
      "\n",
      "              max: 9965, \n",
      "              min: 10003, \n",
      "              mean_ror: -0.0010376444950615901,\n",
      "              variance_ror: 0.022837016720083883\n",
      "\n",
      "              max: 7679, \n",
      "              min: 2000, \n",
      "              mean_ror: 0.016867301821187116,\n",
      "              variance_ror: 0.0361999924827622\n",
      "\n",
      "              max: 8677, \n",
      "              min: 2402, \n",
      "              mean_ror: 0.005044440183475768,\n",
      "              variance_ror: 0.03562764658071406\n",
      "\n",
      "              max: 9325, \n",
      "              min: 10086, \n",
      "              mean_ror: 0.0029710559563444097,\n",
      "              variance_ror: 0.027762880221427973\n",
      "\n",
      "              max: 9857, \n",
      "              min: 10310, \n",
      "              mean_ror: -0.00591999274014976,\n",
      "              variance_ror: 0.017598279761829583\n",
      "\n",
      "              max: 98674, \n",
      "              min: 100644, \n",
      "              mean_ror: -0.00774125888905432,\n",
      "              variance_ror: 0.004586176455299761\n"
     ]
    }
   ],
   "source": [
    "import csv \n",
    "import numpy as np\n",
    "\n",
    "with open('./resources/MARKET_PRICES.txt') as f:\n",
    "    reader = csv.reader(f, delimiter = '\\t')\n",
    "    # widowbloom, risingglory, marrowroot, vigilstorch, nightshade, flask\n",
    "    header, *data = reader\n",
    "    dates, *games = zip(*data)\n",
    "    games_rate_of_return = [[int(game[i+1])/int(game[i])-1 for i in range(len(game)-1)] for game in games]\n",
    "    for i, v in enumerate(games): \n",
    "        print(f\"\"\"\n",
    "              max: {max(v)}, \n",
    "              min: {min(v)}, \n",
    "              mean_ror: {np.mean(games_rate_of_return[i])},\n",
    "              variance_ror: {np.var(games_rate_of_return[i])}\"\"\")\n",
    "\n",
    "\n",
    "\n"
   ]
  },
  {
   "cell_type": "markdown",
   "metadata": {},
   "source": [
    "## Exercise 5.11 Jovie/2025\n",
    "\n",
    "A csv file, `homedepot.csv`, contains the locations of all the Home Depot stores in the US. \n",
    "\n",
    "The file is 2018 rows long, and all text fields are quoted.\n",
    "\n",
    "For each store:\n",
    "\n",
    "- The first 2 columns provide the longtitude and latitude of the store respectively. (Not latitude and longtitude)\n",
    "\n",
    "- The third column is in the form \"HD - `CITY` - Store `STORENO`\", where `CITY` is the city where the store is located, and `STORENO` is the store number.\n",
    "\n",
    "- The fourth column is the address of the store, including its ZIP code.\n",
    "\n",
    "### Task 1 \n",
    "\n",
    "Write a program to:\n",
    "\n",
    "- Get user input of a city\n",
    "- Print the addresses of all home depots in that city\n"
   ]
  },
  {
   "cell_type": "code",
   "execution_count": 4,
   "metadata": {},
   "outputs": [
    {
     "name": "stdout",
     "output_type": "stream",
     "text": [
      "650 PONCE DE LEON\n",
      "ATLANTA, GA  30308\n",
      "(404) 892-8042\n",
      "\n",
      "2525 PIEDMONT ROAD NE\n",
      "ATLANTA, GA  30324\n",
      "(404) 841-5608\n",
      "\n",
      "6400 PCHTREE-DUNWOODY RD\n",
      "ATLANTA, GA  30328\n",
      "(770) 804-8065\n",
      "\n",
      "1032 RESEARCH CENTER\n",
      "ATLANTA, GA  30331\n",
      "(404) 691-2077\n",
      "\n",
      "2450 CUMBERLAND PKWY\n",
      "ATLANTA, GA  30339\n",
      "(770) 432-9930\n",
      "\n",
      "2455 PACES FERRY RD\n",
      "ATLANTA, GA  30339\n",
      "(770) 433-8211\n",
      "\n",
      "1201 HAMMOND DRIVE\n",
      "ATLANTA, GA  30346\n",
      "(770) 913-0111\n",
      "\n",
      "3885 JONESBORO RD SE\n",
      "ATLANTA, GA  30354\n",
      "(404) 361-5634\n",
      "\n",
      "4343 TILLY MILL RD\n",
      "ATLANTA, GA  30360\n",
      "(770) 452-8858\n"
     ]
    }
   ],
   "source": [
    "import csv\n",
    "city = input(\"City: \").upper().rstrip()\n",
    "with open('./resources/homedepot.csv') as f:\n",
    "    reader = csv.reader(f)\n",
    "    addresses = [store[3] for store in reader if city in store[2]]\n",
    "print('\\n\\n'.join(addresses))\n",
    "    #YOUR CODE HERE"
   ]
  },
  {
   "attachments": {
    "atan2.png": {
     "image/png": "[encoded data removed]"
    }
   },
   "cell_type": "markdown",
   "metadata": {},
   "source": [
    "### Task 2\n",
    "\n",
    "Suppose you want to create a program to direct the user to the nearest Home Depot that \n",
    "\n",
    "The spherical distance between 2 points on Earth, with spherical coordinates $(\\phi_1, \\lambda_1)$ and $(\\phi_2, \\lambda_2)$ respectively, can be calculated using the haversine formula, where the distance $d$ is given by\n",
    "\n",
    "$$d = 2R \\operatorname{ atan2}(\\sqrt{a}, \\sqrt{1-a}) $$\n",
    "\n",
    "where \n",
    "- $a = \\sin^2(\\frac{\\Delta \\phi}{2}) + \\cos \\phi_1 ⋅ \\cos \\phi_2 ⋅ \\sin^2(\\frac{\\Delta\\lambda}{2})$,  and \n",
    "- $\\Delta \\phi = \\phi_2 - \\phi_1$, $\\Delta \\lambda = \\lambda_2 - \\lambda_1$\n",
    "- $R$ is the Earth's radius (in km). (Take $R = 6371$)\n",
    "\n",
    "The $\\operatorname{atan2}(y, x)$ function is used to find the angle between the positive $x$-axis and the ray from the origin $(0, 0)$ to $(x, y)$.\n",
    "\n",
    "<center>\n",
    "\n",
    "![atan2.png](attachment:atan2.png)\n",
    "\n",
    "</center>\n",
    "\n",
    "The benefit of using $\\operatorname{atan2}(y, x)$ instead of $\\operatorname{atan}(\\frac{y}{x})$ is that $\\operatorname{atan}(\\frac{y}{x})$ does not consider the quadrant that the point lies in.\n",
    "\n",
    "Take note that $\\operatorname{atan2}()$ takes 2 arguments while $\\operatorname{atan}()$ takes only 1 argument\n",
    "\n",
    "Here is a table to illustrate the differences.\n",
    "\n",
    "<center>\n",
    "\n",
    "|Points  |$\\operatorname{atan}(\\frac{y}{x})$  |$\\operatorname{atan2}(y, x)$|\n",
    "|------  |-----------    |-----------|\n",
    "|$(1, 1)$  |$\\frac\\pi4$    |$\\frac\\pi4$|\n",
    "|$(-1, -1)$|$-\\frac{3\\pi}4$|$\\frac\\pi4$|\n",
    "|$(-1, 0)$ |$-\\pi$         |$0$        |\n",
    "|$(1, 0)$  |$\\pi$          |$0$        |\n",
    "\n",
    "</center>\n",
    "\n",
    "The `atan2()` function can be found in the `math` module in Python.\n",
    "\n",
    "Write a program to:\n",
    "\n",
    "- Get user input of coordinates.\n",
    "    - Coordinates will be entered as a string without parenthesis.\n",
    "    - e.g. `29.979174, 31.415926`\n",
    "- Find the 5 nearest Home Depot stores to the coordinates.\n",
    "    - Find the distance using the formula above.\n",
    "    - Remember to convert coordinates from degrees to radians.\n",
    "- Print the address of the Home Depot stores by distance in ascending order."
   ]
  },
  {
   "cell_type": "code",
   "execution_count": null,
   "metadata": {},
   "outputs": [
    {
     "name": "stdout",
     "output_type": "stream",
     "text": [
      "4320 NUHOU STREET\n",
      "LIHUE-KAUAI, HI  96766\n",
      "(808) 632-2740 \n",
      "\n",
      "4600 KAPOLEI PARKWAY\n",
      "KAPOLEI, HI  96707\n",
      "(808) 674-6120 \n",
      "\n",
      "1021 KAMEHAMEHA HIGHWAY\n",
      "PEARL CITY, HI  96782\n",
      "(808) 455-1200 \n",
      "\n",
      "421 ALAKAWA ST\n",
      "HONOLULU, HI  96817\n",
      "(808) 521-7355 \n",
      "\n",
      "100 PAKAULA STREET\n",
      "KAHULUI, HI  96732\n",
      "(808) 893-7800 \n",
      "\n"
     ]
    }
   ],
   "source": [
    "from math import atan2, sin, cos, sqrt, radians\n",
    "\n",
    "def get_distance(p1: tuple, p2: tuple) -> float:\n",
    "    a = sin((p2[0] - p1[0])/2)**2 + cos(p1[0])*cos(p2[0])*sin((p1[1]-p2[1])/2)**2\n",
    "    # 2*6371=\n",
    "    return 12742*atan2(sqrt(a),sqrt(1-a))\n",
    "\n",
    "def get_coords(coords: str) -> tuple:\n",
    "    input_lat, input_long = coords.split(',')\n",
    "    return (radians(float(input_lat.rstrip())), radians(float(input_long.rstrip())))\n",
    "\n",
    "input_coord = get_coords(input(\"coords: \"))\n",
    "top_5_closest = [(None, 25000), (None, 25000), (None, 25000), (None, 25000), (None, 25000)]\n",
    "benchmark = top_5_closest[-1][1]\n",
    "with open('./resources/homedepot.csv') as f:\n",
    "    reader = csv.reader(f)\n",
    "    for store in reader:\n",
    "        store_distance = get_distance(input_coord, (radians(float(store[1])),radians(float(store[0]))))\n",
    "        if store_distance < benchmark:\n",
    "            index = len(top_5_closest) - 1\n",
    "            while index > 0:\n",
    "                if store_distance < top_5_closest[index-1][1]: index-=1\n",
    "                else: break\n",
    "            top_5_closest.insert(index, (store[3], store_distance))\n",
    "            top_5_closest.pop()\n",
    "            benchmark = top_5_closest[-1][1]\n",
    "\n",
    "\n",
    "for store, distance in top_5_closest: print(store, '\\n')\n",
    "    #YOUR CODE HERE"
   ]
  }
 ],
 "metadata": {
  "kernelspec": {
   "display_name": "Python 3",
   "language": "python",
   "name": "python3"
  },
  "language_info": {
   "codemirror_mode": {
    "name": "ipython",
    "version": 3
   },
   "file_extension": ".py",
   "mimetype": "text/x-python",
   "name": "python",
   "nbconvert_exporter": "python",
   "pygments_lexer": "ipython3",
   "version": "3.11.3"
  },
  "vscode": {
   "interpreter": {
    "hash": "a42ccb73e7d9bfdf27e036f1d2b8b681e55fc0743cc5586bc2474d4a60f4b886"
   }
  }
 },
 "nbformat": 4,
 "nbformat_minor": 2
}
