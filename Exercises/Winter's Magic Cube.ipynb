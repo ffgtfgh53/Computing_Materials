{
 "cells": [
  {
   "attachments": {},
   "cell_type": "markdown",
   "metadata": {},
   "source": [
    "# Winter's Magic Cube\n",
    "\n",
    "Rubiks' cubes are popular kids toys that are not only fun but also brain-teasing. They come in many different sizes, from 2X2 and 3X3 all the way to 17X17. A 2X2 cube has over 3 million possible combinations, while a 3X3 cube has over 43 quintillion possible combinations."
   ]
  },
  {
   "cell_type": "markdown",
   "metadata": {},
   "source": [
    "## Task 1: My Cube Is Now 2D\n",
    "\n",
    "A 2X2 cube has 8 individual pieces and 6 different colours. \n",
    "\n",
    "<center>\n",
    "\n",
    "<img src=\"/workspaces/Materials/Exercises/img/2x2_cube.jpg\" width = 300><br>\n",
    "\n",
    "</center>\n",
    "\n",
    "In python, it is not easy to represent this cube in 3D, hence, we must flatten it to 2D. An example is shown below, where the face in the center is the face facing the player and the face on the far right is facing opposite the player. We can call this the list representation of a cube.\n",
    "\n",
    "<center>\n",
    "\n",
    "<img src=\"/workspaces/Materials/Exercises/img/2d_cube.png\" width = 500><br>\n",
    "\n",
    "</center>\n",
    "\n",
    "This cube can be represented in nested lists. Each face is its own list of colours, in the order of: [top left, top right, bottom left, bottom right]. Each colour is a variable that stores the ANSI value of that colour.\n",
    "\n",
    "``` python\n",
    "unscrambled_cube = [[red, red, red, red],              #front face\n",
    "                    [blue, blue, blue, blue],          #right face\n",
    "                    [orange, orange, orange, orange],  #back face\n",
    "                    [green, green, green, green],      #left face\n",
    "                    [yellow, yellow, yellow, yellow],  #top face\n",
    "                    [white, white, white, white]]      #bottom face\n",
    "```\n",
    "\n",
    "Store the above cube state in this format in `scrambled_cube`."
   ]
  },
  {
   "cell_type": "code",
   "execution_count": 14,
   "metadata": {},
   "outputs": [],
   "source": [
    "#TASK 1 AND TASK 2 AND TASK 3\n",
    "class Cube_2x2():\n",
    "    \"Creates a class of a 2x2 Rubic's Cube\"\n",
    "\n",
    "    #Values for cube printing, uses ASCII escape chars to colour text\n",
    "    r = \"\\033[41m\"       + '  ' + '\\033[0m'\n",
    "    b = \"\\033[44m\"       + '  ' + '\\033[0m'\n",
    "    o = \"\\033[48;5;215m\" + '  ' + '\\033[0m'\n",
    "    g = \"\\033[42m\"       + '  ' + '\\033[0m'\n",
    "    y = \"\\033[43m\"       + '  ' + '\\033[0m'\n",
    "    w = \"\\033[47m\"       + '  ' + '\\033[0m'\n",
    "\n",
    "    def __init__(self):\n",
    "        r, b, o, g, y, w = self.r, self.b, self.o, self.g, self.y, self.w\n",
    "        self.front  = [r, r, r, r]\n",
    "        self.right  = [b, b, b, b]\n",
    "        self.back   = [o, o, o, o]\n",
    "        self.left   = [g, g, g, g]\n",
    "        self.top    = [y, y, y, y]\n",
    "        self.bottom = [w, w, w, w]\n",
    "\n",
    "    #Basic init\n",
    "    def __getitem__(self, key) -> list:\n",
    "        return [self.front,self.right,self.back,self.left,self.top,self.bottom][key]\n",
    "    \n",
    "    def __str__(cl):\n",
    "        #oneliner :skull:\n",
    "        return f'      {cl[4][0]:<2} {cl[4][1]:<2}\\n      {cl[4][2]:<2} {cl[4][3]:<2}\\n{cl[3][0]:<2} {cl[3][1]:<2} {cl[0][0]:<2} {cl[0][1]:<2} {cl[1][0]:<2} {cl[1][1]:<2} {cl[2][0]:<2} {cl[2][1]:<2}\\n{cl[3][2]:<2} {cl[3][3]:<2} {cl[0][2]:<2} {cl[0][3]:<2} {cl[1][2]:<2} {cl[1][3]:<2} {cl[2][2]:<2} {cl[2][3]:<2}\\n      {cl[5][0]:<2} {cl[5][1]:<2}\\n      {cl[5][2]:<2} {cl[5][3]:<2}'\n",
    "\n",
    "    #Moving\n",
    "    def move(self, sequence:list[str]|tuple[str], show:bool=True) -> None:\n",
    "        \"Evaluates sequence of moves for the cube and prints each move\"\n",
    "        for i in sequence:\n",
    "            #I am not doing 12 if statements for each movement\n",
    "            eval(\"self.move_\"+i.upper().replace(\"'\", '_prime')+\"()\")\n",
    "            if show: print(\"Move: \", i,\"\\n\",self,sep=\"\",flush=True)\n",
    "            #Flush buffer to ensure printed before next command\n",
    "\n",
    "    #The following section contains many magic numbers\n",
    "    #Where do the magic numbers come from? Up my arse!\n",
    "    #Rotate a cow in 3D in your head and you will see!\n",
    "    def move_U(s):\n",
    "        s.top = [s.top[2], s.top[0], s.top[3], s.top[1]]\n",
    "        s.left[:2], s.front[:2], s.right[:2], s.back[:2] = s.front[:2], s.right[:2], s.back[:2], s.left[:2]\n",
    "\n",
    "    def move_U_prime(s):\n",
    "        s.top = [s.top[1], s.top[3], s.top[0], s.top[2]]\n",
    "        s.left[:2], s.front[:2], s.right[:2], s.back[:2] = s.back[:2], s.left[:2], s.front[:2], s.right[:2]\n",
    "\n",
    "    def move_D(s):\n",
    "        s.bottom = [s.bottom[2], s.bottom[0], s.bottom[3], s.bottom[1]]\n",
    "        s.left[2:], s.front[2:], s.right[2:], s.back[2:] = s.back[2:], s.left[2:], s.front[2:], s.right[2:]\n",
    "\n",
    "    def move_D_prime(s):\n",
    "        s.bottom = [s.bottom[1], s.bottom[3], s.bottom[0], s.bottom[2]]\n",
    "        s.left[2:], s.front[2:], s.right[2:], s.back[2:] = s.front[2:], s.right[2:], s.back[2:], s.left[2:]\n",
    "\n",
    "    def move_R(s):\n",
    "        s.right = [s.right[2], s.right[0], s.right[3], s.right[1]]\n",
    "        s.bottom[1], s.bottom[3], s.front[1], s.front[3], s.top[1], s.top[3], s.back[2], s.back[0] = s.back[2], s.back[0], s.bottom[1], s.bottom[3], s.front[1], s.front[3], s.top[1], s.top[3]\n",
    "\n",
    "    def move_R_prime(s):\n",
    "        s.right = [s.right[1], s.right[3], s.right[0], s.right[2]]\n",
    "        s.bottom[1], s.bottom[3], s.front[1], s.front[3], s.top[1], s.top[3], s.back[2], s.back[0] = s.front[1], s.front[3], s.top[1], s.top[3], s.back[2], s.back[0], s.bottom[1], s.bottom[3]\n",
    "\n",
    "    def move_L(s):\n",
    "        s.left = [s.left[2], s.left[0], s.left[3], s.left[1]]\n",
    "        s.top[0], s.top[2], s.front[0], s.front[2], s.bottom[0], s.bottom[2], s.back[3], s.back[1] = s.back[3], s.back[1], s.top[0], s.top[2], s.front[0], s.front[2], s.bottom[0], s.bottom[2]\n",
    "\n",
    "    def move_L_prime(s):\n",
    "        s.left = [s.left[1], s.left[3], s.left[0], s.left[2]]\n",
    "        s.top[0], s.top[2], s.front[0], s.front[2], s.bottom[0], s.bottom[2], s.back[3], s.back[1] = s.front[0], s.front[2], s.bottom[0], s.bottom[2], s.back[3], s.back[1], s.top[0], s.top[2]\n",
    "\n",
    "    def move_F(s):\n",
    "        s.front = [s.front[2], s.front[0], s.front[3], s.front[1]]\n",
    "        s.top[2], s.top[3], s.right[0], s.right[2], s.bottom[1], s.bottom[0], s.left[3], s.left[1] = s.left[3], s.left[1], s.top[2], s.top[3], s.right[0], s.right[2], s.bottom[1], s.bottom[0]\n",
    "\n",
    "    def move_F_prime(s):\n",
    "        s.front = [s.front[1], s.front[3], s.front[0], s.front[2]]\n",
    "        s.top[2], s.top[3], s.right[0], s.right[2], s.bottom[1], s.bottom[0], s.left[3], s.left[1] = s.right[0], s.right[2], s.bottom[1], s.bottom[0], s.left[3], s.left[1], s.top[2], s.top[3]\n",
    "\n",
    "    def move_B(s):\n",
    "        s.back = [s.back[2], s.back[0], s.back[3], s.back[1]]\n",
    "        s.top[1], s.top[0], s.left[0], s.left[2], s.bottom[2], s.bottom[3], s.right[3], s.right[1] = s.right[3], s.right[1], s.top[1], s.top[0], s.left[0], s.left[2], s.bottom[2], s.bottom[3]\n",
    "\n",
    "    def move_B_prime(s):\n",
    "        s.back = [s.back[1], s.back[3], s.back[0], s.back[2]]\n",
    "        s.top[1], s.top[0], s.left[0], s.left[2], s.bottom[2], s.bottom[3], s.right[3], s.right[1] = s.left[0], s.left[2], s.bottom[2], s.bottom[3], s.right[3], s.right[1], s.top[1], s.top[0]\n",
    "\n",
    "    #End of magic number wizardry, end of class\n",
    "\n",
    "#Main code    \n",
    "scrambled_cube = Cube_2x2()\n"
   ]
  },
  {
   "cell_type": "markdown",
   "metadata": {},
   "source": [
    "The \"print_cube` function below prints out a 2D rendition of a 2X2 cube given an appropriate list. Try it with `scrambled_cube`."
   ]
  },
  {
   "cell_type": "code",
   "execution_count": null,
   "metadata": {},
   "outputs": [
    {
     "name": "stdout",
     "output_type": "stream",
     "text": [
      "      \u001b[43m  \u001b[0m \u001b[43m  \u001b[0m\n",
      "      \u001b[43m  \u001b[0m \u001b[43m  \u001b[0m\n",
      "\u001b[42m  \u001b[0m \u001b[42m  \u001b[0m \u001b[41m  \u001b[0m \u001b[41m  \u001b[0m \u001b[44m  \u001b[0m \u001b[44m  \u001b[0m \u001b[48;5;215m  \u001b[0m \u001b[48;5;215m  \u001b[0m\n",
      "\u001b[42m  \u001b[0m \u001b[42m  \u001b[0m \u001b[41m  \u001b[0m \u001b[41m  \u001b[0m \u001b[44m  \u001b[0m \u001b[44m  \u001b[0m \u001b[48;5;215m  \u001b[0m \u001b[48;5;215m  \u001b[0m\n",
      "      \u001b[47m  \u001b[0m \u001b[47m  \u001b[0m\n",
      "      \u001b[47m  \u001b[0m \u001b[47m  \u001b[0m\n"
     ]
    }
   ],
   "source": [
    "def print_cube(cl):\n",
    "    print('      '       + cl[4][0] + ' ' + cl[4][1])\n",
    "    print('      '       + cl[4][2] + ' ' + cl[4][3])\n",
    "    print(cl[3][0] + ' ' + cl[3][1] + ' ' + cl[0][0] + ' ' + cl[0][1] + ' ' + cl[1][0] + ' ' + cl[1][1] + ' ' + cl[2][0] + ' ' + cl[2][1])\n",
    "    print(cl[3][2] + ' ' + cl[3][3] + ' ' + cl[0][2] + ' ' + cl[0][3] + ' ' + cl[1][2] + ' ' + cl[1][3] + ' ' + cl[2][2] + ' ' + cl[2][3])\n",
    "    print('      '       + cl[5][0] + ' ' + cl[5][1])\n",
    "    print('      '       + cl[5][2] + ' ' + cl[5][3])\n",
    "\n",
    "print_cube(unscrambled_cube)\n",
    "\n",
    "#Implemented in Cube_2x2"
   ]
  },
  {
   "cell_type": "markdown",
   "metadata": {},
   "source": [
    "# Task 2: Time To Mess Up This Cube\n",
    "There are 12 different moves that a 2X2 cube can undergo, each rotate a specific side of the cube clockwise.: U, D, R, L, F, B; as well as their inverse moves: U', D', R', L', F', B'.\n",
    "\n",
    "<center>\n",
    "\n",
    "<img src=\"/workspaces/Materials/Exercises/img/cube_notation.png\" width = 600><br>\n",
    "\n",
    "</center>\n",
    "\n",
    "Each move can be defined as a function of `cube_list`. For each of the 12 moves, write a function that:\n",
    "- Takes in a list input `cube_list` as a list representation of a cube\n",
    "- Returns the list representation of the cube after it has undergone that move"
   ]
  },
  {
   "cell_type": "code",
   "execution_count": null,
   "metadata": {},
   "outputs": [],
   "source": [
    "#TASK 2\n",
    "\n",
    "#Functions need to be called with Cube_2x2 namespace"
   ]
  },
  {
   "cell_type": "markdown",
   "metadata": {},
   "source": [
    "# Task 3: Time To Fix It\n",
    "Write a program that:\n",
    "- Prints out an unsolved cube state `scrambled_cube` using the `print_cube` function\n",
    "- Prompts the user to enter a move: `U`, `U'`, `D`, `D'`, `R`, `R'`, `L`, `L'`, `F`, `F'`, `B`, `B'`\n",
    "- Change `scrambled_cube` according to their input and print it using the `print_cube` function\n",
    "- Keep asking for new inputs until the cube is solved i.e. all faces have only one colour"
   ]
  },
  {
   "cell_type": "code",
   "execution_count": null,
   "metadata": {},
   "outputs": [],
   "source": [
    "\n",
    "#Here for convenience in case kernel restarts\n",
    "#Is exact copy of version on top"
   ]
  },
  {
   "cell_type": "code",
   "execution_count": null,
   "metadata": {},
   "outputs": [
    {
     "name": "stdout",
     "output_type": "stream",
     "text": [
      "L' [\"L'\"]\n",
      "      \u001b[41m  \u001b[0m \u001b[43m  \u001b[0m\n",
      "      \u001b[41m  \u001b[0m \u001b[43m  \u001b[0m\n",
      "\u001b[42m  \u001b[0m \u001b[42m  \u001b[0m \u001b[47m  \u001b[0m \u001b[41m  \u001b[0m \u001b[44m  \u001b[0m \u001b[44m  \u001b[0m \u001b[48;5;215m  \u001b[0m \u001b[43m  \u001b[0m\n",
      "\u001b[42m  \u001b[0m \u001b[42m  \u001b[0m \u001b[47m  \u001b[0m \u001b[41m  \u001b[0m \u001b[44m  \u001b[0m \u001b[44m  \u001b[0m \u001b[48;5;215m  \u001b[0m \u001b[43m  \u001b[0m\n",
      "      \u001b[48;5;215m  \u001b[0m \u001b[47m  \u001b[0m\n",
      "      \u001b[48;5;215m  \u001b[0m \u001b[47m  \u001b[0m\n",
      "u' [\"u'\"]\n",
      "Move: u'\n",
      "      \u001b[43m  \u001b[0m \u001b[43m  \u001b[0m\n",
      "      \u001b[41m  \u001b[0m \u001b[41m  \u001b[0m\n",
      "\u001b[48;5;215m  \u001b[0m \u001b[43m  \u001b[0m \u001b[42m  \u001b[0m \u001b[42m  \u001b[0m \u001b[47m  \u001b[0m \u001b[41m  \u001b[0m \u001b[44m  \u001b[0m \u001b[44m  \u001b[0m\n",
      "\u001b[42m  \u001b[0m \u001b[42m  \u001b[0m \u001b[47m  \u001b[0m \u001b[41m  \u001b[0m \u001b[44m  \u001b[0m \u001b[44m  \u001b[0m \u001b[48;5;215m  \u001b[0m \u001b[43m  \u001b[0m\n",
      "      \u001b[48;5;215m  \u001b[0m \u001b[47m  \u001b[0m\n",
      "      \u001b[48;5;215m  \u001b[0m \u001b[47m  \u001b[0m\n",
      "u ['u']\n",
      "Move: u\n",
      "      \u001b[41m  \u001b[0m \u001b[43m  \u001b[0m\n",
      "      \u001b[41m  \u001b[0m \u001b[43m  \u001b[0m\n",
      "\u001b[42m  \u001b[0m \u001b[42m  \u001b[0m \u001b[47m  \u001b[0m \u001b[41m  \u001b[0m \u001b[44m  \u001b[0m \u001b[44m  \u001b[0m \u001b[48;5;215m  \u001b[0m \u001b[43m  \u001b[0m\n",
      "\u001b[42m  \u001b[0m \u001b[42m  \u001b[0m \u001b[47m  \u001b[0m \u001b[41m  \u001b[0m \u001b[44m  \u001b[0m \u001b[44m  \u001b[0m \u001b[48;5;215m  \u001b[0m \u001b[43m  \u001b[0m\n",
      "      \u001b[48;5;215m  \u001b[0m \u001b[47m  \u001b[0m\n",
      "      \u001b[48;5;215m  \u001b[0m \u001b[47m  \u001b[0m\n",
      "l ['l']\n",
      "Move: l\n",
      "      \u001b[43m  \u001b[0m \u001b[43m  \u001b[0m\n",
      "      \u001b[43m  \u001b[0m \u001b[43m  \u001b[0m\n",
      "\u001b[42m  \u001b[0m \u001b[42m  \u001b[0m \u001b[41m  \u001b[0m \u001b[41m  \u001b[0m \u001b[44m  \u001b[0m \u001b[44m  \u001b[0m \u001b[48;5;215m  \u001b[0m \u001b[48;5;215m  \u001b[0m\n",
      "\u001b[42m  \u001b[0m \u001b[42m  \u001b[0m \u001b[41m  \u001b[0m \u001b[41m  \u001b[0m \u001b[44m  \u001b[0m \u001b[44m  \u001b[0m \u001b[48;5;215m  \u001b[0m \u001b[48;5;215m  \u001b[0m\n",
      "      \u001b[47m  \u001b[0m \u001b[47m  \u001b[0m\n",
      "      \u001b[47m  \u001b[0m \u001b[47m  \u001b[0m\n"
     ]
    }
   ],
   "source": [
    "#TASK 3\n",
    "\n",
    "scrambled_cube = Cube_2x2()\n",
    "from random import choices\n",
    "scrambled_cube.move(choices([\"U\",\"U'\",\"D\",\"D'\",\"L\",\"L'\",\"R\",\"R'\",\"F\",\"F'\",\"B\",\"B'\"],k=15),show=False)\n",
    "print(scrambled_cube,flush=True)\n",
    "solved_cube = Cube_2x2()\n",
    "while scrambled_cube[:] != solved_cube[:]:\n",
    "    try:\n",
    "        scrambled_cube.move([input(\"Move: \")])\n",
    "    except SyntaxError:\n",
    "        print(\"Invalid move, try again\")\n",
    "print(\"TADAA DONE\")\n"
   ]
  }
 ],
 "metadata": {
  "kernelspec": {
   "display_name": "Python 3",
   "language": "python",
   "name": "python3"
  },
  "language_info": {
   "codemirror_mode": {
    "name": "ipython",
    "version": 3
   },
   "file_extension": ".py",
   "mimetype": "text/x-python",
   "name": "python",
   "nbconvert_exporter": "python",
   "pygments_lexer": "ipython3",
   "version": "3.12.3"
  },
  "vscode": {
   "interpreter": {
    "hash": "a42ccb73e7d9bfdf27e036f1d2b8b681e55fc0743cc5586bc2474d4a60f4b886"
   }
  }
 },
 "nbformat": 4,
 "nbformat_minor": 2
}
