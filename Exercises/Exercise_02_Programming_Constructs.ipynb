{
  "cells": [
    {
      "cell_type": "markdown",
      "metadata": {
        "id": "LAm0CPOKBRdh"
      },
      "source": [
        "# Exercise 2\n",
        "\n",
        "Related Notes:\n",
        "- Chapter_01_Data_Types\n",
        "- Chapter_02_Programming_Constructs\n",
        "\n",
        "[![Open In Colab](https://colab.research.google.com/assets/colab-badge.svg)](https://colab.research.google.com/github/ffgtfgh53/Computing_Materials/blob/main/Exercises/Exercise_02_Programming_Constructs.ipynb)"
      ]
    },
    {
      "cell_type": "markdown",
      "metadata": {
        "id": "0ov4NobMBRdq"
      },
      "source": [
        "# Exercise 2.1 Unit Converter\n",
        "\n",
        "Write a program that helps the user to convert a given quantity from one unit of (distance, area or volume) measurement to another.\n",
        "\n",
        "The problem:\n",
        "-\tRequest a quantity from the user.\n",
        "-\tHave the user specify if the quantity is a `length`, `area` or `volume`.\n",
        "-\tHave the user select the base unit of measurement from the following list:\n",
        "    - `mm`,\n",
        "    - `cm`,\n",
        "    - `m`, or\n",
        "    - `km`.\n",
        "-\tThen have the user select the desired base unit of measurement that the given quantity should be converted to.\n",
        "-\tPrint out converted quantity (including the new unit of measurement).\n",
        "\n",
        "Example interaction:\n",
        "\n",
        ">``` text\n",
        ">Input a quantity: 10\n",
        ">Select either length, area or volume: area\n",
        ">Select the base unit of measurement (mm, cm, m, km) : m\n",
        ">Select which base unit of measurement to convert to (mm, cm, m, km) : cm\n",
        ">10 m^2 = 100000 cm^2\n",
        ">```"
      ]
    },
    {
      "cell_type": "code",
      "execution_count": null,
      "metadata": {
        "id": "e4WXXnGhBRdr",
        "outputId": "7091568d-846d-44dd-dc91-27f72a0ce0bc",
        "colab": {
          "base_uri": "https://localhost:8080/"
        }
      },
      "outputs": [
        {
          "output_type": "stream",
          "name": "stdout",
          "text": [
            "Input a quantity: 23443\n",
            "Select either length, area or volume: volume\n",
            "Select the base unit of measurement (mm, cm, m, km): m\n",
            "Select which base unit of measurement to convert to (mm, cm, m, km): km\n",
            "23443m³ = 0.000023443km³\n"
          ]
        }
      ],
      "source": [
        "from decimal import Decimal\n",
        "quantity = Decimal(input(\"Input a quantity: \"))\n",
        "dimension = input(\"Select either length, area or volume: \").lower()\n",
        "dimension_no = {\"length\": 1, \"area\": 2, \"volume\": 3}[dimension]\n",
        "dimension_symbol = {1: \"\", 2: \"²\", 3: \"³\"}\n",
        "base_unit = input(\"Select the base unit of measurement (mm, cm, m, km): \").lower()\n",
        "next_unit = input(\"Select which base unit of measurement to convert to (mm, cm, m, km): \").lower()\n",
        "unit_multiplier = {\"mm\": \"0.001\", \"cm\": \"0.01\", \"m\": 1, \"km\": \"1000\"}\n",
        "result = str(quantity * (Decimal(unit_multiplier[base_unit]) / Decimal(unit_multiplier[next_unit])) ** dimension_no).replace(\"E+\", \"*10^\")\n",
        "print(f\"{quantity}{base_unit}{dimension_symbol[dimension_no]} = {result}{next_unit}{dimension_symbol[dimension_no]}\")"
      ]
    },
    {
      "cell_type": "markdown",
      "metadata": {
        "id": "Rw27ff0qBRdv"
      },
      "source": [
        "# Exercise 2.2\n",
        "\n",
        "In mathematics, an **arithmetic sequence** is a sequence of real numbers\n",
        "$$u_1,u_2,\\cdots, u_n$$\n",
        "such that the difference between two consecutive terms is constant, i.e. $u_{n+1}-u_n=d$ for some constant $d\\in \\mathbb{R}$, called the **common difference** and $n\\geq 1$.\n",
        "\n",
        "For example, the sequence $2,5,8,11,14,\\dots$ is an arithmetic sequence with first term $2$ and common difference $3$.\n",
        "\n",
        "Write a program to generate the first $n$ terms of an arithmetic sequence with a user defined first term $a$ and common difference $d$.\n",
        "\n",
        "The problem:\n",
        "- Request a numeric input from the user to be used as the first term.  Let us denote this input as `first_term`.\n",
        "- Request a numeric input from the user to be used as the common difference.  Let us denote this input as `common_difference`.\n",
        "- Request an integer input from the user for the number of terms.  Let us denote this input as `number_of_terms`.\n",
        "- Print out the sequence up to the $n$th term.\n",
        "\n",
        "Example interaction:\n",
        "\n",
        ">``` text\n",
        ">Please input the first term in the arithmetic sequence:\n",
        ">2\n",
        ">Please input the common difference:\n",
        ">3\n",
        ">Please input the number of terms:\n",
        ">5\n",
        ">The first 5 terms of the arithmetic sequence are:\n",
        ">2\n",
        ">5\n",
        ">8\n",
        ">11\n",
        ">14\n",
        ">```"
      ]
    },
    {
      "cell_type": "code",
      "execution_count": null,
      "metadata": {
        "id": "bAa4Ta7BBRdx",
        "outputId": "bee4303a-8b45-47f4-b2b2-71546af26dd5",
        "colab": {
          "base_uri": "https://localhost:8080/",
          "height": 249
        }
      },
      "outputs": [
        {
          "name": "stdout",
          "output_type": "stream",
          "text": [
            "Please input the first term in the arithmetic sequence:\n",
            "a\n"
          ]
        },
        {
          "output_type": "error",
          "ename": "ValueError",
          "evalue": "invalid literal for int() with base 10: 'a'",
          "traceback": [
            "\u001b[0;31m---------------------------------------------------------------------------\u001b[0m",
            "\u001b[0;31mValueError\u001b[0m                                Traceback (most recent call last)",
            "\u001b[0;32m<ipython-input-15-cb81862a35d5>\u001b[0m in \u001b[0;36m<cell line: 0>\u001b[0;34m()\u001b[0m\n\u001b[0;32m----> 1\u001b[0;31m \u001b[0mBarbara\u001b[0m \u001b[0;34m=\u001b[0m \u001b[0mint\u001b[0m\u001b[0;34m(\u001b[0m\u001b[0minput\u001b[0m\u001b[0;34m(\u001b[0m\u001b[0;34m\"Please input the first term in the arithmetic sequence:\\n\"\u001b[0m\u001b[0;34m)\u001b[0m\u001b[0;34m)\u001b[0m\u001b[0;34m\u001b[0m\u001b[0;34m\u001b[0m\u001b[0m\n\u001b[0m\u001b[1;32m      2\u001b[0m \u001b[0mJacob\u001b[0m \u001b[0;34m=\u001b[0m \u001b[0mint\u001b[0m\u001b[0;34m(\u001b[0m\u001b[0minput\u001b[0m\u001b[0;34m(\u001b[0m\u001b[0;34m\"Please input the common difference:\\n\"\u001b[0m\u001b[0;34m)\u001b[0m\u001b[0;34m)\u001b[0m \u001b[0;34m+\u001b[0m \u001b[0;36m1\u001b[0m\u001b[0;34m\u001b[0m\u001b[0;34m\u001b[0m\u001b[0m\n\u001b[1;32m      3\u001b[0m \u001b[0mAlison\u001b[0m \u001b[0;34m=\u001b[0m \u001b[0mint\u001b[0m\u001b[0;34m(\u001b[0m\u001b[0minput\u001b[0m\u001b[0;34m(\u001b[0m\u001b[0;34m\"Please input the number of terms:\\n\"\u001b[0m\u001b[0;34m)\u001b[0m\u001b[0;34m)\u001b[0m\u001b[0;34m\u001b[0m\u001b[0;34m\u001b[0m\u001b[0m\n\u001b[1;32m      4\u001b[0m \u001b[0mGerald\u001b[0m \u001b[0;34m=\u001b[0m \u001b[0;34m[\u001b[0m\u001b[0mAlabama\u001b[0m\u001b[0;34m*\u001b[0m\u001b[0mJacob\u001b[0m\u001b[0;34m+\u001b[0m\u001b[0mBarbara\u001b[0m \u001b[0;32mfor\u001b[0m \u001b[0mAlabama\u001b[0m \u001b[0;32min\u001b[0m \u001b[0mrange\u001b[0m\u001b[0;34m(\u001b[0m\u001b[0mAlison\u001b[0m\u001b[0;34m)\u001b[0m\u001b[0;34m]\u001b[0m\u001b[0;34m\u001b[0m\u001b[0;34m\u001b[0m\u001b[0m\n\u001b[1;32m      5\u001b[0m \u001b[0;32mfor\u001b[0m \u001b[0mi\u001b[0m \u001b[0;32min\u001b[0m \u001b[0mGerald\u001b[0m\u001b[0;34m:\u001b[0m\u001b[0;34m\u001b[0m\u001b[0;34m\u001b[0m\u001b[0m\n",
            "\u001b[0;31mValueError\u001b[0m: invalid literal for int() with base 10: 'a'"
          ]
        }
      ],
      "source": [
        "Barbara = int(input(\"Please input the first term in the arithmetic sequence:\\n\"))\n",
        "Jacob = int(input(\"Please input the common difference:\\n\")) + 1\n",
        "Alison = int(input(\"Please input the number of terms:\\n\"))\n",
        "Gerald = [Alabama*Jacob+Barbara for Alabama in range(Alison)]\n",
        "for i in Gerald:\n",
        "  print(i)"
      ]
    },
    {
      "cell_type": "markdown",
      "metadata": {
        "id": "IzGcJLQyBRdy"
      },
      "source": [
        "# Exercise 2.3\n",
        "\n",
        "Given an arithmetic sequence with first term $a$ and common difference $d$.\n",
        "\n",
        "Write a program that:\n",
        "- Request a numeric input from the user to be used as the first term.  Let us denote this input as `first_term`.\n",
        "- Request a numeric input from the user to be used as the common difference.  Let us denote this input as `common_difference`.\n",
        "- Request an integer input from the user for the index for the term in the sequence.  Let us denote this input as `n`.\n",
        "- Print out the $n$th term in the sequence.\n",
        "- Print out the sum of the first $n$ terms in the sequence.\n",
        "\n",
        "Example interaction:\n",
        "\n",
        ">```text\n",
        ">Please input the first term in the arithmetic sequence:\n",
        ">2\n",
        ">Please input the common difference:\n",
        ">3\n",
        ">Please input the index :\n",
        ">5\n",
        ">The 5th term in the sequence is:\n",
        ">14\n",
        ">The sum of the first 5 terms in the sequence is:\n",
        ">40\n",
        ">```"
      ]
    },
    {
      "cell_type": "code",
      "source": [
        "Barbara = int(input(\"Please input the first term in the arithmetic sequence:\\n\"))\n",
        "Jacob = int(input(\"Please input the common difference:\\n\")) + 1\n",
        "Alison = int(input(\"Please input the index:\\n\"))\n",
        "Gerald = [Alabama*Jacob+Barbara for Alabama in range(Alison)]\n",
        "print(f\"The no.{Alison} term in the sequence is:\\n{Gerald[-1]}\\nThe sum of the first {Alison} terms in the sequence is:\\n{sum(Gerald)}\")"
      ],
      "metadata": {
        "id": "wQHNcbpcJqkr",
        "outputId": "e5174b76-3589-4246-e877-fa532ee7e390",
        "colab": {
          "base_uri": "https://localhost:8080/"
        }
      },
      "execution_count": null,
      "outputs": [
        {
          "output_type": "stream",
          "name": "stdout",
          "text": [
            "Please input the first term in the arithmetic sequence:\n",
            "45\n",
            "Please input the common difference:\n",
            "456\n",
            "Please input the index:\n",
            "234234\n",
            "The no.234234 term in the sequence is:\n",
            "107044526\n",
            "The sum of the first 234234 terms in the sequence is:\n",
            "12536739021807\n"
          ]
        }
      ]
    },
    {
      "cell_type": "markdown",
      "metadata": {
        "id": "YrUhqqJjBRd3"
      },
      "source": [
        "# Exercise 2.4\n",
        "\n",
        "An arithmetic sequence $u_1, u_2, u_3, \\cdots$ is defined by $u_r=3r-1$ for $r\\in \\mathbb{Z}^{+}$. Find the least value of $n$ such that $u_3+u_6+u_9+\\cdots+u_n$ exceeds $1700$, where $n$ is a multiple of 3."
      ]
    },
    {
      "cell_type": "code",
      "execution_count": null,
      "metadata": {
        "id": "EWGeXb8tBRd6",
        "outputId": "af5e5cf0-ff32-4494-e364-a8184dd63272",
        "colab": {
          "base_uri": "https://localhost:8080/"
        }
      },
      "outputs": [
        {
          "output_type": "stream",
          "name": "stdout",
          "text": [
            "36\n"
          ]
        }
      ],
      "source": [
        "sum = 0\n",
        "count = 0\n",
        "while sum < 1700 or count % 3 != 0:\n",
        "  count += 1\n",
        "  sum += 3 * count - 1\n",
        "print(count)"
      ]
    },
    {
      "cell_type": "markdown",
      "metadata": {
        "id": "0wuoloZxBRd-"
      },
      "source": [
        "# Exercise 2.5 2012/GCE A-Level/P2/Q4(i) H2 Mathematics\n",
        "\n",
        "On 1 January 2001 Mrs $A$ put \\$100 into a bank account, and on the first day of each subsequent month she put in \\$10 more than in the previous month. Thus on 1 February she put \\$110 into the account and on 1 March she put \\$120 into the account, and so on. The account pays no interest.\n",
        "\n",
        "On what date did the value of Mrs $A$'s account first become greater than $5000?"
      ]
    },
    {
      "cell_type": "code",
      "execution_count": null,
      "metadata": {
        "id": "m3LwodSnBReA",
        "outputId": "2e695931-f82d-4784-f728-c4631b4f3519",
        "colab": {
          "base_uri": "https://localhost:8080/"
        }
      },
      "outputs": [
        {
          "output_type": "stream",
          "name": "stdout",
          "text": [
            "the date is 1/11/2002\n"
          ]
        }
      ],
      "source": [
        "month = -1\n",
        "accountValue = 0\n",
        "while accountValue <= 5000:\n",
        "  month += 1\n",
        "  accountValue += 100 + 10 * month\n",
        "year = month // 12 + 2001\n",
        "month = month % 12\n",
        "print(f\"the date is 1/{month}/{year}\")"
      ]
    },
    {
      "cell_type": "markdown",
      "metadata": {
        "id": "Vo60fOrkBReC"
      },
      "source": [
        "## Exercise 2.6 Power\n",
        "\n",
        "Write a program that prints out the first $m$ numbers that can be written as a positive integer taken to the power $n$.\n",
        "\n",
        "Example interaction:\n",
        "\n",
        ">``` text\n",
        ">Input the number of terms, m: 5\n",
        ">Input the n-th power: 3\n",
        ">1\n",
        ">8\n",
        ">27\n",
        ">64\n",
        ">125\n",
        ">```"
      ]
    },
    {
      "cell_type": "code",
      "execution_count": null,
      "metadata": {
        "id": "UQEFMreOBReD",
        "outputId": "eda38fac-17d5-4747-e71f-27491e9617bb",
        "colab": {
          "base_uri": "https://localhost:8080/"
        }
      },
      "outputs": [
        {
          "output_type": "stream",
          "name": "stdout",
          "text": [
            "Input the number of terms, m: 23\n",
            "Input the n-th power: 6\n",
            "0\n",
            "1\n",
            "64\n",
            "729\n",
            "4096\n",
            "15625\n",
            "46656\n",
            "117649\n",
            "262144\n",
            "531441\n",
            "1000000\n",
            "1771561\n",
            "2985984\n",
            "4826809\n",
            "7529536\n",
            "11390625\n",
            "16777216\n",
            "24137569\n",
            "34012224\n",
            "47045881\n",
            "64000000\n",
            "85766121\n",
            "113379904\n"
          ]
        }
      ],
      "source": [
        "noTerms = int(input(\"Input the number of terms, m: \"))\n",
        "power = int(input(\"Input the n-th power: \"))\n",
        "for i in [banana ** power for banana in range(noTerms)]:\n",
        "  print(i)"
      ]
    },
    {
      "cell_type": "markdown",
      "metadata": {
        "id": "OD_Cu83JBReE"
      },
      "source": [
        "## Exercise 2.7 Guess The Secret Number\n",
        "\n",
        "Write a program that stores a secret integer in a variable. The user has to guess the secret integer, the program should loop until they get it right.\n",
        "\n",
        "The problem:\n",
        "-   Decide on a secret integer between 1 and 100 inclusive yourself.\n",
        "-\tRequest an integer from the user.\n",
        "-\tif the user inputted a value that is too high, print 'Your number is too high. Try again.' and the program loops\n",
        "-   if the user inputted a value that is too low, print 'Your number is too low. Try again.' and the program loops\n",
        "-   if the user inputted a value that is the same as the secret integer, print 'Congratulations. You guessed correctly.' and the program ends.\n",
        "\n",
        "Example interaction:\n",
        "\n",
        ">``` text\n",
        ">#Secret number is 31\n",
        ">Input a quantity: 37\n",
        ">Your number is too high. Try again.\n",
        ">Input a quantity: 25\n",
        ">Your number is too low. Try again.\n",
        ">Input a quantity: 31\n",
        ">Congratulations. You guessed correctly.\n",
        ">```"
      ]
    },
    {
      "cell_type": "code",
      "execution_count": null,
      "metadata": {
        "id": "iCIt91V_BReF",
        "outputId": "05237dd2-df95-487e-b072-8ab3445346d3",
        "colab": {
          "base_uri": "https://localhost:8080/"
        }
      },
      "outputs": [
        {
          "name": "stdout",
          "output_type": "stream",
          "text": [
            "<class 'int'>\n",
            "Input a quantity: 50\n",
            "Your number is too high. Try again.\n",
            "Input a quantity: 25\n",
            "Your number is too high. Try again.\n",
            "Input a quantity: 11\n",
            "Your number is too low. Try again.\n",
            "Input a quantity: 16\n",
            "Your number is too low. Try again.\n",
            "Input a quantity: 20\n",
            "Your number is too high. Try again.\n",
            "Input a quantity: 18\n",
            "Your number is too low. Try again.\n",
            "Input a quantity: 19\n"
          ]
        }
      ],
      "source": [
        "import random\n",
        "secret = random.randint(1,100)\n",
        "print(type(secret))\n",
        "while True:\n",
        "  guess = int(input(\"Input a quantity: \"))\n",
        "  if guess == secret:\n",
        "    print(\"Congratulations. You guessed correctly.\")\n",
        "    break\n",
        "  elif guess < secret:\n",
        "    print(\"Your number is too low. Try again.\")\n",
        "  elif guess > secret:\n",
        "    print(\"Your number is too high. Try again.\")"
      ]
    },
    {
      "cell_type": "markdown",
      "metadata": {
        "id": "Y4dOK5fRBReG"
      },
      "source": [
        "## Exercise 2.8\n",
        "\n",
        "In mathematics, a **geometric sequence** is a sequence of real numbers\n",
        "$$u_1,u_2,\\cdots, u_n$$\n",
        "such that the ratio between two consecutive terms is constant, i.e. $\\frac{u_{n+1}}{u_n}=r$ for some constant $r\\in \\mathbb{R}\\backslash \\{0,1\\}$, called the **common ratio** and $n\\geq 1$.\n",
        "\n",
        "For example, the sequence $2,6,18,54,162,\\dots$ is an geometric sequence with first term $2$ and common ratio $3$.\n",
        "\n",
        "Write a program to generate the first $n$ terms of an geometric sequence with a user defined first term $a$ and common ratio $r$.\n",
        "\n",
        "The problem:\n",
        "- Request a numeric input from the user to be used as the first term.  Let us denote this input as `first_term`.\n",
        "- Request a numeric input from the user to be used as the common difference.  Let us denote this input as `common_ratio`.\n",
        "- Request an integer input from the user for the number of terms.  Let us denote this input as `number_of_terms`.\n",
        "- Print out the sequence up to the $n$th term.\n",
        "\n",
        "Example interaction:\n",
        "\n",
        ">```text\n",
        ">Please input the first term in the geometric sequence:\n",
        ">2\n",
        ">Please input the common ratio:\n",
        ">3\n",
        ">Please input the number of terms:\n",
        ">5\n",
        ">The first 5 terms of the geometric sequence are:\n",
        ">2\n",
        ">6\n",
        ">18\n",
        ">54\n",
        ">162\n",
        ">```"
      ]
    },
    {
      "cell_type": "code",
      "execution_count": null,
      "metadata": {
        "id": "_L6eJbthBReG",
        "colab": {
          "base_uri": "https://localhost:8080/"
        },
        "outputId": "4fdc2a80-2e87-4e3a-8a1a-2aba54047f9b"
      },
      "outputs": [
        {
          "output_type": "stream",
          "name": "stdout",
          "text": [
            "Please input the first term in the geometric sequence:\n",
            "12\n",
            "Please input the common ratio:\n",
            "32\n",
            "Please input the number of terms:\n",
            "34\n",
            "The first 34 terms of the geometric sequence are:\n",
            "12\n",
            "384\n",
            "12288\n",
            "393216\n",
            "12582912\n",
            "402653184\n",
            "12884901888\n",
            "412316860416\n",
            "13194139533312\n",
            "422212465065984\n",
            "13510798882111488\n",
            "432345564227567616\n",
            "13835058055282163712\n",
            "442721857769029238784\n",
            "14167099448608935641088\n",
            "453347182355485940514816\n",
            "14507109835375550096474112\n",
            "464227514732017603087171584\n",
            "14855280471424563298789490688\n",
            "475368975085586025561263702016\n",
            "15211807202738752817960438464512\n",
            "486777830487640090174734030864384\n",
            "15576890575604482885591488987660288\n",
            "498460498419343452338927647605129216\n",
            "15950735949418990474845684723364134912\n",
            "510423550381407695195061911147652317184\n",
            "16333553612205046246241981156724874149888\n",
            "522673715590561479879743397015195972796416\n",
            "16725558898897967356151788704486271129485312\n",
            "535217884764734955396857238543560676143529984\n",
            "17126972312471518572699431633393941636592959488\n",
            "548063113999088594326381812268606132370974703616\n",
            "17538019647970835018444217992595396235871190515712\n",
            "561216628735066720590214975763052679547878096502784\n"
          ]
        }
      ],
      "source": [
        "#YOUR CODE HERE\n",
        "first_term = int(input(\"Please input the first term in the geometric sequence:\\n\"))\n",
        "common_ratio = int(input(\"Please input the common ratio:\\n\"))\n",
        "number_of_terms = int(input(\"Please input the number of terms:\\n\"))\n",
        "print(f\"The first {number_of_terms} terms of the geometric sequence are:\")\n",
        "for i in range(number_of_terms):\n",
        "  print(first_term * common_ratio ** i)"
      ]
    },
    {
      "cell_type": "markdown",
      "metadata": {
        "id": "F1e81UR2BReH"
      },
      "source": [
        "## Exercise 2.9\n",
        "\n",
        "Given a geometric sequence with first term $a$ and common ratio $r$.\n",
        "\n",
        "Write a program that:\n",
        "- Request a numeric input from the user to be used as the first term.  Let us denote this input as `first_term`.\n",
        "- Request a numeric input from the user to be used as the common difference.  Let us denote this input as `common_ratio`.\n",
        "- Request an integer input from the user for the index for the term in the sequence.  Let us denote this input as `n`.\n",
        "- Print out the $n$th term in the sequence.\n",
        "- Print out the sum of the first $n$ terms in the sequence.\n",
        "\n",
        "Example interaction:\n",
        "\n",
        ">```text\n",
        ">Please input the first term in the geometric sequence:\n",
        ">2\n",
        ">Please input the common ratio:\n",
        ">3\n",
        ">Please input the index :\n",
        ">5\n",
        ">The 5th term in the sequence is:\n",
        ">162\n",
        ">The sum of the first 5 terms in the sequence is:\n",
        ">242\n",
        ">```"
      ]
    },
    {
      "cell_type": "code",
      "execution_count": null,
      "metadata": {
        "id": "S3uISncFBReI",
        "colab": {
          "base_uri": "https://localhost:8080/"
        },
        "outputId": "d3767585-8f0f-49e9-c0cb-fa8d17cfad35"
      },
      "outputs": [
        {
          "output_type": "stream",
          "name": "stdout",
          "text": [
            "Please input the first term in the geometric sequence:\n",
            "21\n",
            "Please input the common ratio:\n",
            "231\n",
            "Please input the index:\n",
            "5\n",
            "The no.5 term of the geometric sequence is:\n",
            "59795322741\n",
            "The sum of the first 5 terms in the sequence is:\n",
            "60055302405\n",
            "[21, 4851, 1120581, 258854211, 59795322741]\n"
          ]
        }
      ],
      "source": [
        "#YOUR CODE HERE\n",
        "first_term = int(input(\"Please input the first term in the geometric sequence:\\n\"))\n",
        "common_ratio = int(input(\"Please input the common ratio:\\n\"))\n",
        "number_of_terms = int(input(\"Please input the index:\\n\"))\n",
        "print(f\"The no.{number_of_terms} term of the geometric sequence is:\")\n",
        "list_of_terms = []\n",
        "for i in range(number_of_terms):\n",
        "  list_of_terms.append(first_term * common_ratio ** i)\n",
        "print(list_of_terms[-1])\n",
        "print(f\"The sum of the first {number_of_terms} terms in the sequence is:\\n{sum(list_of_terms)}\")\n",
        "print(list_of_terms)"
      ]
    },
    {
      "cell_type": "markdown",
      "metadata": {
        "id": "d2AujQC2BReK"
      },
      "source": [
        "## Exercise 2.10\n",
        "\n",
        "Given a geometric sequence with first term $1$ and common ratio $r$. Find the sum of the first 100 terms of the sequence if:\n",
        "- $r=2$\n",
        "- $r=\\frac{1}{2}$\n",
        "- $r=-3$\n",
        "- $r=-\\frac{5}{6}$\n",
        "- $r=4.1$\n",
        "- $r=0.7$\n",
        "\n",
        "What can you conclude about the relationship between the common ratio of the geometric sequence with the sum of the first $n$ terms of the geometric sequence as $n$ grows larger and larger? i.e., as $n\\rightarrow \\infty$. You might want to try with more values of $r$."
      ]
    },
    {
      "cell_type": "code",
      "execution_count": null,
      "metadata": {
        "id": "bD_1xXNoBReM",
        "colab": {
          "base_uri": "https://localhost:8080/"
        },
        "outputId": "d0aeec21-3b33-4b56-a9ce-8ac20b60a719"
      },
      "outputs": [
        {
          "output_type": "stream",
          "name": "stdout",
          "text": [
            "Please input the common ratio:\n",
            "-0.9\n",
            "The no.1000 term of the geometric sequence is:\n",
            "-1.9420791685807718e-46\n",
            "The sum of the first 1000 terms in the sequence is:\n",
            "0.5263157894736851\n",
            "[1.0, -0.9, 0.81, -0.7290000000000001, 0.6561, -0.5904900000000001, 0.531441, -0.4782969000000001, 0.4304672100000001, -0.3874204890000001, 0.3486784401000001, -0.31381059609000006, 0.2824295364810001, -0.2541865828329001, 0.2287679245496101, -0.20589113209464907, 0.18530201888518416, -0.16677181699666577, 0.15009463529699918, -0.13508517176729928, 0.12157665459056935, -0.10941898913151242, 0.09847709021836118, -0.08862938119652507, 0.07976644307687256, -0.0717897987691853, 0.06461081889226677, -0.058149737003040096, 0.05233476330273609, -0.047101286972462485, 0.04239115827521624, -0.038152042447694615, 0.03433683820292515, -0.030903154382632636, 0.027812838944369374, -0.025031555049932437, 0.022528399544939195, -0.020275559590445275, 0.01824800363140075, -0.016423203268260675, 0.014780882941434608, -0.013302794647291146, 0.011972515182562033, -0.01077526366430583, 0.009697737297875247, -0.008727963568087723, 0.00785516721127895, -0.007069650490151055, 0.00636268544113595, -0.005726416897022355, 0.00515377520732012, -0.004638397686588108, 0.004174557917929297, -0.0037571021261363674, 0.0033813919135227306, -0.0030432527221704577, 0.002738927449953412, -0.002465034704958071, 0.002218531234462264, -0.0019966781110160375, 0.001797010299914434, -0.0016173092699229906, 0.0014555783429306916, -0.0013100205086376223, 0.0011790184577738603, -0.001061116611996474, 0.0009550049507968268, -0.0008595044557171441, 0.0007735540101454297, -0.0006961986091308868, 0.0006265787482177981, -0.0005639208733960184, 0.0005075287860564165, -0.00045677590745077487, 0.0004110983167056974, -0.00036998848503512764, 0.0003329896365316149, -0.0002996906728784534, 0.0002697216055906081, -0.0002427494450315473, 0.00021847450052839255, -0.00019662705047555332, 0.00017696434542799797, -0.00015926791088519818, 0.00014334111979667836, -0.00012900700781701054, 0.00011610630703530949, -0.00010449567633177854, 9.404610869860069e-05, -8.464149782874062e-05, 7.617734804586657e-05, -6.85596132412799e-05, 6.170365191715192e-05, -5.553328672543673e-05, 4.997995805289306e-05, -4.498196224760375e-05, 4.0483766022843375e-05, -3.643538942055904e-05, 3.279185047850314e-05, -2.9512665430652825e-05, 2.6561398887587544e-05, -2.3905258998828788e-05, 2.151473309894591e-05, -1.936325978905132e-05, 1.7426933810146188e-05, -1.568424042913157e-05, 1.4115816386218413e-05, -1.2704234747596572e-05, 1.1433811272836916e-05, -1.0290430145553224e-05, 9.261387130997901e-06, -8.335248417898112e-06, 7.501723576108301e-06, -6.751551218497471e-06, 6.076396096647724e-06, -5.468756486982952e-06, 4.921880838284657e-06, -4.4296927544561915e-06, 3.986723479010572e-06, -3.588051131109515e-06, 3.2292460179985636e-06, -2.9063214161987074e-06, 2.6156892745788365e-06, -2.354120347120953e-06, 2.118708312408858e-06, -1.906837481167972e-06, 1.716153733051175e-06, -1.5445383597460574e-06, 1.3900845237714517e-06, -1.2510760713943066e-06, 1.1259684642548759e-06, -1.0133716178293884e-06, 9.120344560464496e-07, -8.208310104418046e-07, 7.387479093976242e-07, -6.648731184578617e-07, 5.983858066120756e-07, -5.385472259508681e-07, 4.846925033557813e-07, -4.3622325302020313e-07, 3.9260092771818286e-07, -3.533408349463646e-07, 3.180067514517281e-07, -2.8620607630655533e-07, 2.575854686758998e-07, -2.318269218083098e-07, 2.0864422962747884e-07, -1.8777980666473096e-07, 1.6900182599825786e-07, -1.521016433984321e-07, 1.368914790585889e-07, -1.2320233115273e-07, 1.10882098037457e-07, -9.97938882337113e-08, 8.981449941034017e-08, -8.083304946930616e-08, 7.274974452237554e-08, -6.547477007013799e-08, 5.89272930631242e-08, -5.3034563756811777e-08, 4.77311073811306e-08, -4.295799664301754e-08, 3.866219697871579e-08, -3.479597728084421e-08, 3.131637955275979e-08, -2.818474159748381e-08, 2.536626743773543e-08, -2.282964069396189e-08, 2.05466766245657e-08, -1.849200896210913e-08, 1.6642808065898218e-08, -1.4978527259308396e-08, 1.3480674533377557e-08, -1.2132607080039802e-08, 1.0919346372035822e-08, -9.82741173483224e-09, 8.844670561349016e-09, -7.960203505214115e-09, 7.164183154692703e-09, -6.4477648392234335e-09, 5.80298835530109e-09, -5.222689519770981e-09, 4.700420567793883e-09, -4.230378511014495e-09, 3.807340659913046e-09, -3.426606593921741e-09, 3.083945934529567e-09, -2.7755513410766105e-09, 2.4979962069689494e-09, -2.2481965862720546e-09, 2.023376927644849e-09, -1.8210392348803642e-09, 1.638935311392328e-09, -1.4750417802530951e-09, 1.3275376022277856e-09, -1.194783842005007e-09, 1.0753054578045064e-09, -9.677749120240558e-10, 8.709974208216503e-10, -7.838976787394853e-10, 7.055079108655367e-10, -6.349571197789831e-10, 5.714614078010848e-10, -5.143152670209763e-10, 4.628837403188787e-10, -4.1659536628699084e-10, 3.749358296582918e-10, -3.374422466924626e-10, 3.0369802202321633e-10, -2.733282198208947e-10, 2.4599539783880527e-10, -2.2139585805492472e-10, 1.9925627224943227e-10, -1.7933064502448904e-10, 1.6139758052204015e-10, -1.4525782246983613e-10, 1.3073204022285252e-10, -1.1765883620056727e-10, 1.0589295258051055e-10, -9.530365732245949e-11, 8.577329159021355e-11, -7.719596243119219e-11, 6.947636618807298e-11, -6.252872956926568e-11, 5.6275856612339116e-11, -5.0648270951105203e-11, 4.558344385599468e-11, -4.1025099470395217e-11, 3.6922589523355696e-11, -3.323033057102013e-11, 2.990729751391811e-11, -2.6916567762526303e-11, 2.4224910986273674e-11, -2.180241988764631e-11, 1.9622177898881677e-11, -1.765996010899351e-11, 1.589396409809416e-11, -1.4304567688284745e-11, 1.287411091945627e-11, -1.1586699827510643e-11, 1.042802984475958e-11, -9.385226860283621e-12, 8.44670417425526e-12, -7.602033756829734e-12, 6.8418303811467605e-12, -6.157647343032084e-12, 5.5418826087288764e-12, -4.987694347855989e-12, 4.48892491307039e-12, -4.040032421763351e-12, 3.636029179587016e-12, -3.2724262616283147e-12, 2.9451836354654833e-12, -2.650665271918935e-12, 2.3855987447270414e-12, -2.1470388702543375e-12, 1.9323349832289036e-12, -1.7391014849060135e-12, 1.565191336415412e-12, -1.408672202773871e-12, 1.2678049824964838e-12, -1.1410244842468355e-12, 1.026922035822152e-12, -9.242298322399368e-13, 8.318068490159431e-13, -7.486261641143488e-13, 6.73763547702914e-13, -6.063871929326226e-13, 5.457484736393604e-13, -4.911736262754243e-13, 4.420562636478819e-13, -3.9785063728309373e-13, 3.580655735547844e-13, -3.2225901619930596e-13, 2.9003311457937535e-13, -2.610298031214378e-13, 2.3492682280929406e-13, -2.1143414052836465e-13, 1.9029072647552818e-13, -1.7126165382797537e-13, 1.5413548844517783e-13, -1.3872193960066005e-13, 1.2484974564059406e-13, -1.1236477107653465e-13, 1.0112829396888119e-13, -9.101546457199307e-14, 8.191391811479377e-14, -7.372252630331439e-14, 6.635027367298295e-14, -5.971524630568466e-14, 5.374372167511619e-14, -4.8369349507604575e-14, 4.353241455684412e-14, -3.917917310115971e-14, 3.526125579104374e-14, -3.1735130211939364e-14, 2.856161719074543e-14, -2.5705455471670887e-14, 2.31349099245038e-14, -2.082141893205342e-14, 1.873927703884808e-14, -1.686534933496327e-14, 1.5178814401466944e-14, -1.366093296132025e-14, 1.2294839665188226e-14, -1.1065355698669403e-14, 9.958820128802464e-15, -8.962938115922217e-15, 8.066644304329995e-15, -7.259979873896996e-15, 6.5339818865072964e-15, -5.880583697856567e-15, 5.292525328070911e-15, -4.76327279526382e-15, 4.286945515737438e-15, -3.858250964163694e-15, 3.4724258677473247e-15, -3.1251832809725924e-15, 2.812664952875333e-15, -2.5313984575877998e-15, 2.27825861182902e-15, -2.050432750646118e-15, 1.8453894755815063e-15, -1.6608505280233556e-15, 1.4947654752210201e-15, -1.3452889276989182e-15, 1.2107600349290264e-15, -1.0896840314361239e-15, 9.807156282925114e-16, -8.826440654632603e-16, 7.943796589169343e-16, -7.149416930252409e-16, 6.434475237227168e-16, -5.791027713504451e-16, 5.211924942154007e-16, -4.690732447938606e-16, 4.2216592031447453e-16, -3.799493282830271e-16, 3.419543954547244e-16, -3.0775895590925196e-16, 2.769830603183268e-16, -2.492847542864941e-16, 2.243562788578447e-16, -2.0192065097206023e-16, 1.8172858587485422e-16, -1.635557272873688e-16, 1.4720015455863193e-16, -1.3248013910276875e-16, 1.1923212519249188e-16, -1.0730891267324268e-16, 9.657802140591841e-17, -8.692021926532658e-17, 7.822819733879392e-17, -7.040537760491453e-17, 6.336483984442308e-17, -5.702835585998077e-17, 5.1325520273982695e-17, -4.6192968246584426e-17, 4.1573671421925986e-17, -3.741630427973339e-17, 3.367467385176005e-17, -3.0307206466584045e-17, 2.727648581992564e-17, -2.454883723793308e-17, 2.209395351413977e-17, -1.9884558162725795e-17, 1.7896102346453215e-17, -1.6106492111807894e-17, 1.4495842900627104e-17, -1.3046258610564396e-17, 1.1741632749507956e-17, -1.0567469474557161e-17, 9.510722527101445e-18, -8.559650274391301e-18, 7.703685246952171e-18, -6.9333167222569536e-18, 6.239985050031258e-18, -5.615986545028132e-18, 5.05438789052532e-18, -4.548949101472788e-18, 4.094054191325509e-18, -3.6846487721929585e-18, 3.3161838949736624e-18, -2.9845655054762965e-18, 2.686108954928667e-18, -2.4174980594358003e-18, 2.17574825349222e-18, -1.9581734281429983e-18, 1.7623560853286985e-18, -1.5861204767958286e-18, 1.4275084291162459e-18, -1.2847575862046213e-18, 1.1562818275841592e-18, -1.0406536448257433e-18, 9.36588280343169e-19, -8.429294523088521e-19, 7.586365070779669e-19, -6.827728563701702e-19, 6.144955707331532e-19, -5.530460136598379e-19, 4.977414122938541e-19, -4.479672710644687e-19, 4.0317054395802185e-19, -3.628534895622197e-19, 3.2656814060599775e-19, -2.9391132654539797e-19, 2.645201938908582e-19, -2.3806817450177235e-19, 2.1426135705159512e-19, -1.9283522134643563e-19, 1.7355169921179206e-19, -1.5619652929061287e-19, 1.4057687636155158e-19, -1.2651918872539643e-19, 1.1386726985285678e-19, -1.024805428675711e-19, 9.2232488580814e-20, -8.300923972273261e-20, 7.470831575045935e-20, -6.723748417541341e-20, 6.051373575787207e-20, -5.446236218208487e-20, 4.901612596387638e-20, -4.4114513367488745e-20, 3.970306203073987e-20, -3.5732755827665884e-20, 3.2159480244899297e-20, -2.894353222040937e-20, 2.604917899836843e-20, -2.3444261098531587e-20, 2.109983498867843e-20, -1.898985148981059e-20, 1.709086634082953e-20, -1.5381779706746577e-20, 1.384360173607192e-20, -1.2459241562464728e-20, 1.1213317406218255e-20, -1.009198566559643e-20, 9.082787099036787e-21, -8.17450838913311e-21, 7.357057550219799e-21, -6.6213517951978185e-21, 5.959216615678037e-21, -5.3632949541102335e-21, 4.82696545869921e-21, -4.344268912829289e-21, 3.90984202154636e-21, -3.518857819391724e-21, 3.166972037452552e-21, -2.8502748337072968e-21, 2.565247350336567e-21, -2.3087226153029104e-21, 2.0778503537726196e-21, -1.8700653183953578e-21, 1.683058786555822e-21, -1.5147529079002398e-21, 1.3632776171102157e-21, -1.2269498553991942e-21, 1.1042548698592748e-21, -9.938293828733475e-22, 8.944464445860127e-22, -8.050018001274114e-22, 7.245016201146703e-22, -6.520514581032033e-22, 5.86846312292883e-22, -5.281616810635947e-22, 4.753455129572352e-22, -4.2781096166151175e-22, 3.850298654953606e-22, -3.4652687894582453e-22, 3.1187419105124207e-22, -2.8068677194611786e-22, 2.526180947515061e-22, -2.2735628527635547e-22, 2.0462065674871993e-22, -1.8415859107384795e-22, 1.6574273196646317e-22, -1.4916845876981684e-22, 1.3425161289283516e-22, -1.2082645160355165e-22, 1.087438064431965e-22, -9.786942579887685e-23, 8.808248321898917e-23, -7.927423489709025e-23, 7.134681140738123e-23, -6.421213026664311e-23, 5.779091723997879e-23, -5.201182551598092e-23, 4.681064296438283e-23, -4.2129578667944546e-23, 3.7916620801150094e-23, -3.4124958721035086e-23, 3.071246284893158e-23, -2.764121656403842e-23, 2.4877094907634577e-23, -2.238938541687112e-23, 2.015044687518401e-23, -1.813540218766561e-23, 1.6321861968899048e-23, -1.4689675772009142e-23, 1.322070819480823e-23, -1.1898637375327407e-23, 1.0708773637794666e-23, -9.6378962740152e-24, 8.67410664661368e-24, -7.806695981952313e-24, 7.026026383757081e-24, -6.3234237453813735e-24, 5.691081370843236e-24, -5.1219732337589126e-24, 4.6097759103830216e-24, -4.14879831934472e-24, 3.733918487410248e-24, -3.360526638669223e-24, 3.0244739748023005e-24, -2.7220265773220707e-24, 2.4498239195898636e-24, -2.2048415276308775e-24, 1.98435737486779e-24, -1.785921637381011e-24, 1.6073294736429097e-24, -1.4465965262786187e-24, 1.301936873650757e-24, -1.1717431862856813e-24, 1.0545688676571132e-24, -9.491119808914019e-25, 8.542007828022617e-25, -7.687807045220355e-25, 6.91902634069832e-25, -6.2271237066284885e-25, 5.60441133596564e-25, -5.043970202369076e-25, 4.539573182132168e-25, -4.0856158639189514e-25, 3.6770542775270565e-25, -3.309348849774351e-25, 2.978413964796916e-25, -2.6805725683172246e-25, 2.412515311485502e-25, -2.171263780336952e-25, 1.9541374023032567e-25, -1.7587236620729311e-25, 1.582851295865638e-25, -1.4245661662790744e-25, 1.2821095496511668e-25, -1.1538985946860503e-25, 1.0385087352174452e-25, -9.346578616957007e-26, 8.411920755261307e-26, -7.570728679735176e-26, 6.813655811761659e-26, -6.132290230585493e-26, 5.519061207526944e-26, -4.9671550867742495e-26, 4.470439578096825e-26, -4.0233956202871427e-26, 3.6210560582584283e-26, -3.2589504524325854e-26, 2.933055407189327e-26, -2.6397498664703947e-26, 2.375774879823355e-26, -2.1381973918410196e-26, 1.9243776526569178e-26, -1.731939887391226e-26, 1.5587458986521033e-26, -1.402871308786893e-26, 1.2625841779082038e-26, -1.1363257601173835e-26, 1.0226931841056452e-26, -9.204238656950806e-27, 8.283814791255726e-27, -7.455433312130153e-27, 6.709889980917138e-27, -6.038900982825425e-27, 5.4350108845428824e-27, -4.891509796088594e-27, 4.402358816479735e-27, -3.962122934831762e-27, 3.565910641348586e-27, -3.209319577213727e-27, 2.8883876194923543e-27, -2.599548857543119e-27, 2.3395939717888072e-27, -2.1056345746099266e-27, 1.895071117148934e-27, -1.7055640054340407e-27, 1.5350076048906366e-27, -1.3815068444015728e-27, 1.2433561599614156e-27, -1.119020543965274e-27, 1.0071184895687466e-27, -9.064066406118722e-28, 8.15765976550685e-28, -7.341893788956164e-28, 6.607704410060548e-28, -5.946933969054494e-28, 5.352240572149044e-28, -4.81701651493414e-28, 4.335314863440726e-28, -3.9017833770966533e-28, 3.5116050393869883e-28, -3.1604445354482896e-28, 2.8444000819034606e-28, -2.5599600737131146e-28, 2.3039640663418033e-28, -2.073567659707623e-28, 1.8662108937368607e-28, -1.6795898043631746e-28, 1.5116308239268572e-28, -1.3604677415341715e-28, 1.2244209673807544e-28, -1.101978870642679e-28, 9.917809835784111e-29, -8.9260288522057e-29, 8.03342596698513e-29, -7.230083370286618e-29, 6.507075033257956e-29, -5.85636752993216e-29, 5.270730776938945e-29, -4.74365769924505e-29, 4.269291929320545e-29, -3.842362736388491e-29, 3.458126462749642e-29, -3.1123138164746777e-29, 2.80108243482721e-29, -2.5209741913444892e-29, 2.2688767722100402e-29, -2.0419890949890363e-29, 1.8377901854901328e-29, -1.6540111669411193e-29, 1.4886100502470075e-29, -1.3397490452223067e-29, 1.2057741407000762e-29, -1.0851967266300685e-29, 9.766770539670618e-30, -8.790093485703556e-30, 7.9110841371332e-30, -7.11997572341988e-30, 6.407978151077893e-30, -5.767180335970104e-30, 5.1904623023730935e-30, -4.671416072135784e-30, 4.2042744649222056e-30, -3.783847018429985e-30, 3.405462316586987e-30, -3.064916084928288e-30, 2.7584244764354595e-30, -2.4825820287919136e-30, 2.234323825912722e-30, -2.01089144332145e-30, 1.809802298989305e-30, -1.6288220690903748e-30, 1.4659398621813373e-30, -1.3193458759632035e-30, 1.1874112883668832e-30, -1.0686701595301949e-30, 9.618031435771755e-31, -8.65622829219458e-31, 7.790605462975122e-31, -7.01154491667761e-31, 6.310390425009849e-31, -5.679351382508864e-31, 5.111416244257978e-31, -4.60027461983218e-31, 4.140247157848963e-31, -3.726222442064066e-31, 3.3536001978576595e-31, -3.0182401780718936e-31, 2.7164161602647045e-31, -2.444774544238234e-31, 2.2002970898144105e-31, -1.98026738083297e-31, 1.7822406427496728e-31, -1.6040165784747054e-31, 1.443614920627235e-31, -1.2992534285645116e-31, 1.1693280857080605e-31, -1.0523952771372544e-31, 9.471557494235289e-32, -8.52440174481176e-32, 7.671961570330585e-32, -6.904765413297526e-32, 6.214288871967774e-32, -5.592859984770997e-32, 5.033573986293898e-32, -4.5302165876645075e-32, 4.077194928898057e-32, -3.669475436008251e-32, 3.3025278924074264e-32, -2.9722751031666836e-32, 2.6750475928500154e-32, -2.407542833565014e-32, 2.1667885502085125e-32, -1.9501096951876614e-32, 1.7550987256688952e-32, -1.579588853102006e-32, 1.4216299677918054e-32, -1.2794669710126248e-32, 1.1515202739113623e-32, -1.0363682465202262e-32, 9.327314218682035e-33, -8.394582796813832e-33, 7.55512451713245e-33, -6.799612065419205e-33, 6.119650858877284e-33, -5.5076857729895555e-33, 4.9569171956906e-33, -4.46122547612154e-33, 4.015102928509387e-33, -3.613592635658448e-33, 3.252233372092603e-33, -2.927010034883343e-33, 2.6343090313950086e-33, -2.370878128255508e-33, 2.133790315429957e-33, -1.9204112838869614e-33, 1.7283701554982653e-33, -1.555533139948439e-33, 1.3999798259535951e-33, -1.2599818433582355e-33, 1.133983659022412e-33, -1.0205852931201709e-33, 9.185267638081538e-34, -8.266740874273384e-34, 7.440066786846046e-34, -6.696060108161442e-34, 6.026454097345298e-34, -5.423808687610768e-34, 4.881427818849692e-34, -4.393285036964722e-34, 3.9539565332682505e-34, -3.5585608799414254e-34, 3.2027047919472827e-34, -2.8824343127525545e-34, 2.5941908814772993e-34, -2.3347717933295695e-34, 2.1012946139966126e-34, -1.8911651525969513e-34, 1.7020486373372562e-34, -1.5318437736035307e-34, 1.3786593962431776e-34, -1.2407934566188599e-34, 1.1167141109569739e-34, -1.0050426998612765e-34, 9.045384298751489e-35, -8.14084586887634e-35, 7.326761281988706e-35, -6.594085153789836e-35, 5.934676638410853e-35, -5.341208974569767e-35, 4.807088077112791e-35, -4.326379269401512e-35, 3.8937413424613604e-35, -3.5043672082152245e-35, 3.153930487393702e-35, -2.8385374386543324e-35, 2.554683694788899e-35, -2.299215325310009e-35, 2.0692937927790084e-35, -1.8623644135011075e-35, 1.6761279721509968e-35, -1.508515174935897e-35, 1.3576636574423075e-35, -1.2218972916980768e-35, 1.0997075625282691e-35, -9.897368062754422e-36, 8.90763125647898e-36, -8.016868130831083e-36, 7.215181317747974e-36, -6.493663185973177e-36, 5.8442968673758596e-36, -5.2598671806382736e-36, 4.733880462574446e-36, -4.260492416317002e-36, 3.834443174685302e-36, -3.450998857216772e-36, 3.105898971495095e-36, -2.7953090743455852e-36, 2.5157781669110268e-36, -2.2642003502199242e-36, 2.037780315197932e-36, -1.8340022836781387e-36, 1.650602055310325e-36, -1.4855418497792923e-36, 1.3369876648013631e-36, -1.203288898321227e-36, 1.0829600084891042e-36, -9.746640076401937e-37, 8.771976068761744e-37, -7.89477846188557e-37, 7.105300615697014e-37, -6.394770554127312e-37, 5.755293498714581e-37, -5.179764148843123e-37, 4.661787733958811e-37, -4.19560896056293e-37, 3.776048064506637e-37, -3.3984432580559737e-37, 3.058598932250376e-37, -2.7527390390253388e-37, 2.4774651351228048e-37, -2.2297186216105242e-37, 2.006746759449472e-37, -1.8060720835045249e-37, 1.6254648751540724e-37, -1.4629183876386652e-37, 1.3166265488747987e-37, -1.184963893987319e-37, 1.066467504588587e-37, -9.598207541297283e-38, 8.638386787167556e-38, -7.7745481084508e-38, 6.99709329760572e-38, -6.297383967845148e-38, 5.667645571060633e-38, -5.10088101395457e-38, 4.5907929125591136e-38, -4.131713621303202e-38, 3.718542259172882e-38, -3.346688033255594e-38, 3.0120192299300346e-38, -2.710817306937031e-38, 2.4397355762433283e-38, -2.1957620186189953e-38, 1.976185816757096e-38, -1.7785672350813863e-38, 1.6007105115732478e-38, -1.440639460415923e-38, 1.2965755143743307e-38, -1.1669179629368976e-38, 1.050226166643208e-38, -9.452035499788872e-39, 8.506831949809984e-39, -7.656148754828987e-39, 6.890533879346088e-39, -6.20148049141148e-39, 5.5813324422703315e-39, -5.0231991980432986e-39, 4.520879278238969e-39, -4.068791350415072e-39, 3.661912215373565e-39, -3.2957209938362084e-39, 2.966148894452588e-39, -2.669534005007329e-39, 2.4025806045065963e-39, -2.1623225440559367e-39, 1.946090289650343e-39, -1.7514812606853087e-39, 1.576333134616778e-39, -1.4186998211551002e-39, 1.2768298390395901e-39, -1.1491468551356311e-39, 1.0342321696220681e-39, -9.308089526598613e-40, 8.377280573938753e-40, -7.539552516544877e-40, 6.78559726489039e-40, -6.107037538401351e-40, 5.496333784561216e-40, -4.9467004061050944e-40, 4.452030365494585e-40, -4.006827328945126e-40, 3.606144596050614e-40, -3.2455301364455527e-40, 2.9209771228009975e-40, -2.628879410520898e-40, 2.365991469468808e-40, -2.1293923225219275e-40, 1.9164530902697347e-40, -1.7248077812427612e-40, 1.5523270031184851e-40, -1.3970943028066366e-40, 1.257384872525973e-40, -1.1316463852733757e-40, 1.0184817467460382e-40, -9.166335720714344e-41, 8.24970214864291e-41, -7.424731933778619e-41, 6.682258740400757e-41, -6.014032866360682e-41, 5.412629579724614e-41, -4.871366621752153e-41, 4.384229959576937e-41, -3.9458069636192435e-41, 3.551226267257319e-41, -3.1961036405315874e-41, 2.8764932764784287e-41, -2.588843948830586e-41, 2.3299595539475273e-41, -2.0969635985527748e-41, 1.8872672386974973e-41, -1.6985405148277478e-41, 1.528686463344973e-41, -1.3758178170104756e-41, 1.238236035309428e-41, -1.1144124317784854e-41, 1.0029711886006368e-41, -9.026740697405732e-42, 8.124066627665158e-42, -7.311659964898643e-42, 6.580493968408778e-42, -5.9224445715679e-42, 5.3302001144111114e-42, -4.79718010297e-42, 4.317462092673e-42, -3.8857158834057005e-42, 3.4971442950651303e-42, -3.147429865558617e-42, 2.8326868790027556e-42, -2.5494181911024804e-42, 2.2944763719922322e-42, -2.0650287347930092e-42, 1.8585258613137083e-42, -1.6726732751823375e-42, 1.5054059476641037e-42, -1.3548653528976934e-42, 1.219378817607924e-42, -1.0974409358471316e-42, 9.876968422624185e-43, -8.889271580361767e-43, 8.000344422325591e-43, -7.200309980093032e-43, 6.480278982083729e-43, -5.8322510838753565e-43, 5.249025975487821e-43, -4.724123377939039e-43, 4.251711040145135e-43, -3.826539936130622e-43, 3.4438859425175595e-43, -3.0994973482658034e-43, 2.7895476134392233e-43, -2.510592852095301e-43, 2.259533566885771e-43, -2.033580210197194e-43, 1.8302221891774745e-43, -1.6471999702597272e-43, 1.4824799732337544e-43, -1.334231975910379e-43, 1.2008087783193411e-43, -1.0807279004874072e-43, 9.726551104386664e-44, -8.753895993947997e-44, 7.878506394553199e-44, -7.090655755097879e-44, 6.381590179588091e-44, -5.743431161629282e-44, 5.169088045466354e-44, -4.652179240919719e-44, 4.186961316827747e-44, -3.7682651851449725e-44, 3.391438666630475e-44, -3.0522947999674276e-44, 2.747065319970685e-44, -2.4723587879736167e-44, 2.225122909176255e-44, -2.0026106182586296e-44, 1.8023495564327667e-44, -1.62211460078949e-44, 1.459903140710541e-44, -1.313912826639487e-44, 1.1825215439755384e-44, -1.0642693895779845e-44, 9.57842450620186e-45, -8.620582055581674e-45, 7.758523850023507e-45, -6.982671465021157e-45, 6.284404318519041e-45, -5.655963886667138e-45, 5.090367498000424e-45, -4.581330748200382e-45, 4.1231976733803434e-45, -3.710877906042309e-45, 3.3397901154380784e-45, -3.005811103894271e-45, 2.7052299935048437e-45, -2.4347069941543593e-45, 2.1912362947389234e-45, -1.9721126652650312e-45, 1.774901398738528e-45, -1.5974112588646753e-45, 1.4376701329782077e-45, -1.2939031196803871e-45, 1.1645128077123484e-45, -1.0480615269411135e-45, 9.432553742470023e-46, -8.48929836822302e-46, 7.640368531400719e-46, -6.8763316782606466e-46, 6.188698510434582e-46, -5.569828659391124e-46, 5.012845793452012e-46, -4.5115612141068105e-46, 4.0604050926961295e-46, -3.6543645834265166e-46, 3.2889281250838654e-46, -2.9600353125754787e-46, 2.664031781317931e-46, -2.397628603186138e-46, 2.157865742867524e-46, -1.9420791685807718e-46]\n"
          ]
        }
      ],
      "source": [
        "#YOUR CODE HERE\n",
        "#first_term = int(input(\"Please input the first term in the geometric sequence:\\n\"))\n",
        "first_term = 1\n",
        "common_ratio = float(input(\"Please input the common ratio:\\n\"))\n",
        "#number_of_terms = int(input(\"Please input the index:\\n\"))\n",
        "number_of_terms = 1000\n",
        "print(f\"The no.{number_of_terms} term of the geometric sequence is:\")\n",
        "list_of_terms = []\n",
        "for i in range(number_of_terms):\n",
        "  list_of_terms.append(first_term * common_ratio ** i)\n",
        "print(list_of_terms[-1])\n",
        "print(f\"The sum of the first {number_of_terms} terms in the sequence is:\\n{sum(list_of_terms)}\")\n",
        "print(list_of_terms)\n",
        "\n",
        "\n",
        "# When r>=1, as n -> infinity, sum -> infinity\n",
        "# When -1<r<1, as n -> infinity, sum -> constant\n",
        "# When r<-1, as n -> infinity, sun -> infinity / negative infinity"
      ]
    },
    {
      "cell_type": "markdown",
      "metadata": {
        "id": "6FgjeiPWBReO"
      },
      "source": [
        "## Exercise 2.11 2019/NJC Tutorial/APGP/QB8 H2 Mathematics (Modified)\n",
        "\n",
        "An athlete is considering two plans for a training program.\n",
        "\n",
        "Plan I: Run 2000 m on day 1, 2400 m on day 2, and on each successive day increase the distance run by 400 m.\n",
        "\n",
        "Plan II: Run 2000 m on day 1, 2200 m on day 2, and on each successive day multiply the distance run by a constant factor $\\frac{11}{10}$.\n",
        "\n",
        "- **(a)** For Plan I, find the least value of $n$ for which the total distance run on days 1 to $n$, inclusive, exceeds 200 000 m.\n",
        "\n",
        "- **(b)** For Plan II, find the least value of N for which the distance run on day $N$ exceeds 16 000.\n",
        "\n",
        "- **(c)** Assume that athlete $A$ decided to go with Plan I and another athlete $B$ decided to with Plan II, when will athlete $B$'s total distance run first exceeds athlete $A$'s total distance run?"
      ]
    },
    {
      "cell_type": "code",
      "execution_count": null,
      "metadata": {
        "id": "3JK9jOs-BReP",
        "colab": {
          "base_uri": "https://localhost:8080/"
        },
        "outputId": "94884154-451c-4f99-9f49-467fd3a32a63"
      },
      "outputs": [
        {
          "output_type": "stream",
          "name": "stdout",
          "text": [
            "Plan A takes 27 days to complete\n",
            "Plan B takes 50 days to complete\n",
            "Plan B will exceed Plan A at 67 days\n"
          ]
        }
      ],
      "source": [
        "#Plan A\n",
        "totalDistanceRanA = 0\n",
        "countA = 0\n",
        "while totalDistanceRanA < 200000:\n",
        "  countA += 1\n",
        "  totalDistanceRanA += 2000 + 400 * countA\n",
        "print(f\"Plan A takes {countA} days to complete\")\n",
        "\n",
        "#Plan B\n",
        "totalDistanceRanB = 2000\n",
        "countB = 1\n",
        "while totalDistanceRanB < 200000:\n",
        "  countB += 1\n",
        "  totalDistanceRanB = totalDistanceRanB * 1.1\n",
        "print(f\"Plan B takes {countB} days to complete\")\n",
        "\n",
        "#Plan comparison\n",
        "theoryDistanceA = 2000\n",
        "theoryDistanceB = 2000\n",
        "theoryCount = 1\n",
        "while theoryDistanceA >= theoryDistanceB:\n",
        "  theoryCount += 1\n",
        "  theoryDistanceA += 2000 + 400 * theoryCount\n",
        "  theoryDistanceB = theoryDistanceB * 1.1\n",
        "print(f\"Plan B will exceed Plan A at {theoryCount} days\")"
      ]
    }
  ],
  "metadata": {
    "kernelspec": {
      "display_name": "Python 3",
      "language": "python",
      "name": "python3"
    },
    "language_info": {
      "codemirror_mode": {
        "name": "ipython",
        "version": 3
      },
      "file_extension": ".py",
      "mimetype": "text/x-python",
      "name": "python",
      "nbconvert_exporter": "python",
      "pygments_lexer": "ipython3",
      "version": "3.10.2"
    },
    "orig_nbformat": 2,
    "vscode": {
      "interpreter": {
        "hash": "a42ccb73e7d9bfdf27e036f1d2b8b681e55fc0743cc5586bc2474d4a60f4b886"
      }
    },
    "colab": {
      "provenance": []
    }
  },
  "nbformat": 4,
  "nbformat_minor": 0
}