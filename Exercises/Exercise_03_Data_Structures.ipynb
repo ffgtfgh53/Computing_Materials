{
 "cells": [
  {
   "cell_type": "markdown",
   "metadata": {
    "id": "8uLjfGayD_9W"
   },
   "source": [
    "# Exercise 3\n",
    "\n",
    "Related Notes:\n",
    "- Chapter_02_Programming_Constructs\n",
    "- Chapter_03_Data_Structures\n",
    "\n",
    "[![Open In Colab](https://colab.research.google.com/assets/colab-badge.svg)](https://colab.research.google.com/github/ffgtfgh53/Computing_Materials/blob/main/Exercises/Exercise_03_Data_Structures.ipynb)"
   ]
  },
  {
   "cell_type": "markdown",
   "metadata": {
    "id": "QyZO_gkHD_9g"
   },
   "source": [
    "## Exercise 3.1 Dude, What's my Index?\n",
    "\n",
    "Consider the following list\n",
    "\n",
    "``` python\n",
    "[3, 1, 4, 1, 5, 9, 2, 6, 5, 3, 5, 8, 9, 7, 9, 3, 2, 3, 8, 4, 6, 2, 6, 4, 3, 3, 8, 3, 2, 7, 9, 5, 0, 2, 8, 8]\n",
    "```\n",
    "\n",
    "Write a program that print out:\n",
    "- the indices of occurence of each digit (0-9) in the list, and\n",
    "- its number of occurences in the list\n",
    "in the following format.\n",
    "\n",
    ">``` text\n",
    "> <DIGIT> <LIST_OF_INDICES> <NO_OF_OCCURENCES>\n",
    ">```\n",
    "\n",
    "Example Output:\n",
    "\n",
    ">``` text\n",
    "> Digit 0 : [32] : 1\n",
    ">```\n",
    "\n",
    "Try your program again with the following list.\n",
    "\n",
    "``` python\n",
    "[3, 1, 4, 1, 5, 9, 2, 6, 5, 3, 5, 8, 9, 7, 9, 3, 2, 3, 8, 4, 6, 2, 6, 4, 3, 3, 8, 3, 2, 7, 9, 5, 2, 8, 8]\n",
    "```"
   ]
  },
  {
   "cell_type": "code",
   "execution_count": null,
   "metadata": {
    "colab": {
     "base_uri": "https://localhost:8080/"
    },
    "id": "6cf-2ShSD_9j",
    "outputId": "9e71dc3d-d128-40e9-c8cf-7c661242c064"
   },
   "outputs": [
    {
     "name": "stdout",
     "output_type": "stream",
     "text": [
      "Digit 0 : []                        : 0\n",
      "Digit 1 : [1, 3]                    : 2\n",
      "Digit 2 : [6, 16, 21, 28, 32]       : 5\n",
      "Digit 3 : [9, 15, 17, 24, 25, 27]   : 6\n",
      "Digit 4 : [2, 19, 23]               : 3\n",
      "Digit 5 : [4, 8, 10, 31]            : 4\n",
      "Digit 6 : [7, 20, 22]               : 3\n",
      "Digit 7 : [13, 29]                  : 2\n",
      "Digit 8 : [11, 18, 26, 33, 34]      : 5\n",
      "Digit 9 : [5, 12, 14, 30]           : 4\n"
     ]
    }
   ],
   "source": [
    "ex1_list = [3, 1, 4, 1, 5, 9, 2, 6, 5, 3, 5, 8, 9, 7, 9, 3, 2, 3, 8, 4, 6, 2, 6, 4, 3, 3, 8, 3, 2, 7, 9, 5, 2, 8, 8]\n",
    "global_indice_list = []\n",
    "for i in range(10):\n",
    "  indice_occurence = 0\n",
    "  local_indice_list =[]\n",
    "  while True:\n",
    "    try:\n",
    "      indice_occurence = ex1_list.index(i,indice_occurence+1)\n",
    "      local_indice_list.append(indice_occurence)\n",
    "    except:\n",
    "      break\n",
    "  global_indice_list.append(local_indice_list)\n",
    "for i, indice_list in enumerate(global_indice_list):\n",
    "  print(f\"Digit {i} : {str(indice_list) : <25} : {len(indice_list)}\")"
   ]
  },
  {
   "cell_type": "markdown",
   "metadata": {
    "id": "cXyd0BFqD_9p"
   },
   "source": [
    "## Exercise 3.2 Some Heights Statistics\n",
    "\n",
    "Write a program that:\n",
    "- ask user to input the heights value (in centimeter) of $n$ students. The entered values are integer.\n",
    "- store the input values in list and print the list out\n",
    "- display the lowest, highest and mean of the height of these $n$ students. In case you have forgotten, mean is the arithmetic average.  \n",
    "\n",
    "Example Output:\n",
    "\n",
    ">``` text\n",
    ">Number of heights to be entered: 4\n",
    ">100\n",
    ">120\n",
    ">110\n",
    ">130\n",
    ">The list of heights: [100,120,110,130]\n",
    ">Minimum height is 100 cm, maximum height is 130 cm and the average height is 115.0 cm.\n",
    ">```"
   ]
  },
  {
   "cell_type": "code",
   "execution_count": null,
   "metadata": {
    "colab": {
     "base_uri": "https://localhost:8080/"
    },
    "id": "8FSaYOctD_9t",
    "outputId": "4065402c-722b-41c9-8395-f8ee959327df"
   },
   "outputs": [
    {
     "name": "stdout",
     "output_type": "stream",
     "text": [
      "Number of heights to be entered (in cm): 5\n",
      "132\n",
      "178\n",
      "167\n",
      "199\n",
      "99\n",
      "The list of heights: [132, 178, 167, 199, 99]\n",
      "Minimum height is 99 cm, maximum height is 199 cm and the average height is 155.0 cm.\n"
     ]
    }
   ],
   "source": [
    "GoGoPowerRangers = int(input(\"Number of heights to be entered (in cm): \"))\n",
    "height_list =[]\n",
    "for i in range(GoGoPowerRangers):\n",
    "  height_list.append(int(input()))\n",
    "print(f\"The list of heights: {height_list}\\nMinimum height is {min(height_list)} cm, maximum height is {max(height_list)} cm and the average height is {sum(height_list)/len(height_list)} cm.\")"
   ]
  },
  {
   "cell_type": "markdown",
   "metadata": {
    "id": "1vJ4gg7GD_9v"
   },
   "source": [
    "## Exercise 3.3 Binning\n",
    "\n",
    "In a school the grades obtained by a student in a certain subject depends on their mark, ranging from 0 to 100, obtained for the subject and it follows the following table.\n",
    "\n",
    "<center>\n",
    "\n",
    "| Marks ($m$)| Grade |\n",
    "|-------|-------|\n",
    "|   $m<40$    |    U     |\n",
    "|   $40\\leq m\\leq 44$     |    S     |\n",
    "|   $45\\leq m\\leq 49$    |    E     |\n",
    "|   $50\\leq m\\leq 54$    |    D     |\n",
    "|   $55\\leq m\\leq 59$    |    C     |\n",
    "|   $60\\leq m\\leq 69$    | B     |\n",
    "|   $m\\geq 70$    |    A     |\n",
    "\n",
    "</center>\n",
    "\n",
    "Following are the list of marks obtained by students from 2 different classes. `mark_1` is a list from one class and `mark_2` is a list from the other class.\n",
    "\n",
    "``` python\n",
    "mark_1 = [46, 41, 74, 53, 31, 39, 49, 57, 76, 80, 78, 38, 31, 56, 98, 55, 41, 73, 23, 88, 55, 60, 33, 40]\n",
    "mark_2 = [69, 48, 50, 95, 87, 11, 28, 36, 25, 70, 25, 54, 33, 42, 27, 24, 44, 20, 61, 43, 30, 44, 7, 21]\n",
    "```\n",
    "\n",
    "Write a program that:\n",
    "- print outs the list of the students in each grade group for each of the classes in an *descending order* in the following format\n",
    ">``` text\n",
    "><GRADE> <LIST OF DESCENDING MARKS> <NO OF STUDENTS IN THE LIST>\n",
    ">```\n",
    "- if there are no students receiving such grade, print the empty list `[]`.\n",
    "\n",
    "Example Output:\n",
    ">``` text\n",
    ">#Assume the marks are stored in the list [39, 45, 66, 68, 75]\n",
    ">U: [39] 1\n",
    ">S: [] 0\n",
    ">E: [45] 1\n",
    ">D: [] 0\n",
    ">C: [] 0\n",
    ">B: [68, 66] 2\n",
    ">A: [75] 1\n",
    ">```"
   ]
  },
  {
   "cell_type": "code",
   "execution_count": null,
   "metadata": {
    "colab": {
     "base_uri": "https://localhost:8080/"
    },
    "id": "c3FhnKiSJA-z",
    "outputId": "5322e1dc-d422-4d34-eed7-18ba751a54d4"
   },
   "outputs": [
    {
     "name": "stdout",
     "output_type": "stream",
     "text": [
      "      For class A:\n",
      "      A: [74, 76, 80, 78, 98, 73, 88]                      : 7\n",
      "      B: [60]                                              : 1\n",
      "      C: [57, 56, 55, 55]                                  : 4\n",
      "      D: [53]                                              : 1\n",
      "      E: [46, 49]                                          : 2\n",
      "      S: [41, 41, 40]                                      : 3\n",
      "      U: [31, 39, 38, 31, 23, 33]                          : 6\n",
      "Invalid: []                                                : 0\n",
      "\n",
      "\n",
      "\n",
      "      For class B:\n",
      "      A: [95, 87, 70]                                      : 3\n",
      "      B: [69, 61]                                          : 2\n",
      "      C: []                                                : 0\n",
      "      D: [50, 54]                                          : 2\n",
      "      E: [48]                                              : 1\n",
      "      S: [42, 44, 43, 44]                                  : 4\n",
      "      U: [11, 28, 36, 25, 25, 33, 27, 24, 20, 30, 7, 21]   : 12\n",
      "Invalid: []                                                : 0\n"
     ]
    }
   ],
   "source": [
    "#mark values\n",
    "mark_1 = [46, 41, 74, 53, 31, 39, 49, 57, 76, 80, 78, 38, 31, 56, 98, 55, 41, 73, 23, 88, 55, 60, 33, 40]\n",
    "mark_2 = [69, 48, 50, 95, 87, 11, 28, 36, 25, 70, 25, 54, 33, 42, 27, 24, 44, 20, 61, 43, 30, 44, 7, 21]\n",
    "\n",
    "\n",
    "def get_grade(mark):\n",
    "    if mark >= 70:\n",
    "        return 'A'\n",
    "    if mark >= 60:\n",
    "        return 'B'\n",
    "    if mark >= 55:\n",
    "        return 'C'\n",
    "    if mark >= 50:\n",
    "        return 'D'\n",
    "    if mark >= 45:\n",
    "        return 'E'\n",
    "    if mark >= 40:\n",
    "        return 'S'\n",
    "    if mark >= 0:\n",
    "        return 'U'\n",
    "    return 'Invalid'\n",
    "\n",
    "#returns a dict of entire class by grade        \n",
    "def get_dict(given_list):\n",
    "  output_dict = {'A': [], 'B': [], 'C': [], 'D': [], 'E': [], 'S': [], 'U': [], 'Invalid': []}\n",
    "  for i in given_list:\n",
    "      output_dict[get_grade(i)].append(i) #appends each mark to respective list in dict\n",
    "  return output_dict\n",
    "    \n",
    "def print_grade_groups(mark_list):\n",
    "    for grade, list_of_marks in get_dict(mark_list).items(): #printing each grade in newline\n",
    "        print(f\"{grade : >7}: {str(list_of_marks) : <50}: {len(list_of_marks)}\") \n",
    "        #formats grade to be 7 char long, list to be 50 char long\n",
    "\n",
    "#output\n",
    "print(\"      For class A:\")\n",
    "print_grade_groups(mark_1)\n",
    "print('\\n\\n')\n",
    "print(\"      For class B:\")\n",
    "print_grade_groups(mark_2)"
   ]
  },
  {
   "cell_type": "code",
   "execution_count": null,
   "metadata": {
    "id": "w9J6VX4xD_9w"
   },
   "outputs": [],
   "source": [
    "## Exercise 3.4 A Funny Interest\n",
    "\n",
    "Mr. $B$ was offered an investment opportunity with a company where if he was to invest $1000$, he was guaranteed a $100%$ yearly interest rate, i.e. Mr. $B$ will be receive $2000$ after 1 year, inclusive of his capital.  \n",
    "\n",
    "A friend of his that work in the company offers him another deal: same capital $1000$, same yearly interest rate of $100%$ but applied quarterly for a year, meaning every 3 months, the applied interest rate to the current amount is $\\frac{100}{4}\\%=25\\%$. So, after 3rd month, his investment becomes \\$1250$. After 6th month, it's \\$1562.50. After 9th month, it's \\$1953.13.\n",
    "Under this scheme, how much would Mr. $B$'s investment worth after a full year?\n",
    "\n",
    "Suppose that instead of applying the interest rate of 100% quarterly, a human error caused the interest rate to be applied *hourly* instead, for a full year. How much value will Mr. $B$'s investment worth then?"
   ]
  },
  {
   "cell_type": "code",
   "execution_count": null,
   "metadata": {
    "colab": {
     "base_uri": "https://localhost:8080/"
    },
    "id": "pkgr6IygD_9y",
    "outputId": "cf20d719-5506-468c-cf06-3e4a3f55db84"
   },
   "outputs": [
    {
     "name": "stdout",
     "output_type": "stream",
     "text": [
      "2718.1266916179075\n"
     ]
    }
   ],
   "source": [
    "#isnt this basically how you get e\n",
    "#(1+1/n)^n\n",
    "print(1000 * (1+1/(365*24)) ** (365*24))\n",
    "#ITS LITERALLY AN APPROX. OF 1000*e"
   ]
  },
  {
   "cell_type": "markdown",
   "metadata": {
    "id": "tskH3TMzD_9z"
   },
   "source": [
    "## Exercise 3.5 Doubling My Money\n",
    "\n",
    "A customer is considering to deposit her money into a savings account with one of the locally available banks. As of 5th March 2021, the interest rates offered are given in the following table:\n",
    "\n",
    "<center>\n",
    "\n",
    "|         Savings Account        | Yearly Interest rate (%) |\n",
    "|:------------------------------:|:-----------------:|\n",
    "| BOC SmartSaver                 |         1         |\n",
    "| DBS Multiplier Account         |        0.4        |\n",
    "| UOB One Account                |        0.5        |\n",
    "| Standard Chartered Bonus$saver |        0.38       |\n",
    "| OCBC 360 Account               |        0.55       |\n",
    "\n",
    "</center>\n",
    "\n",
    "Write a program that:\n",
    "- Prints out a list that contains the number of years that is required for the money in savings account to double for each type of savings account.\n",
    "\n",
    "Example output:\n",
    "\n",
    ">```text\n",
    ">With 1% yearly interest rate with BOC SmartSaver, it will take ___ years for the money to double.\n",
    ">```\n",
    "\n",
    "For each of the savings account, compare the number of years obtained in the earlier part with the number $\\frac{72}{100r}$, where $r$ is the yearly interest rate. What do you observe? Can you explain your observation?"
   ]
  },
  {
   "cell_type": "code",
   "execution_count": null,
   "metadata": {
    "colab": {
     "base_uri": "https://localhost:8080/"
    },
    "id": "wbUtZ5qhD_92",
    "outputId": "c7cfbd46-359f-46c5-80dd-639c8b67b18b"
   },
   "outputs": [
    {
     "name": "stdout",
     "output_type": "stream",
     "text": [
      "With 1% yearly interest with BOC SmartSaver, it will take 70 years for the money to double\n",
      "0.72\n",
      "With 0.4% yearly interest with DBS Multiplier Account, it will take 174 years for the money to double\n",
      "1.8\n",
      "With 0.5% yearly interest with UOB One Account, it will take 139 years for the money to double\n",
      "1.44\n",
      "With 0.38% yearly interest with Standard Charted Bonus$saver, it will take 183 years for the money to double\n",
      "1.894736842105263\n",
      "With 0.55% yearly interest with OCBC 360 Account, it will take 127 years for the money to double\n",
      "1.3090909090909089\n"
     ]
    }
   ],
   "source": [
    "def get_years_from_interest(interest):\n",
    "  multiplier_ratio = 1\n",
    "  year = 0\n",
    "  while multiplier_ratio < 2:\n",
    "    year += 1\n",
    "    multiplier_ratio += multiplier_ratio * interest / 100\n",
    "  return year\n",
    "interest_rates = {\"BOC SmartSaver\": 1, \"DBS Multiplier Account\": 0.4, \"UOB One Account\": 0.5, \"Standard Charted Bonus$saver\": 0.38, \"OCBC 360 Account\": 0.55}\n",
    "for saving_acc, interest in interest_rates.items():\n",
    "  print(f\"With {interest}% yearly interest with {saving_acc}, it will take {get_years_from_interest(interest)} years for the money to double\")\n",
    "  print(72/(100*interest))"
   ]
  },
  {
   "cell_type": "markdown",
   "metadata": {
    "id": "kFRsm_oUD_93"
   },
   "source": [
    "## Exercise 3.6 Arithmetic Sequence Revisited\n",
    "\n",
    "Recall from Exercise 1.2, an **arithmetic sequence** is a sequence of real numbers\n",
    "$$u_1,u_2,\\cdots, u_n$$\n",
    "such that the difference between two consecutive terms is constant, i.e. $u_{n+1}-u_n=d$ for some constant $d\\in \\mathbb{R}$ and $d\\neq 0$, called the **common difference** and $n\\geq 1$.\n",
    "\n",
    "The problem:\n",
    "- Request a numeric input from the user to be used as the first term.  Let us denote this input as `first_term`.\n",
    "- Request a numeric input from the user to be used as the common difference.  Let us denote this input as `common_difference`.\n",
    "- Request an integer input greater or equal to $4$ from the user for the number of terms.  Let us denote this input as `number_of_terms`.\n",
    "- Print out the list that contains the arithmetic sequence up to the $n$th term, where $n =$ `number_of_terms`.\n",
    "- Print the list that contains the first 3 terms of the arithmetic sequence.\n",
    "- Print the list that contains the last 4 terms of the arithmetic sequence.\n",
    "- Use an inbuilt function that accepts list as an input to calculate the sum of the first $n$ terms of the arithmetic sequence.\n",
    "\n",
    "Example interaction:\n",
    "\n",
    ">```text\n",
    ">Please input the first term in the arithmetic sequence:\n",
    ">2\n",
    ">Please input the common difference:\n",
    ">3\n",
    ">Please input the number of terms:\n",
    ">5\n",
    ">The list containing the first 5 terms of the arithmetic sequence are:\n",
    ">[2, 5, 8, 11, 14]\n",
    ">The list of the first 3 terms of the sequence is:\n",
    ">[2, 5, 8]\n",
    ">The list of the last 4 terms of the sequence is:\n",
    ">[5, 8, 11, 14]\n",
    ">The sum of all the terms in the sequence is:\n",
    ">40\n",
    ">```"
   ]
  },
  {
   "cell_type": "code",
   "execution_count": null,
   "metadata": {
    "colab": {
     "base_uri": "https://localhost:8080/"
    },
    "id": "5YJEMXZMD_94",
    "outputId": "0439f751-e000-4ef9-92c6-425f00ba1afa"
   },
   "outputs": [
    {
     "name": "stdout",
     "output_type": "stream",
     "text": [
      "Please input the first term in the arithmetic sequence:\n",
      "234\n",
      "Please input the common difference:\n",
      "-23.4\n",
      "Please input the number of terms:\n",
      "12\n",
      "The list containing the first 12 terms of the arithmetic sequence is:\n",
      "[234.0, 210.6, 187.2, 163.8, 140.4, 117.0, 93.60000000000002, 70.20000000000002, 46.80000000000001, 23.400000000000006, 0.0, -23.399999999999977]\n",
      "The list of the first 3 terms of the sequence is:\n",
      "[234.0, 210.6, 187.2]\n",
      "The list of the last 4 terms of the sequence is:\n",
      "[46.80000000000001, 23.400000000000006, 0.0, -23.399999999999977]\n",
      "The sum of all the terms in the sequence is:\n",
      "1263.6\n"
     ]
    }
   ],
   "source": [
    "#man not this again\n",
    "first_term, common_diff, no_of_terms = float(input(\"Please input the first term in the arithmetic sequence:\\n\")), float(input(\"Please input the common difference:\\n\")), int(input(\"Please input the number of terms:\\n\"))\n",
    "list_yay = [(count * common_diff + first_term) for count in range(no_of_terms)]\n",
    "print(f'The list containing the first {no_of_terms} terms of the arithmetic sequence is:\\n{list_yay}\\nThe list of the first 3 terms of the sequence is:\\n{list_yay[:3]}\\nThe list of the last 4 terms of the sequence is:\\n{list_yay[-4:]}\\nThe sum of all the terms in the sequence is:\\n{sum(list_yay)}')"
   ]
  },
  {
   "cell_type": "markdown",
   "metadata": {
    "id": "1MFxNX-2D_95"
   },
   "source": [
    "## Exercise 3.7 Value Swapping\n",
    "\n",
    "Write a program that:\n",
    "- Ask user to input 3 integer values, `x`, `y` and `z` one by one.\n",
    "- Print out `x`, `y` and `z` value before swapping\n",
    "- Write an one-line statement to swap values so that `x` will hold value of `y`, `y` will hold value of `z`, and `z` will hold value of x after running the statement.\n",
    "- Print out `x`, `y` and `z` value after swapping.\n",
    "\n",
    "Example interaction:\n",
    "\n",
    ">```text\n",
    ">Enter the value for x: 10\n",
    ">Enter the value for y: 20\n",
    ">Enter the value for z: 30\n",
    ">Before swapping, x = 10, y = 20, z = 30\n",
    ">After swapping, x = 20, y = 30, z = 10\n",
    ">```"
   ]
  },
  {
   "cell_type": "code",
   "execution_count": null,
   "metadata": {
    "colab": {
     "base_uri": "https://localhost:8080/"
    },
    "id": "gAQ1IF5nD_97",
    "outputId": "c80bc50a-74f1-4c9e-e75e-d8386c2dd2b0"
   },
   "outputs": [
    {
     "name": "stdout",
     "output_type": "stream",
     "text": [
      "Enter the value for x: 4\n",
      "Enter the value for y: \n",
      "Enter the value for z: 6\n",
      "Before swapping, x = 4, y = , z = 6\n",
      "After swapping, x = , y = 6, z = 4\n"
     ]
    }
   ],
   "source": [
    "x, y, z = input(\"Enter the value for x: \"), input(\"Enter the value for y: \"), input(\"Enter the value for z: \")\n",
    "print(f\"Before swapping, x = {x}, y = {y}, z = {z}\")\n",
    "x, y, z = y, z, x\n",
    "print(f\"After swapping, x = {x}, y = {y}, z = {z}\")"
   ]
  },
  {
   "cell_type": "markdown",
   "metadata": {
    "id": "sSqd2WyBD_99"
   },
   "source": [
    "## Exercise 3.8 Dots in a Square\n",
    "\n",
    "In Python, we can generate random values between -1 and 1 by:\n",
    "\n",
    "- importing the `random` module, and then\n",
    "- using `random.uniform(-1,1)` method.\n",
    "\n",
    "Write a program that:\n",
    "\n",
    "0. set `n` to be 100\n",
    "1. creates a list called `coordinates` which contain `n` tuples with 2 elements each where each element in the tuple is a randomly generated real number between -1 and 1 inclusive, i.e. each element in `coordinates` is of the following form `(element_1,element_2)`. This list represents 100 random points in the cartesian plane ($xy$-plane) where the $x$-coordinates and $y$-coordinates are between -1 and 1 inclusive.\n",
    "2. print out the number of the generated random points (i.e., elements in `coordinates`) that has a distance of at most 1 unit away from the origin $O$. Recall that the distance $d$ from origin to a point $\\left(x,y\\right)$ is $d=\\sqrt{x^2+y^2}$. You can use the method `math.sqrt(your_number)` to find the square root of a number.\n",
    "3. print out also `frac`, the fraction of the number of such points out of $n$ points.\n",
    "4. print out `frac*4`.\n",
    "5. repeat steps 1-5 above with `n` set to be 1000, 10000, 100000.\n",
    "\n",
    "What can you observe about the values of `frac*4` as the `n` increases?\n",
    "\n",
    "Example interaction:\n",
    "\n",
    ">```text\n",
    ">#Assume collection = [(1, 0.7), (0.5, 0.5), (-1, -1)]\n",
    ">Number of points that has a distance of at most 1 unit away from the origin: 1\n",
    ">Fraction of such numbers : 0.3333333\n",
    ">4*frac : 1.333333332\n",
    ">```"
   ]
  },
  {
   "cell_type": "code",
   "execution_count": 27,
   "metadata": {
    "colab": {
     "base_uri": "https://localhost:8080/"
    },
    "id": "D3CN91LwD_9-",
    "outputId": "ccaddebf-dd23-4d24-e37c-3c383a5f330c"
   },
   "outputs": [
    {
     "name": "stdout",
     "output_type": "stream",
     "text": [
      "3.142132\n"
     ]
    }
   ],
   "source": [
    "import random\n",
    "import math\n",
    "\n",
    "n = 1000000\n",
    "coordinates = [(random.uniform(-1, 1), random.uniform(-1, 1)) for i in range(n)]\n",
    "points_less_than_1 = [(x, y) for x, y in coordinates if math.sqrt(x ** 2 + y ** 2) <= 1]\n",
    "print(len(points_less_than_1) / len(coordinates) * 4)\n",
    " \n",
    "# (formula is finding probability point is in area of circle radius 1 where all points in area of square length 2) * 4\n",
    "# = area of circle radius 1 / area of square length 2 * 4\n",
    "# = pi(1)^2 / 2^2 * 4\n",
    "# = pi\n",
    "\n",
    "# hence approximates to pi"
   ]
  },
  {
   "cell_type": "markdown",
   "metadata": {
    "id": "1fBPlYj8D_-A"
   },
   "source": [
    "## Exercise 3.9 3D Vector Operations\n",
    "\n",
    "In mathematics, a real valued 3-dimensional vector is a collection of 3 values $\\left(\\begin{array}{c}\n",
    "a_{1}\\\\\n",
    "a_{2}\\\\\n",
    "a_{3}\n",
    "\\end{array}\\right)$, where $a_1,a_2,a_3 \\in \\mathbb{R}$.\n",
    "\n",
    "Binary operation between vectors differs from operation between numbers and some of such operations are defined as such:\n",
    "- addition $+$, which operates between 2 vectors and returns a vector, $\\left(\\begin{array}{c}\n",
    "a_{1}\\\\\n",
    "a_{2}\\\\\n",
    "a_{3}\n",
    "\\end{array}\\right)+\\left(\\begin{array}{c}\n",
    "b_{1}\\\\\n",
    "b_{2}\\\\\n",
    "b_{3}\n",
    "\\end{array}\\right)=\\left(\\begin{array}{c}\n",
    "a_{1}+b_{1}\\\\\n",
    "a_{2}+b_{2}\\\\\n",
    "a_{3}+b_{3}\n",
    "\\end{array}\\right)$,\n",
    "- dot product $\\cdot$, which operates between 2 vector and returns a real number, $\\left(\\begin{array}{c}\n",
    "a_{1}\\\\\n",
    "a_{2}\\\\\n",
    "a_{3}\n",
    "\\end{array}\\right)\\cdot\\left(\\begin{array}{c}\n",
    "b_{1}\\\\\n",
    "b_{2}\\\\\n",
    "b_{3}\n",
    "\\end{array}\\right)=a_{1}b_{1}+a_{2}b_{2}+a_{3}b_{3}$,\n",
    "- cross product $\\times$, which operates between 2 vectors and returns yet another vector, $\\left(\\begin{array}{c}\n",
    "a_{1}\\\\\n",
    "a_{2}\\\\\n",
    "a_{3}\n",
    "\\end{array}\\right)\\times\\left(\\begin{array}{c}\n",
    "b_{1}\\\\\n",
    "b_{2}\\\\\n",
    "b_{3}\n",
    "\\end{array}\\right)=\\left(\\begin{array}{c}\n",
    "a_{2}b_{3}-a_{3}b_{2}\\\\\n",
    "-\\left(a_{1}b_{3}-a_{3}b_{1}\\right)\\\\\n",
    "a_{1}b_{2}-a_{2}b_{1}\n",
    "\\end{array}\\right)$.\n",
    "\n",
    "Write a program that:\n",
    "- Ask user to input 6 float values `x1`, `y1`, `z1`, `x2`, `y2`, `z2`\n",
    "- Stores the 6 values above in a list called `vectors` that contained the tuples `(x1,y1,z1)` and `(x2,y2,z2)`. We will use each of these tuples to represent a 3-dimensional vector.\n",
    "- Print out the list `vectors`.\n",
    "- Implement the 3 vector operations defined above and print out the result. Refer to the example interaction below for the format.\n",
    "\n",
    "Example interaction:\n",
    "\n",
    ">```text\n",
    ">Enter the value for x1: 1\n",
    ">Enter the value for y1: 2\n",
    ">Enter the value for z1: 3\n",
    ">Enter the value for x2: 4\n",
    ">Enter the value for y2: 5\n",
    ">Enter the value for z2: 6\n",
    ">vectors : [(1, 2, 3), (4, 5, 6)]\n",
    ">addition : (1, 2, 3) + (4, 5, 6) = (5, 7, 9)\n",
    ">dot product : (1, 2, 3) . (4, 5, 6) = 32\n",
    ">cross product : (1, 2, 3) x (4, 5, 6) = (-3, 6, -3)\n",
    ">```"
   ]
  },
  {
   "cell_type": "code",
   "execution_count": 9,
   "metadata": {
    "colab": {
     "base_uri": "https://localhost:8080/"
    },
    "id": "MZQ1uP9OD_-B",
    "outputId": "25cc1d51-a52a-4876-aa21-3cce0633adb3"
   },
   "outputs": [
    {
     "name": "stdout",
     "output_type": "stream",
     "text": [
      "x1: 1\n",
      "y1: 2\n",
      "z1: 3\n",
      "x2: 4\n",
      "y2: 5\n",
      "z2: 6\n",
      "[(1.0, 2.0, 3.0), (4.0, 5.0, 6.0)]\n",
      "vectors:  [(1.0, 2.0, 3.0), (4.0, 5.0, 6.0)]\n",
      "addition:  (1.0, 2.0, 3.0) + (4.0, 5.0, 6.0)  =  (5.0, 7.0, 9.0)\n",
      "dot product:  (1.0, 2.0, 3.0) ⋅ (4.0, 5.0, 6.0)  =  32.0\n",
      "cross product: (1.0, 2.0, 3.0)×(4.0, 5.0, 6.0) = (-3.0, 6.0, -3.0)\n"
     ]
    }
   ],
   "source": [
    "x1, y1, z1, x2, y2, z2 = float(input(\"x1: \")), float(input(\"y1: \")), float(input(\"z1: \")), float(input(\"x2: \")), float(input(\"y2: \")), float(input(\"z2: \"))\n",
    "print(vectors := [(x1, y1, z1), (x2, y2, z2)])\n",
    "#walrus not in 3.7 :(\n",
    "print(\"vectors: \", vectors)\n",
    "print(\"addition: \", vectors[0], \"+\", vectors[1], \" = \", (vectors[0][0]+vectors[1][0], vectors[0][1]+vectors[1][1], vectors[0][2]+vectors[1][2]))\n",
    "print(\"dot product: \", vectors[0], \"⋅\", vectors[1], \" = \", (vectors[0][0]*vectors[1][0] + vectors[0][1]*vectors[1][1] + vectors[0][2]*vectors[1][2]))\n",
    "cross_product = (vectors[0][1]*vectors[1][2]-vectors[0][2]*vectors[1][1],vectors[0][2]*vectors[1][0]-vectors[1][2]*vectors[0][0],vectors[0][0]*vectors[1][1]-vectors[0][1]*vectors[1][0])\n",
    "print(f\"cross product: {vectors[0]}×{vectors[1]} = {cross_product}\")"
   ]
  }
 ],
 "metadata": {
  "colab": {
   "provenance": []
  },
  "kernelspec": {
   "display_name": "Python 3",
   "language": "python",
   "name": "python3"
  },
  "language_info": {
   "codemirror_mode": {
    "name": "ipython",
    "version": 3
   },
   "file_extension": ".py",
   "mimetype": "text/x-python",
   "name": "python",
   "nbconvert_exporter": "python",
   "pygments_lexer": "ipython3",
   "version": "3.11.3"
  }
 },
 "nbformat": 4,
 "nbformat_minor": 4
}
