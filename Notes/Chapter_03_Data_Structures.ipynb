{
 "cells": [
  {
   "cell_type": "markdown",
   "metadata": {
    "id": "pzqVty48rpEA"
   },
   "source": [
    "# Learning Objectives\n",
    "\n",
    "- [ ]  2.2.1 Understand the different types: integer `int`, real `float`, char `chr`, string `str` and Boolean `Boolean` and initialise arrays `list`, `tuple` (1-dimensional and 2-dimensional).\n",
    "\n",
    "[![Open In Colab](https://colab.research.google.com/assets/colab-badge.svg)](https://colab.research.google.com/github/ffgtfgh53/Computing_Materials/blob/main/Notes/Chapter_03_Data_Structures.ipynb)"
   ]
  },
  {
   "cell_type": "markdown",
   "metadata": {
    "id": "q9dqtcgUrpEN"
   },
   "source": [
    "# 3 Basic Data Structures\n",
    "\n",
    "In computer science, a data structure is a data organization, management, and storage format that enables efficient access and modification. More precisely, a data structure is a collection of data values, the relationships among them, and the functions or operations that can be applied to the data.\n",
    "\n",
    "## 3.1 Array\n",
    "\n",
    "An array, is a data structure consisting of a collection of elements (values or variables), each identified by at least one array index or key. We will focus on two commonly used ones in Python.\n",
    "\n",
    "### 3.1.1 List\n",
    "\n",
    "**Lists** are the most commonly used data structure in Python.\n",
    "\n",
    "* It is a **mutable** collection, i.e. its items can be added and removed.\n",
    "* Each of these data can be accessed by calling its index value."
   ]
  },
  {
   "cell_type": "markdown",
   "metadata": {
    "id": "n-iC8IOLrpEQ"
   },
   "source": [
    "#### 3.1.1.1 Creating a list\n",
    "\n",
    "Lists are declared/created by just equating a variable to `[]` or list.\n",
    "\n",
    "```python\n",
    "empty_list = []\n",
    "print(type(empty_list))\n",
    "```\n",
    "\n",
    "Items in the list are seperated by comma `,`.\n",
    "```python\n",
    "nums = [1, 2, 3, 4]\n",
    "nums\n",
    "```"
   ]
  },
  {
   "cell_type": "code",
   "execution_count": null,
   "metadata": {
    "id": "W9ytMCV2rpEU"
   },
   "outputs": [],
   "source": [
    "# YOUR CODE HERE"
   ]
  },
  {
   "cell_type": "markdown",
   "metadata": {
    "id": "d3qPoQi7rpEh"
   },
   "source": [
    "List element can be of any data type.\n",
    "\n",
    "```python\n",
    "fruits = ['apple', 'banana', 'cherry', 'durian']\n",
    "fruits\n",
    "```"
   ]
  },
  {
   "cell_type": "code",
   "execution_count": null,
   "metadata": {
    "id": "5BX0Xt_BrpEk"
   },
   "outputs": [],
   "source": [
    "# YOUR CODE HERE"
   ]
  },
  {
   "cell_type": "markdown",
   "metadata": {
    "id": "OnaZSsoOrpEn"
   },
   "source": [
    "In fact, it is able to hold elements of *mixed data types*, although this is not commonly used.\n",
    "\n",
    "```python\n",
    "mixed = ['apple', 3, 'banana', 5.0, True, None, (1,), [1,23]]\n",
    "mixed\n",
    "```"
   ]
  },
  {
   "cell_type": "code",
   "execution_count": null,
   "metadata": {
    "id": "0U5OKs9brpEq"
   },
   "outputs": [],
   "source": [
    "# YOUR CODE HERE"
   ]
  },
  {
   "cell_type": "markdown",
   "metadata": {
    "id": "zz9mzGcfrpEx"
   },
   "source": [
    "List can also have **lists as its element**, which creates a `nested list`.\n",
    "\n",
    "```python\n",
    "nested = [ [10, 11, 12, 13],\n",
    "           [20, 21, 22, 23] ]\n",
    "nested\n",
    "```"
   ]
  },
  {
   "cell_type": "code",
   "execution_count": null,
   "metadata": {
    "id": "4T9WDrxZrpE2"
   },
   "outputs": [],
   "source": [
    "# YOUR CODE HERE"
   ]
  },
  {
   "cell_type": "markdown",
   "metadata": {
    "id": "6fV2pTADrpE5"
   },
   "source": [
    "#### 3.1.1.2 Accessing Elements in a list via Indexing\n",
    "\n",
    "Items in collection can be accessed by their indexes. Python uses zero-based indexing, i.e. index starts from 0.\n",
    "\n",
    "```python\n",
    "print(fruits)\n",
    "print(fruits[0])\n",
    "print(fruits[1])\n",
    "```"
   ]
  },
  {
   "cell_type": "code",
   "execution_count": null,
   "metadata": {
    "id": "qKMY4FAtrpE7"
   },
   "outputs": [],
   "source": [
    "# YOUR CODE HERE"
   ]
  },
  {
   "cell_type": "markdown",
   "metadata": {
    "id": "fUj2BtjtrpE9"
   },
   "source": [
    "Indexing can also be done in reverse order by using a negative value as the index. That is the last element of the list has an index of -1, and second last element has index of -2 etc. This is called **negative indexing**.\n",
    "\n",
    "<center><img src=\"https://github.com/ffgtfgh53/Computing_Materials/blob/main/Notes/images/list-indexing.png?raw=1\" alt=\"Set Venn Diagram\" style=\"width: 400px;\"/></center>\n",
    "\n",
    "```python\n",
    "fruits[-1]\n",
    "fruits[-2]\n",
    "```"
   ]
  },
  {
   "cell_type": "code",
   "execution_count": null,
   "metadata": {
    "id": "y2eRbapSrpE-"
   },
   "outputs": [],
   "source": [
    "# YOUR CODE HERE"
   ]
  },
  {
   "cell_type": "markdown",
   "metadata": {
    "id": "dN2fp3SfrpE_"
   },
   "source": [
    "For nested list, we can access items by **multi-level indexing**. Each level of the index always starts from 0.\n",
    "\n",
    "For example, access 1st element in 1st list, and 2nd element in 2nd list\n",
    "```python\n",
    "print(nested)\n",
    "print(nested[0][0])\n",
    "print(nested[1][1])\n",
    "```"
   ]
  },
  {
   "cell_type": "code",
   "execution_count": null,
   "metadata": {
    "id": "4ucjsJ1_rpFA"
   },
   "outputs": [],
   "source": [
    "# YOUR CODE HERE"
   ]
  },
  {
   "cell_type": "markdown",
   "metadata": {
    "id": "UNxx2uhXrpFD"
   },
   "source": [
    "#### Exercise 3.1\n",
    "\n",
    "How do you access element `Blackcurrant` in following list?\n",
    "```python\n",
    "nested_fruits = [\n",
    "    ['Apple', 'Apricots', 'Avocado'],\n",
    "    ['Banana', 'Blackcurrant', 'Blueberries'],\n",
    "    ['Cherries', 'Cranberries', 'Custard-Apple']]\n",
    "```"
   ]
  },
  {
   "cell_type": "code",
   "execution_count": null,
   "metadata": {
    "colab": {
     "base_uri": "https://localhost:8080/"
    },
    "id": "MJ3Q-Pd9rpFF",
    "outputId": "37aa3f35-ad01-4012-a3d8-6bed14479233",
    "tags": [
     "hide-cell"
    ]
   },
   "outputs": [
    {
     "name": "stdout",
     "output_type": "stream",
     "text": [
      "Blackcurrant\n"
     ]
    }
   ],
   "source": [
    "nested_fruits = [\n",
    "    ['Apple', 'Apricots', 'Avocado'],\n",
    "    ['Banana', 'Blackcurrant', 'Blueberries'],\n",
    "    ['Cherries', 'Cranberries', 'Custard-Apple']]\n",
    "print(nested_fruits[1][1])"
   ]
  },
  {
   "cell_type": "markdown",
   "metadata": {
    "id": "mtR2I8FXrpFG"
   },
   "source": [
    "#### 3.1.1.2 Accessing Subsets Elements in a list via Slicing\n",
    "\n",
    "**Indexing** was only limited to accessing a single element.\n",
    "**Slicing** on the other hand is accessing a sequence of data inside the list.\n",
    "\n",
    "**Slicing** is done by defining the index values of the `first element` and the `last element` from the parent list that is required in the sliced list.\n",
    "\n",
    "```python\n",
    "sub = num[a : b]\n",
    "sub = num[a : ]\n",
    "sub = num[: b]\n",
    "sub = num[:]\n",
    "```\n",
    "\n",
    "* if both `a` and `b` are specified, `a` is the first index, `b` is the **last index + 1**.\n",
    "* if `b` is omitted, it will slice till last element.\n",
    "* if `a` is omitted, it will starts from first element.\n",
    "* if neither `a` or `b` is specified, it is effectively copy the whole list\n",
    "\n",
    "**Note: the upper bound index is NOT inclusive!**\n",
    "\n",
    "List slicing can also be used to extract elements at indices that differs by a constant `diff` (i.e the indices formed a arithmetic progression) with the following syntax\n",
    "```python\n",
    "sub = num[a:b:diff]\n",
    "```"
   ]
  },
  {
   "cell_type": "markdown",
   "metadata": {
    "id": "OwYkwSYsrpFH"
   },
   "source": [
    "#### Exercise 3.2\n",
    "\n",
    "* Create a list containing numbers 0-9\n",
    "* Print 3rd to 5th items\n",
    "* Print all items after 6th position"
   ]
  },
  {
   "cell_type": "code",
   "execution_count": null,
   "metadata": {
    "colab": {
     "base_uri": "https://localhost:8080/"
    },
    "id": "OkOGMF2srpFI",
    "outputId": "1eba0e69-6877-4d8d-d187-21b06eded1dc"
   },
   "outputs": [
    {
     "name": "stdout",
     "output_type": "stream",
     "text": [
      "[3, 4, 5]\n",
      "[7, 8, 9]\n"
     ]
    }
   ],
   "source": [
    "num = [0,1,2,3,4,5,6,7,8,9]\n",
    "print(list[3:6])\n",
    "print(list[7:])"
   ]
  },
  {
   "cell_type": "markdown",
   "metadata": {
    "id": "i_9NHV5vrpFK"
   },
   "source": [
    "#### Exercise 3.3\n",
    "The `num` is a list of integers from 0 to 9, split the list into 2 equal size sub list, `sub1` and `sub2`.\n",
    "\n",
    "```python\n",
    "num = [0, 1, 2, 3, 4, 5, 6, 7, 8, 9]\n",
    "```"
   ]
  },
  {
   "cell_type": "code",
   "execution_count": null,
   "metadata": {
    "colab": {
     "base_uri": "https://localhost:8080/"
    },
    "id": "6Vn99QierpFL",
    "outputId": "eac42410-13bf-44f1-cfdc-0a87201fd067",
    "tags": [
     "hide-cell"
    ]
   },
   "outputs": [
    {
     "name": "stdout",
     "output_type": "stream",
     "text": [
      "[0, 1, 2, 3, 4]\n",
      "[5, 6, 7, 8, 9]\n"
     ]
    }
   ],
   "source": [
    "sub1 = num[:int(len(num)/2)]\n",
    "sub2 = num[int(len(num)/2):]\n",
    "print(sub1)\n",
    "print(sub2)"
   ]
  },
  {
   "cell_type": "markdown",
   "metadata": {
    "id": "nXPB7vhorpFN"
   },
   "source": [
    "Remember list items can be accessed using `negative index`. Same technique can be applied for slicing too, i.e. we can **slice with negative index**.\n",
    "\n",
    "* Last item has index of -1\n",
    "\n",
    "#### Exercise 3.4\n",
    "\n",
    "For a list with integer 0-9,\n",
    "* How to get last 3 items from a list?\n",
    "* How to ignore last 3 items from a list?\n",
    "* How to strip first and last items from a list?"
   ]
  },
  {
   "cell_type": "code",
   "execution_count": null,
   "metadata": {
    "colab": {
     "base_uri": "https://localhost:8080/"
    },
    "id": "JuLkJPn2rpFO",
    "outputId": "5bdd3f6c-afc0-4494-94b1-8e477cb018cd",
    "tags": [
     "hide-cell"
    ]
   },
   "outputs": [
    {
     "name": "stdout",
     "output_type": "stream",
     "text": [
      "[7, 8, 9]\n",
      "[0, 1, 2, 3, 4, 5, 6]\n",
      "[1, 2, 3, 4, 5, 6, 7, 8]\n"
     ]
    }
   ],
   "source": [
    "#list is still called num\n",
    "print(num[-3:])\n",
    "print(num[:-3])\n",
    "print(num[1:-1])"
   ]
  },
  {
   "cell_type": "markdown",
   "metadata": {
    "id": "mVXiOTG7rpFQ"
   },
   "source": [
    "#### 3.1.1.3 Working with Lists"
   ]
  },
  {
   "cell_type": "markdown",
   "metadata": {
    "id": "EjopL6TgrpFQ"
   },
   "source": [
    "##### 3.1.1.3.1 Length of lists `len()`\n",
    "To find the length of the list or the number of elements in a list, the function `len( )` is used. Syntax is\n",
    "```python\n",
    "len(your_list)\n",
    "```\n",
    "\n",
    "#### Exercise 3.5\n",
    "Find the length of list `num = [0,1,2,3,4,5,6,7,8,9]`"
   ]
  },
  {
   "cell_type": "code",
   "execution_count": null,
   "metadata": {
    "colab": {
     "base_uri": "https://localhost:8080/"
    },
    "id": "Kn4ZDJzmrpFR",
    "outputId": "185d8c70-1503-4b5b-cbbc-7b1eeab85b6f"
   },
   "outputs": [
    {
     "name": "stdout",
     "output_type": "stream",
     "text": [
      "10\n"
     ]
    }
   ],
   "source": [
    "print(len(num))"
   ]
  },
  {
   "cell_type": "markdown",
   "metadata": {
    "id": "Ajveac89rpFS"
   },
   "source": [
    "##### 3.1.1.3.2 Maximum `max()`, minimum `min()` and sum `sum()` of all the values in the list\n",
    "\n",
    "If the list consists of all integer elements, the functions `min( )`, `max( )` and `sum()` gives the minimum item, maximum item and total sum value of the list. Syntax is\n",
    "```python\n",
    "max(your_list)\n",
    "min(your_list)\n",
    "sum(your_list)\n",
    "```\n",
    "\n",
    "#### Exercise 3.5\n",
    "Find the minimum value, max value and sum of all the values of list `num = [0,1,2,3,4,5,6,7,8,9]`"
   ]
  },
  {
   "cell_type": "code",
   "execution_count": null,
   "metadata": {
    "colab": {
     "base_uri": "https://localhost:8080/"
    },
    "id": "BkUwTP2srpFU",
    "outputId": "85212267-31ee-4004-bd64-a900d1a1a7b7"
   },
   "outputs": [
    {
     "name": "stdout",
     "output_type": "stream",
     "text": [
      "min value is 0, max value is 9, sum of values is 45\n"
     ]
    }
   ],
   "source": [
    "print(f\"min value is {min(num)}, max value is {max(num)}, sum of values is {sum(num)}\")"
   ]
  },
  {
   "cell_type": "markdown",
   "metadata": {
    "id": "-taLctierpFV"
   },
   "source": [
    "#### Exercise 3.6\n",
    "Find the maximum, minimum and sum of all the values of list `num = [0,1,2,3,4,5,6,7,8,9]` and use `.format()` string method to print out the following message.\n",
    "```python\n",
    "min = 0, max = 9, sum = 45\n",
    "```"
   ]
  },
  {
   "cell_type": "code",
   "execution_count": null,
   "metadata": {
    "colab": {
     "base_uri": "https://localhost:8080/"
    },
    "id": "2PPCY-6_rpFY",
    "outputId": "8af8acd6-eff3-4cda-8de6-6eee9be54eaa",
    "tags": [
     "hide-cell"
    ]
   },
   "outputs": [
    {
     "name": "stdout",
     "output_type": "stream",
     "text": [
      "min = 0, max = 9, sum = 45\n"
     ]
    }
   ],
   "source": [
    "print(f\"min = {min(num)}, max = {max(num)}, sum = {sum(num)}\")"
   ]
  },
  {
   "cell_type": "markdown",
   "metadata": {
    "id": "bGX_HW_vrpFZ"
   },
   "source": [
    "For a list with elements as string, the `max()` and `min()` is still applicable.\n",
    "* `max()` would return a string element whose ASCII value is the highest\n",
    "* `min()` is used to return the lowest\n",
    "\n",
    "Note that only the first index of each element is considered each time and if they value is the same then second index considered so on and so forth."
   ]
  },
  {
   "cell_type": "markdown",
   "metadata": {
    "id": "o7MivUEFrpFb"
   },
   "source": [
    "#### Exercise 3.7\n",
    "\n",
    "What is the output of `min()` and `max()` on following list? What would happen if `sum()` is applied?\n",
    "\n",
    "\n",
    "```python\n",
    "jc = ['tmjc', 'vjc', 'tjc', 'yijc', 'acjc', 'njc', 'hci', 'asrjc', 'jpjc', 'rjc', 'cjc', 'mi', 'dhs', 'ejc', 'sajc', 'nyjc']\n",
    "```"
   ]
  },
  {
   "cell_type": "code",
   "execution_count": null,
   "metadata": {
    "colab": {
     "base_uri": "https://localhost:8080/"
    },
    "id": "nQDkwrqqrpFc",
    "outputId": "bbf85f11-3edc-4dee-fa76-4274af01b626"
   },
   "outputs": [
    {
     "name": "stdout",
     "output_type": "stream",
     "text": [
      "acjc\n",
      "yijc\n"
     ]
    }
   ],
   "source": [
    "jc = ['tmjc', 'vjc', 'tjc', 'yijc', 'acjc', 'njc', 'hci', 'asrjc', 'jpjc', 'rjc', 'cjc', 'mi', 'dhs', 'ejc', 'sajc', 'nyjc']\n",
    "print(min(jc))\n",
    "print(max(jc))"
   ]
  },
  {
   "cell_type": "markdown",
   "metadata": {
    "id": "HSXi26M8rpFe"
   },
   "source": [
    "##### 3.1.1.3.3 Reversing the values in a list with `reversed()` function\n",
    "\n",
    "The entire elements present in the list can be reversed by using the `reversed()` function.\n",
    "\n",
    "#### Exercise 3.8\n",
    "Modify following list by arranging items in reverse order.\n",
    "\n",
    "```python\n",
    "jc = ['tmjc', 'vjc', 'tjc', 'yijc', 'acjc', 'njc', 'hci', 'asrjc', 'jpjc', 'rjc', 'cjc', 'mi', 'dhs', 'ejc', 'sajc', 'nyjc']\n",
    "```"
   ]
  },
  {
   "cell_type": "code",
   "execution_count": null,
   "metadata": {
    "colab": {
     "base_uri": "https://localhost:8080/"
    },
    "id": "dZ7dnDVErpFf",
    "outputId": "94c39571-40fb-4a56-e95b-dae09f351dd2"
   },
   "outputs": [
    {
     "name": "stdout",
     "output_type": "stream",
     "text": [
      "['nyjc', 'sajc', 'ejc', 'dhs', 'mi', 'cjc', 'rjc', 'jpjc', 'asrjc', 'hci', 'njc', 'acjc', 'yijc', 'tjc', 'vjc', 'tmjc']\n"
     ]
    }
   ],
   "source": [
    "print(list(reversed(jc)))\n"
   ]
  },
  {
   "cell_type": "markdown",
   "metadata": {
    "id": "e_TXaoT1rpFg"
   },
   "source": [
    "#### Exercise 3.9\n",
    "\n",
    "Can you print out the items in reverse order without modifying the list?\n",
    "* Hint: use indexing with step `-1`\n",
    "\n",
    "```python\n",
    "jc = ['tmjc', 'vjc', 'tjc', 'yijc', 'acjc', 'njc', 'hci', 'asrjc', 'jpjc', 'rjc', 'cjc', 'mi', 'dhs', 'ejc', 'sajc', 'nyjc']\n",
    "```"
   ]
  },
  {
   "cell_type": "code",
   "execution_count": null,
   "metadata": {
    "colab": {
     "base_uri": "https://localhost:8080/"
    },
    "id": "e1hEtGmvrpFh",
    "outputId": "22031874-461f-429c-8f46-36a0722b3a1b"
   },
   "outputs": [
    {
     "name": "stdout",
     "output_type": "stream",
     "text": [
      "['nyjc', 'sajc', 'ejc', 'dhs', 'mi', 'cjc', 'rjc', 'jpjc', 'asrjc', 'hci', 'njc', 'acjc', 'yijc', 'tjc', 'vjc', 'tmjc']\n"
     ]
    }
   ],
   "source": [
    "print(jc[::-1])"
   ]
  },
  {
   "cell_type": "markdown",
   "metadata": {
    "id": "fugmBHdjrpFj"
   },
   "source": [
    "##### 3.1.1.3.3 Sorting elements in a list with `sorted()` function\n",
    "\n",
    "Python offers built in operation `sorted( )` to arrange the elements in **ascending** order. Syntax is\n",
    "\n",
    "```python\n",
    "sorted(your_list)\n",
    "```\n",
    "\n",
    "For **descending** order, specify the named argument `reverse = True`. Syntax is\n",
    "\n",
    "```python\n",
    "sorted(your_list, reverse = True)\n",
    "```\n",
    "\n",
    "By default the reverse condition will be `False` for reverse. Hence changing it to `True` would arrange the elements in descending order."
   ]
  },
  {
   "cell_type": "markdown",
   "metadata": {
    "id": "7CGzaMKprpFj"
   },
   "source": [
    "#### Exercise 3.10\n",
    "\n",
    "* Check out the documentation of `list.sort()` method\n",
    "* Sort following list in <u>ascending</u> order, and then in <u>descending</u> order\n",
    "```python\n",
    "jc = ['tmjc', 'vjc', 'tjc', 'yijc', 'acjc', 'njc', 'hci', 'asrjc', 'jpjc', 'rjc', 'cjc', 'mi', 'dhs', 'ejc', 'sajc', 'nyjc']\n",
    "\n",
    "```"
   ]
  },
  {
   "cell_type": "code",
   "execution_count": null,
   "metadata": {
    "colab": {
     "base_uri": "https://localhost:8080/"
    },
    "id": "oJtACWD1rpFl",
    "outputId": "c5cde9d8-988a-4ac3-8742-b4f84c00dcd4"
   },
   "outputs": [
    {
     "name": "stdout",
     "output_type": "stream",
     "text": [
      "['acjc', 'asrjc', 'cjc', 'dhs', 'ejc', 'hci', 'jpjc', 'mi', 'njc', 'nyjc', 'rjc', 'sajc', 'tjc', 'tmjc', 'vjc', 'yijc']\n",
      "['yijc', 'vjc', 'tmjc', 'tjc', 'sajc', 'rjc', 'nyjc', 'njc', 'mi', 'jpjc', 'hci', 'ejc', 'dhs', 'cjc', 'asrjc', 'acjc']\n"
     ]
    }
   ],
   "source": [
    "jc.sort()\n",
    "print(jc)\n",
    "jc.sort(reverse=True)\n",
    "print(jc)"
   ]
  },
  {
   "cell_type": "markdown",
   "metadata": {
    "id": "jP3N-GHCrpFm"
   },
   "source": [
    "#### Exercise 3.11\n",
    "\n",
    "* What's the difference between `list.sort()` method and `sorted()` function?\n",
    "* Write code to illustrate the difference.\n"
   ]
  },
  {
   "cell_type": "code",
   "execution_count": null,
   "metadata": {
    "colab": {
     "base_uri": "https://localhost:8080/"
    },
    "id": "TbqnzzierpFo",
    "outputId": "42268e95-80ad-4986-8b51-3ebdc02317fe"
   },
   "outputs": [
    {
     "name": "stdout",
     "output_type": "stream",
     "text": [
      "['yijc', 'vjc', 'tmjc', 'tjc', 'sajc', 'rjc', 'nyjc', 'njc', 'mi', 'jpjc', 'hci', 'ejc', 'dhs', 'cjc', 'asrjc', 'acjc']\n",
      "['acjc', 'asrjc', 'cjc', 'dhs', 'ejc', 'hci', 'jpjc', 'mi', 'njc', 'nyjc', 'rjc', 'sajc', 'tjc', 'tmjc', 'vjc', 'yijc']\n",
      "['yijc', 'vjc', 'tmjc', 'tjc', 'sajc', 'rjc', 'nyjc', 'njc', 'mi', 'jpjc', 'hci', 'ejc', 'dhs', 'cjc', 'asrjc', 'acjc']\n",
      "['acjc', 'asrjc', 'cjc', 'dhs', 'ejc', 'hci', 'jpjc', 'mi', 'njc', 'nyjc', 'rjc', 'sajc', 'tjc', 'tmjc', 'vjc', 'yijc']\n"
     ]
    }
   ],
   "source": [
    "#list.sort() sorts list itself\n",
    "#sorted() returns new list\n",
    "print(jc)\n",
    "print(sorted(jc))\n",
    "print(jc) #jc itself is unchanged\n",
    "jc.sort()\n",
    "print(jc) #jc itself is changed"
   ]
  },
  {
   "cell_type": "markdown",
   "metadata": {
    "id": "VQEs4fL3rpFq"
   },
   "source": [
    "The `sorted()` function has another named argument `key`, which allows us to specify a callable function to adjust our sorting criteria. Syntax is\n",
    "\n",
    "```python\n",
    "sorted(your_list, key = your_function)\n",
    "```\n",
    "\n",
    "The sorting will be done based on returned value from this callable function.\n"
   ]
  },
  {
   "cell_type": "markdown",
   "metadata": {
    "id": "Wf5dRp0arpFr"
   },
   "source": [
    "#### Exercise 3.12\n",
    "\n",
    "For following list of items, sort them by number of characters in each item.\n",
    "* *Hint:* The `len()` function returns length of a string. To sort based on string length, `key = len` can be specified as shown.\n",
    "\n",
    "```python\n",
    "names = ['duck', 'chicken', 'goose']\n",
    "```"
   ]
  },
  {
   "cell_type": "code",
   "execution_count": null,
   "metadata": {
    "colab": {
     "base_uri": "https://localhost:8080/"
    },
    "id": "em6aQT-FrpFs",
    "outputId": "7a8c5537-6d10-4a36-d75f-d46f5c8b5273"
   },
   "outputs": [
    {
     "name": "stdout",
     "output_type": "stream",
     "text": [
      "['duck', 'goose', 'chicken']\n"
     ]
    }
   ],
   "source": [
    "names = ['duck', 'chicken', 'goose']\n",
    "print(sorted(names, key=lambda banana : len(banana)))"
   ]
  },
  {
   "cell_type": "markdown",
   "metadata": {
    "id": "BGs0U_KHrpFu"
   },
   "source": [
    "#### Exercise 3.13\n",
    "\n",
    "For a list `[-1, 5, -30, -10, 2, 20, -3]`, sort the list in descending order by their absolute value.\n",
    "* *Hint:* The `abs()` function returns absolute value of a number."
   ]
  },
  {
   "cell_type": "code",
   "execution_count": null,
   "metadata": {
    "colab": {
     "base_uri": "https://localhost:8080/"
    },
    "id": "PDWIvzb6rpFv",
    "outputId": "17a74706-39fc-4ec2-e571-009bdef215d0",
    "tags": [
     "hide-cell"
    ]
   },
   "outputs": [
    {
     "name": "stdout",
     "output_type": "stream",
     "text": [
      "[-1, 2, -3, 5, -10, 20, -30]\n"
     ]
    }
   ],
   "source": [
    "ex13_list = [-1, 5, -30, -10, 2, 20, -3]\n",
    "print(sorted(ex13_list, key = abs))"
   ]
  },
  {
   "cell_type": "markdown",
   "metadata": {
    "id": "pAs-S4GbrpFx"
   },
   "source": [
    "Two lists can also be join together simply using `+` operator. This is called the **concatenation of lists**.\n",
    "\n",
    "#### Exercise 3.14\n",
    "\n",
    "Concatenate the lists `[1, 2, 3, 4, 5]` and `[6, 7, 8, 9]`"
   ]
  },
  {
   "cell_type": "code",
   "execution_count": null,
   "metadata": {
    "colab": {
     "base_uri": "https://localhost:8080/"
    },
    "id": "gNucE4K1rpFy",
    "outputId": "3a4b7506-1513-4e24-b501-a35d1d3eb6e1"
   },
   "outputs": [
    {
     "name": "stdout",
     "output_type": "stream",
     "text": [
      "[1, 2, 3, 4, 5, 6, 7, 8, 9]\n"
     ]
    }
   ],
   "source": [
    "print([1, 2, 3, 4, 5] + [6, 7, 8, 9])"
   ]
  },
  {
   "cell_type": "markdown",
   "metadata": {
    "id": "7NJBZ8NLrpFz"
   },
   "source": [
    "Similar to String, we can repeat a list multiple times with `*` operator.\n",
    "\n",
    "#### Exercise 3.15  \n",
    "\n",
    "Create a list `[1, 2, 3, 1, 2, 3, 1, 2, 3, 1, 2, 3]` from list `[1, 2, 3]`.\n"
   ]
  },
  {
   "cell_type": "code",
   "execution_count": null,
   "metadata": {
    "colab": {
     "base_uri": "https://localhost:8080/"
    },
    "id": "PevmDoxkrpF1",
    "outputId": "27ac9b76-0538-4f02-ad4d-ae775a20231b"
   },
   "outputs": [
    {
     "name": "stdout",
     "output_type": "stream",
     "text": [
      "[1, 2, 3, 1, 2, 3, 1, 2, 3, 1, 2, 3]\n"
     ]
    }
   ],
   "source": [
    "print([1, 2, 3] * 4)"
   ]
  },
  {
   "cell_type": "markdown",
   "metadata": {
    "id": "arO7H-9BrpF3"
   },
   "source": [
    "Recap: String has many similar behaviors as list.\n",
    "\n",
    "#### Exercise 3.16\n",
    "\n",
    "* How to concatenate 2 strings?\n",
    "* How to repeat a string 2 times?"
   ]
  },
  {
   "cell_type": "code",
   "execution_count": null,
   "metadata": {
    "colab": {
     "base_uri": "https://localhost:8080/"
    },
    "id": "2Z0EeP_lrpF4",
    "outputId": "fc03ddff-8639-45bd-9bcf-c8cf3d8afc3a"
   },
   "outputs": [
    {
     "name": "stdout",
     "output_type": "stream",
     "text": [
      "apple banana apple banana apple banana apple banana apple banana apple banana apple banana apple banana apple banana apple banana \n"
     ]
    }
   ],
   "source": [
    "print((\"apple\" + \" \" + \"banana\" + \" \") * 10)"
   ]
  },
  {
   "cell_type": "markdown",
   "metadata": {
    "id": "lC015E1HrpF6"
   },
   "source": [
    "#### 3.1.1.4 Membership and Searching elements in a list\n",
    "\n",
    "You might need to check if a particular item is in a list.\n",
    "\n",
    "Instead of using `for` loop to iterate over the list and use the if condition, Python provides a simple **`in`** statement to check membership of an item.\n",
    "\n",
    "#### Exercise 3.17\n",
    "\n",
    "Write code to find out whether `'duck'` and `'dog'` are in the list `['duck', 'chicken', 'goose']` respectively."
   ]
  },
  {
   "cell_type": "code",
   "execution_count": null,
   "metadata": {
    "colab": {
     "base_uri": "https://localhost:8080/"
    },
    "id": "uViWXG2brpF7",
    "outputId": "aa44eba4-7385-4f7e-a0dd-1aa633e1fca8"
   },
   "outputs": [
    {
     "name": "stdout",
     "output_type": "stream",
     "text": [
      "duck in list\n",
      "dog not in list\n"
     ]
    }
   ],
   "source": [
    "ex17_list = [\"duck\", \"chicken\", \"goose\"]\n",
    "if \"duck\" in ex17_list:\n",
    "  print(\"duck in list\")\n",
    "else:\n",
    "  print(\"duck not in list\")\n",
    "if \"dog\" in ex17_list:\n",
    "  print(\"dog in list\")\n",
    "else:\n",
    "  print(\"dog not in list\")"
   ]
  },
  {
   "cell_type": "markdown",
   "metadata": {
    "id": "OLSYjbM7rpF8"
   },
   "source": [
    "To count the occurence of a particular item in a list, we can use the `.count()` method. Syntax is\n",
    ">```python\n",
    ">your_list.count(item)\n",
    ">```\n",
    "\n",
    "#### Exercise 3.18\n",
    "* Create a list `['duck', 'chicken', 'goose', 'duck', 'chicken', 'goose', 'duck', 'chicken', 'goose']` from `['duck', 'chicken', 'goose']`\n",
    "* Count number of occurence of `'duck'`"
   ]
  },
  {
   "cell_type": "code",
   "execution_count": null,
   "metadata": {
    "colab": {
     "base_uri": "https://localhost:8080/"
    },
    "id": "Kk0FuLTKrpF9",
    "outputId": "557cf16a-8921-44c6-bd84-0e0622d0390c"
   },
   "outputs": [
    {
     "name": "stdout",
     "output_type": "stream",
     "text": [
      "3\n"
     ]
    }
   ],
   "source": [
    "print((ex17_list * 3).count(\"duck\"))"
   ]
  },
  {
   "cell_type": "markdown",
   "metadata": {
    "id": "ncobHTuMrpF-"
   },
   "source": [
    "To find the index value of a particular item, we can use `.index()` method. Syntax is\n",
    ">```python\n",
    ">your_list.index(item)\n",
    ">```\n",
    "\n",
    "* If there are multiple items of the same value, only the first index value of that item is returned.\n",
    "* You can add 2nd argument `x` to start searching from index `x` onwards.\n",
    "\n",
    "Note: the string functions `find()` and `rfind()` are <u>not available</u> for list.\n",
    "\n",
    "#### Exercise 3.19\n",
    "* Create a list `['duck', 'chicken', 'goose', 'duck', 'chicken', 'goose', 'duck', 'chicken', 'goose']` from `['duck', 'chicken', 'goose']`\n",
    "* Find the index of the first occurence of `'duck'` in the list.\n",
    "* Find ALL the indices of occurences of `'duck'` in the list."
   ]
  },
  {
   "cell_type": "code",
   "execution_count": null,
   "metadata": {
    "colab": {
     "base_uri": "https://localhost:8080/"
    },
    "id": "HflaIzMCrpF-",
    "outputId": "d2c81ac0-0e29-4849-b05d-56bb0ed63f69"
   },
   "outputs": [
    {
     "name": "stdout",
     "output_type": "stream",
     "text": [
      "0\n",
      "[0, 3, 6, 9, 12, 15, 18, 21, 24, 27, 30, 33, 36, 39, 42, 45, 48, 51, 54, 57, 60, 63, 66]\n"
     ]
    }
   ],
   "source": [
    "ex19_list = ex17_list * 23\n",
    "print(ex19_list.index(\"duck\"))\n",
    "last_index = 0\n",
    "index_list = []\n",
    "for i in range (ex19_list.count(\"duck\")):\n",
    "  ThomasTheEngine = ex19_list.index(\"duck\",last_index)\n",
    "  index_list.append(ThomasTheEngine)\n",
    "  last_index = ThomasTheEngine + 1\n",
    "print(index_list)"
   ]
  },
  {
   "cell_type": "markdown",
   "metadata": {
    "id": "vKVw6CJnrpGA"
   },
   "source": [
    "#### 3.1.1.5 Iterating through List\n",
    "\n",
    "To iterate through a collection, e.g. list or tuple, you can use **for-loop**.\n",
    "\n",
    "**Syntax**\n",
    "```python\n",
    "for item in my_list:\n",
    "    # Process each item\n",
    "```\n",
    "\n",
    "#### Exercise 3.20\n",
    "\n",
    "Print out each item in `names` list.\n",
    "```python\n",
    "names = ['duck', 'chicken', 'goose']\n",
    "```"
   ]
  },
  {
   "cell_type": "code",
   "execution_count": null,
   "metadata": {
    "colab": {
     "base_uri": "https://localhost:8080/"
    },
    "id": "Kc0bxzLtrpGC",
    "outputId": "683fb475-e360-4462-a767-991ea5b17e5d"
   },
   "outputs": [
    {
     "name": "stdout",
     "output_type": "stream",
     "text": [
      "duck\n",
      "chicken\n",
      "goose\n"
     ]
    }
   ],
   "source": [
    "for i in names:\n",
    "  print(i)"
   ]
  },
  {
   "cell_type": "markdown",
   "metadata": {
    "id": "wDeWqnfzrpGD"
   },
   "source": [
    "To find the index value of each item in the list, we can use `enumerate()` function in a **for-loop**. Syntax is\n",
    "```python\n",
    "for index, item enumerate(your_list):\n",
    "    # Process each index and item\n",
    "```\n",
    "\n",
    "#### Exercise 3.21\n",
    "* Print items in list `['duck', 'chicken', 'goose']` as following output.\n",
    "\n",
    ">```python\n",
    ">0 duck\n",
    ">1 chicken\n",
    ">2 goose\n",
    ">```"
   ]
  },
  {
   "cell_type": "code",
   "execution_count": null,
   "metadata": {
    "colab": {
     "base_uri": "https://localhost:8080/"
    },
    "id": "DK47V0UorpGF",
    "outputId": "22158d59-1758-4635-b750-fa0def1b6231"
   },
   "outputs": [
    {
     "name": "stdout",
     "output_type": "stream",
     "text": [
      "0 duck\n",
      "1 chicken\n",
      "2 goose\n"
     ]
    }
   ],
   "source": [
    "for i, item in enumerate(names):\n",
    "  print(f\"{i} {item}\")"
   ]
  },
  {
   "cell_type": "markdown",
   "metadata": {
    "id": "We3EOzsLrpGH"
   },
   "source": [
    "Python provides a very handy way to perform same operate on all items in a list, and return a new list, called *list comprehension*.\n",
    "\n",
    "#### Exercise 3.22\n",
    "\n",
    "Create a list which contains len() value of each item in `['duck', 'chicken', 'goose']`\n"
   ]
  },
  {
   "cell_type": "code",
   "execution_count": null,
   "metadata": {
    "colab": {
     "base_uri": "https://localhost:8080/"
    },
    "id": "fsZI2qOYrpGI",
    "outputId": "c2a0f2d8-d973-479b-f754-c47411e49bed"
   },
   "outputs": [
    {
     "name": "stdout",
     "output_type": "stream",
     "text": [
      "[4, 7, 5]\n"
     ]
    }
   ],
   "source": [
    "ex22_list = [len(x) for x in names]\n",
    "print(ex22_list)"
   ]
  },
  {
   "cell_type": "markdown",
   "metadata": {
    "id": "cpN8YJZOrpGK"
   },
   "source": [
    "#### Exercise 3.23\n",
    "\n",
    "Create a list which contain the first 100 terms of an arithmetic sequence with first term 2 and common difference 3."
   ]
  },
  {
   "cell_type": "code",
   "execution_count": null,
   "metadata": {
    "colab": {
     "base_uri": "https://localhost:8080/"
    },
    "id": "oI3CVA5trpGM",
    "outputId": "70ae865b-619d-4918-f3cb-6bdbd95ce435"
   },
   "outputs": [
    {
     "name": "stdout",
     "output_type": "stream",
     "text": [
      "[2, 5, 8, 11, 14, 17, 20, 23, 26, 29, 32, 35, 38, 41, 44, 47, 50, 53, 56, 59, 62, 65, 68, 71, 74, 77, 80, 83, 86, 89, 92, 95, 98, 101, 104, 107, 110, 113, 116, 119, 122, 125, 128, 131, 134, 137, 140, 143, 146, 149, 152, 155, 158, 161, 164, 167, 170, 173, 176, 179, 182, 185, 188, 191, 194, 197, 200, 203, 206, 209, 212, 215, 218, 221, 224, 227, 230, 233, 236, 239, 242, 245, 248, 251, 254, 257, 260, 263, 266, 269, 272, 275, 278, 281, 284, 287, 290, 293, 296, 299]\n"
     ]
    }
   ],
   "source": [
    "ex23_list = [(i*3+2) for i in range(100)]\n",
    "print(ex23_list)"
   ]
  },
  {
   "cell_type": "markdown",
   "metadata": {
    "id": "G0NyzTr5rpGO"
   },
   "source": [
    "#### Exercise 3.24\n",
    "Create a list where all items are prefixed with a string 'big', which resulted in `['big duck', 'big chicken', 'big goose']`?\n",
    "\n",
    "```python\n",
    "names = ['duck', 'chicken', 'goose']\n",
    "```"
   ]
  },
  {
   "cell_type": "code",
   "execution_count": null,
   "metadata": {
    "colab": {
     "base_uri": "https://localhost:8080/"
    },
    "id": "rdQ9fWs0rpGO",
    "outputId": "1b1438aa-c248-48c9-8ca6-0e4ae382ceef",
    "tags": [
     "hide-cell"
    ]
   },
   "outputs": [
    {
     "name": "stdout",
     "output_type": "stream",
     "text": [
      "['big duck', 'big chicken', 'big goose']\n"
     ]
    }
   ],
   "source": [
    "ex24_list = [(\"big \" + elephant) for elephant in names]\n",
    "print(ex24_list)"
   ]
  },
  {
   "cell_type": "markdown",
   "metadata": {
    "id": "PNFZV8DFrpGP"
   },
   "source": [
    "#### 3.1.1.4 Modifying a list\n",
    "\n",
    "List is a **mutable** collection, i.e. list can be modified and item value can be updated."
   ]
  },
  {
   "cell_type": "markdown",
   "metadata": {
    "id": "j0WiISZmrpGS"
   },
   "source": [
    "It is easy to update an item in the list by its index value.\n",
    "\n",
    "#### Exercise 3.25\n",
    "\n",
    "For a list `s = [0,1,2,3,4]`, update its 3rd item to `9`."
   ]
  },
  {
   "cell_type": "code",
   "execution_count": null,
   "metadata": {
    "colab": {
     "base_uri": "https://localhost:8080/"
    },
    "id": "LAWIXWAYrpGU",
    "outputId": "b918b2c4-c0e5-4115-d066-20161c2d9035"
   },
   "outputs": [
    {
     "name": "stdout",
     "output_type": "stream",
     "text": [
      "[0, 1, 2, 9, 4]\n"
     ]
    }
   ],
   "source": [
    "s = [0,1,2,3,4]\n",
    "s[3] = 9\n",
    "print(s)"
   ]
  },
  {
   "cell_type": "markdown",
   "metadata": {
    "id": "F8a6sbqWrpGX"
   },
   "source": [
    "The `list.append()` method is used to append (add) a element at the end of the list. Syntax is\n",
    ">```python\n",
    ">your_list.append(element)\n",
    ">```\n",
    "\n",
    "#### Exercise 3.26\n",
    "\n",
    "For a list `s = [0, 1, 2, 3, 4, 5]`, append a value `6` to it."
   ]
  },
  {
   "cell_type": "code",
   "execution_count": null,
   "metadata": {
    "colab": {
     "base_uri": "https://localhost:8080/"
    },
    "id": "dx2H3X0krpGZ",
    "outputId": "52b560af-a6e8-4c7d-b4f1-6842d20563f9"
   },
   "outputs": [
    {
     "name": "stdout",
     "output_type": "stream",
     "text": [
      "[0, 1, 2, 3, 4, 5, 6]\n"
     ]
    }
   ],
   "source": [
    "s2 = [0, 1, 2, 3, 4, 5]\n",
    "s2.append(6)\n",
    "print(s2)"
   ]
  },
  {
   "cell_type": "markdown",
   "metadata": {
    "id": "OF2B7whxrpGb"
   },
   "source": [
    "#### Exercise 3.27\n",
    "\n",
    "What happens if you append a list `[7, 8, 9]` to a list `[1, 2, 3, 4, 5, 6]`?\n"
   ]
  },
  {
   "cell_type": "code",
   "execution_count": null,
   "metadata": {
    "colab": {
     "base_uri": "https://localhost:8080/"
    },
    "id": "_XaQr_DorpGc",
    "outputId": "6703ca19-7c41-4fa8-a910-994ffcf8ccdc",
    "tags": [
     "hide-cell"
    ]
   },
   "outputs": [
    {
     "name": "stdout",
     "output_type": "stream",
     "text": [
      "[0, 1, 2, 3, 4, 5, 6, [7, 8, 9]]\n"
     ]
    }
   ],
   "source": [
    "s2.append([7, 8, 9])\n",
    "print(s2)"
   ]
  },
  {
   "cell_type": "markdown",
   "metadata": {
    "id": "xlPEXoUJrpGe"
   },
   "source": [
    "A list can also be **extended** with items from another list using `list.extend()` method. It will modify the first list. The resultant list will contain all the elements of the lists that were added, i.e. the resultant list is NOT a nested list. Syntax is\n",
    ">```python\n",
    ">your_list.extend(another_list)\n",
    ">```\n",
    "\n",
    "**Note** the difference between `append()` and `extend()`."
   ]
  },
  {
   "cell_type": "markdown",
   "metadata": {
    "id": "VjzrstuorpGf"
   },
   "source": [
    "\n",
    "#### Exercise 3.28\n",
    "\n",
    "Extend a list `[1, 2, 3, 4, 5, 6]` with all items in another list `[7, 8, 9]`."
   ]
  },
  {
   "cell_type": "code",
   "execution_count": null,
   "metadata": {
    "colab": {
     "base_uri": "https://localhost:8080/"
    },
    "id": "eJ-NJormrpGg",
    "outputId": "0848148a-62d4-49e2-92c9-8574fde2aa0b"
   },
   "outputs": [
    {
     "name": "stdout",
     "output_type": "stream",
     "text": [
      "[1, 2, 3, 4, 5, 6, 7, 8, 9]\n"
     ]
    }
   ],
   "source": [
    "s3 = [1, 2, 3, 4, 5, 6]\n",
    "s3.extend([7, 8, 9])\n",
    "print(s3)"
   ]
  },
  {
   "cell_type": "markdown",
   "metadata": {
    "id": "1eL2yCYLrpGi"
   },
   "source": [
    "**Question:**\n",
    "\n",
    "* Can you re-write above code using `+` operator?\n",
    "* Can you insert `[7, 8, 9]` in the middle of `[1, 2, 3, 4, 5, 6]` using `+` operator?"
   ]
  },
  {
   "cell_type": "code",
   "execution_count": null,
   "metadata": {
    "colab": {
     "base_uri": "https://localhost:8080/"
    },
    "id": "BbkI0CyVrpGk",
    "outputId": "8e326226-e6d2-4992-c48b-92ada923c2ac",
    "tags": [
     "hide-cell"
    ]
   },
   "outputs": [
    {
     "name": "stdout",
     "output_type": "stream",
     "text": [
      "[1, 2, 3, 4, 5, 6, 7, 8, 9]\n"
     ]
    }
   ],
   "source": [
    "s4 = [1, 2, 3, 4, 5, 6]\n",
    "print(s4 + [7, 8, 9])"
   ]
  },
  {
   "cell_type": "markdown",
   "metadata": {
    "id": "I-wTfwxfrpGl"
   },
   "source": [
    "The method `list.insert(position,new_value)` is used to insert a element `new_value` at a specified index value `position`. Syntax is\n",
    ">```python\n",
    ">your_list.insert(position,new_value)\n",
    ">```\n",
    "\n",
    "* `list.insert()` method does not replace element at the index.\n",
    "* `list.append( )` method can only insert item at the end.\n",
    "\n",
    "#### Exercise 3.29\n",
    "\n",
    "Use `list.insert()` method to modify a string `'What a day'` to `'What a sunny day'`.\n",
    "* *Hint:* Use `str.split()` and `str.join()` methods."
   ]
  },
  {
   "cell_type": "code",
   "execution_count": null,
   "metadata": {
    "colab": {
     "base_uri": "https://localhost:8080/"
    },
    "id": "qPtlWrYyrpGn",
    "outputId": "65bc7622-cf7f-4489-c688-46c0435ee265"
   },
   "outputs": [
    {
     "name": "stdout",
     "output_type": "stream",
     "text": [
      "What a sunny day\n"
     ]
    }
   ],
   "source": [
    "\n",
    "initial_string = \"What a day\"\n",
    "string_list = initial_string.split()\n",
    "string_list.insert(2, \"sunny\")\n",
    "final_string = \" \".join(string_list)\n",
    "print(final_string)"
   ]
  },
  {
   "cell_type": "markdown",
   "metadata": {
    "id": "y18WZ19jrpGo"
   },
   "source": [
    "`list.pop()` method can be used to remove the last element in the list. This is similar to the operation of a stack (which we will cover later in the course.) Syntax is\n",
    ">```python\n",
    ">your_list.pop()\n",
    ">```\n",
    "\n",
    "#### Exercise 3.30\n",
    "\n",
    "Use `list.pop()` function to remove items in list `[0, 1, 2, 3, 4]` in reverse order."
   ]
  },
  {
   "cell_type": "code",
   "execution_count": null,
   "metadata": {
    "colab": {
     "base_uri": "https://localhost:8080/"
    },
    "id": "Xe9QXnVCrpGq",
    "outputId": "b43391c5-e2a8-49f7-a9c1-08967cae1afa"
   },
   "outputs": [
    {
     "name": "stdout",
     "output_type": "stream",
     "text": [
      "[0, 1, 2, 3, 4]\n",
      "[0, 1, 2, 3]\n",
      "[0, 1, 2]\n",
      "[0, 1]\n",
      "[0]\n",
      "[]\n"
     ]
    }
   ],
   "source": [
    "ex30_list = [0, 1, 2, 3, 4]\n",
    "ex30_list_length = len(ex30_list)\n",
    "for i in range(ex30_list_length):\n",
    "  print(ex30_list)\n",
    "  ex30_list.pop()\n",
    "print(ex30_list)"
   ]
  },
  {
   "cell_type": "markdown",
   "metadata": {
    "id": "cTnLDmHcrpGs"
   },
   "source": [
    "Index value can be specified to `list.pop()` method to remove a certain element corresponding to that index value. Syntax is\n",
    ">```python\n",
    ">your_list.pop(index)\n",
    ">```\n",
    "\n",
    "#### Exercise 3.31\n",
    "\n",
    "Use `list.pop()` method to remove `'c'` from list `['a', 'b', 'c', 'd', 'e']`."
   ]
  },
  {
   "cell_type": "code",
   "execution_count": null,
   "metadata": {
    "colab": {
     "base_uri": "https://localhost:8080/"
    },
    "id": "cTD6uOCbQECx",
    "outputId": "0212735d-c467-4952-ffc4-8efb03039a80"
   },
   "outputs": [
    {
     "name": "stdout",
     "output_type": "stream",
     "text": [
      "['a', 'b', 'd', 'e']\n"
     ]
    }
   ],
   "source": [
    "ex31_list = ['a', 'b', 'c', 'd', 'e']\n",
    "ex31_list.pop(2)\n",
    "print(ex31_list)"
   ]
  },
  {
   "cell_type": "markdown",
   "metadata": {
    "id": "IHhOGPOPrpGu"
   },
   "source": [
    "`list.remove( )` method is used to remove an item based on its value. Syntax is\n",
    ">```python\n",
    ">your_list.remove(value)\n",
    ">```\n",
    "\n",
    "* If there are multiple items of same value, it will only remove 1st item.\n",
    "* It will throw an **exception** if the value is not found in the list. You may need to enclose it with `try-except` block. (We will come back to this)\n",
    "\n",
    "#### Exercise 3.32\n",
    "\n",
    "Use `list.remove()` function to remove value `3` three times.\n",
    "\n",
    "```\n",
    "lst = [0, 1, 2, 3, 4] * 2\n",
    "```"
   ]
  },
  {
   "cell_type": "code",
   "execution_count": null,
   "metadata": {
    "colab": {
     "base_uri": "https://localhost:8080/"
    },
    "id": "LgfDDMJZrpGw",
    "outputId": "48e64885-0ba9-4a76-ec45-01eddb02792d"
   },
   "outputs": [
    {
     "name": "stdout",
     "output_type": "stream",
     "text": [
      "oops erorr occured\n",
      "[0, 1, 2, 4, 0, 1, 2, 4]\n"
     ]
    }
   ],
   "source": [
    "ex32_list = [0, 1, 2, 3, 4] * 2\n",
    "try:\n",
    "  ex32_list.remove(3)\n",
    "  ex32_list.remove(3)\n",
    "  ex32_list.remove(3)\n",
    "except:\n",
    "  print(\"oops erorr occured\")\n",
    "finally:\n",
    "  print(ex32_list)"
   ]
  },
  {
   "cell_type": "markdown",
   "metadata": {
    "id": "zGYO7mVxrpGx"
   },
   "source": [
    "#### Exercise 3.33\n",
    "\n",
    "How to remove all values `3` in the list `[1, 2, 3, 4, 1, 2, 3, 4, 1, 2, 3, 4]`?\n",
    "* *Hint:* Use `while`, `try-except`, and `break`"
   ]
  },
  {
   "cell_type": "code",
   "execution_count": null,
   "metadata": {
    "colab": {
     "base_uri": "https://localhost:8080/"
    },
    "id": "eHQ64Qf0rpGy",
    "outputId": "4226351d-c7da-43aa-a87c-d63a7c474dc9",
    "tags": [
     "hide-cell"
    ]
   },
   "outputs": [
    {
     "name": "stdout",
     "output_type": "stream",
     "text": [
      "version 1\n",
      "oops erorr occured\n",
      "[0, 1, 2, 4, 0, 1, 2, 4]\n",
      "version 2\n",
      "[0, 1, 2, 4, 0, 1, 2, 4]\n"
     ]
    }
   ],
   "source": [
    "ex33_list = [0, 1, 2, 3, 4] * 2\n",
    "print(\"version 1\")\n",
    "try:\n",
    "  while True:\n",
    "    ex33_list.remove(3)\n",
    "except:\n",
    "  print(\"oops erorr occured\")\n",
    "finally:\n",
    "  print(ex33_list)\n",
    "\n",
    "ex33_list = [0, 1, 2, 3, 4] * 2\n",
    "print(\"version 2\")\n",
    "while 3 in ex33_list:\n",
    "  ex33_list.remove(3)\n",
    "print(ex33_list)\n"
   ]
  },
  {
   "cell_type": "markdown",
   "metadata": {
    "id": "Q-8fgrZ8rpGz"
   },
   "source": [
    "To clear all elements in a list, use its `list.clear()` method.\n",
    "\n",
    "#### Exercise 3.34\n",
    "\n",
    "Clear all items in `s = [1, 2, 3]`."
   ]
  },
  {
   "cell_type": "code",
   "execution_count": null,
   "metadata": {
    "id": "x-RzxnWGrpG1"
   },
   "outputs": [],
   "source": [
    "# YOUR CODE HERE"
   ]
  },
  {
   "cell_type": "markdown",
   "metadata": {
    "id": "gnoFZw8SrpG3"
   },
   "source": [
    "## Recap\n",
    "\n",
    "* How to create a new list?\n",
    "* Can a list hold elements of different data type?\n",
    "* Why do you need multiple level indexing?\n",
    "* Name 3 functions or operators which works with list.\n",
    "* What is the keyword used to check membership in a list?\n",
    "* How to add an item to a list?\n",
    "* How to remove an item from a list?\n",
    "* How to merge 2 lists?"
   ]
  },
  {
   "cell_type": "markdown",
   "metadata": {
    "id": "zWNAwRvzrpG4"
   },
   "source": [
    "### 3.1.2 Tuples\n",
    "\n",
    "A Tuple is a collection of Python objects which is **immutable**, i.e. not modifiable after creation.\n",
    "\n",
    "#### 3.1.2.1 Creating a Tuple\n",
    "\n",
    "Tuple is created with listed of items surrounded by parentheses **\"( )\"**, and seperated by comma **\",\"**.\n",
    "\n",
    "* To create an empty tuple, simple use `()`\n",
    "* To create a single-item tuple, need to add **common `,`** behind the element. E.g. `tup = (3,)`\n",
    "\n",
    "#### Exercise 3.35\n",
    "\n",
    "* Create a tuple `t` with values `1, 2, 3, 4`\n",
    "* Print it and its type"
   ]
  },
  {
   "cell_type": "code",
   "execution_count": null,
   "metadata": {
    "id": "iHb2CMXZrpG5"
   },
   "outputs": [],
   "source": [
    "# YOUR CODE HERE\n",
    "t = (1,2,3,4)\n",
    "print(type(t))"
   ]
  },
  {
   "cell_type": "markdown",
   "metadata": {
    "id": "wF6BefbfrpG8"
   },
   "source": [
    "In fact, parentheses is optional unless it is to create an empty tuple."
   ]
  },
  {
   "cell_type": "code",
   "execution_count": null,
   "metadata": {
    "colab": {
     "base_uri": "https://localhost:8080/"
    },
    "id": "Wp2XZ7srrpG_",
    "outputId": "16f4290b-31d7-4e1d-fa6a-277441b1057a"
   },
   "outputs": [
    {
     "name": "stdout",
     "output_type": "stream",
     "text": [
      "<class 'tuple'>\n"
     ]
    }
   ],
   "source": [
    "# YOUR CODE HERE\n",
    "t = 1,2,3,4\n",
    "print(type(t))"
   ]
  },
  {
   "cell_type": "markdown",
   "metadata": {
    "id": "ocsKf5e_rpHA"
   },
   "source": [
    "Tuple can also be created using by typecasting a list using `tuple()` constructor function.\n",
    "* when string is passed in as argument, it turns string into collection of characters.\n",
    "\n",
    "\n",
    "#### Exercise 3.36\n",
    "* Create a tuple from list `[1,2,3]`.\n",
    "* What happen if you apply `tuple()` constructor function on a string `Good day!`?"
   ]
  },
  {
   "cell_type": "code",
   "execution_count": null,
   "metadata": {
    "id": "DmMnrRGxrpHE"
   },
   "outputs": [],
   "source": [
    "# YOUR CODE HERE\n",
    "a = tuple([1,2,3])\n",
    "type(a)\n",
    "tuple('Good day!')"
   ]
  },
  {
   "cell_type": "markdown",
   "metadata": {
    "id": "YW-i_K3PrpHF"
   },
   "source": [
    "\n",
    "Python collections allows mix data types in the same collection. We can also create tuple with items of different data type, although this is not commonly used.\n",
    "\n",
    "#### Exercise 3.37\n",
    "\n",
    "* Create a tuple with items `'apple', 3.0, 'banana', 4`."
   ]
  },
  {
   "cell_type": "code",
   "execution_count": null,
   "metadata": {
    "colab": {
     "base_uri": "https://localhost:8080/"
    },
    "id": "OU8_j2msrpHG",
    "outputId": "b58dea38-6cb6-4ec5-eaa1-02826390fd89"
   },
   "outputs": [
    {
     "name": "stdout",
     "output_type": "stream",
     "text": [
      "('apple', 3.0, 'banana', 4)\n"
     ]
    }
   ],
   "source": [
    "print((\"apple\",3.0,\"banana\",4))"
   ]
  },
  {
   "cell_type": "markdown",
   "metadata": {
    "id": "SineOoXErpHH"
   },
   "source": [
    "Tuple can contain other tuples as its elements. Such tuples are called **nested tuples**.\n",
    "\n",
    "#### Exercise 3.38\n",
    "* Create a tuple `nested` with items `0, 1, (2, 3, 4), (5, 6)`\n",
    "* What's the length of above tuple?"
   ]
  },
  {
   "cell_type": "code",
   "execution_count": null,
   "metadata": {
    "colab": {
     "base_uri": "https://localhost:8080/"
    },
    "id": "boOrwycArpHI",
    "outputId": "36ebe210-5554-4ce9-d303-43bd53c5b078"
   },
   "outputs": [
    {
     "data": {
      "text/plain": [
       "4"
      ]
     },
     "execution_count": 5,
     "metadata": {},
     "output_type": "execute_result"
    }
   ],
   "source": [
    "# YOUR CODE HERE\n",
    "b = (0, 1, (2, 3, 4), (5, 6))\n",
    "len(b)"
   ]
  },
  {
   "cell_type": "markdown",
   "metadata": {
    "id": "jrmfKO4brpHK"
   },
   "source": [
    "#### 3.1.2.2 Accessing an Element in tuple via indexing.\n",
    "\n",
    "Items in collection can be accessed by their indexes. Python uses zero-based indexing, i.e. index starts from 0.\n",
    "\n",
    "#### Exercise 3.36\n",
    "* Create a tuple `('apple', 'banana', 'cherry', 'durian')` and assign it to the variable `fruits`.\n",
    "* Print out 2nd and 4th item in the tuple."
   ]
  },
  {
   "cell_type": "code",
   "execution_count": null,
   "metadata": {
    "id": "EvDzWYM7rpHK"
   },
   "outputs": [],
   "source": [
    "# YOUR CODE HERE\n",
    "fruits = ('apple', 'banana', 'cherry', 'durian')\n",
    "print(fruits[1])\n",
    "print(fruits[3])"
   ]
  },
  {
   "cell_type": "markdown",
   "metadata": {
    "id": "wT7AE8sUrpHM"
   },
   "source": [
    "Indexing can also be done in reverse order. That is the last element has an index of -1, and second last element has index of -2.\n",
    "\n",
    "<center>\n",
    "<img src=\"https://github.com/ffgtfgh53/Computing_Materials/blob/main/Notes/images/list-indexing.png?raw=1\" alt=\"Set Venn Diagram\" style=\"width: 400px;\"/>\n",
    "</center>"
   ]
  },
  {
   "cell_type": "markdown",
   "metadata": {
    "id": "u4mFA_NbrpHN"
   },
   "source": [
    "#### Exercise 3.37\n",
    "* Use <u>negative indexing</u> to print out <u>last</u> and <u>2nd last</u> item in `fruits`."
   ]
  },
  {
   "cell_type": "code",
   "execution_count": null,
   "metadata": {
    "colab": {
     "base_uri": "https://localhost:8080/"
    },
    "id": "y-Mihfm7rpHO",
    "outputId": "b8131590-c419-41c1-e77e-ebb917b07356"
   },
   "outputs": [
    {
     "name": "stdout",
     "output_type": "stream",
     "text": [
      "durian\n",
      "cherry\n"
     ]
    }
   ],
   "source": [
    "fruits = ('apple', 'banana', 'cherry', 'durian')\n",
    "print(fruits[-1])\n",
    "print(fruits[-2])"
   ]
  },
  {
   "cell_type": "markdown",
   "metadata": {
    "id": "Ijp6tJIdrpHP"
   },
   "source": [
    "For nested tuples, we can access items by multi-level indexing as well. Each level of the index always starts from 0.\n",
    "\n",
    "#### Exercise 3.38\n",
    "* Create a tuple `nested` with items `0, 1, (2, 3, 4), (5, 6)`.\n",
    "* How do you access value `4` and `5`?"
   ]
  },
  {
   "cell_type": "code",
   "execution_count": null,
   "metadata": {
    "colab": {
     "base_uri": "https://localhost:8080/"
    },
    "id": "SqGetXyPrpHP",
    "outputId": "cf5f6779-d5cb-4a56-bb89-f36a06defe83"
   },
   "outputs": [
    {
     "name": "stdout",
     "output_type": "stream",
     "text": [
      "4\n",
      "5\n"
     ]
    }
   ],
   "source": [
    "nested = 0, 1, (2, 3, 4), (5, 6)\n",
    "print(nested[2][2])\n",
    "print(nested[3][0])"
   ]
  },
  {
   "cell_type": "markdown",
   "metadata": {
    "id": "YlsKpdEKrpHQ"
   },
   "source": [
    "#### 3.1.2.3 Accessing a Subset of Tuple via Slicing.\n",
    "\n",
    "**Indexing** was only limited to accessing a single element.\n",
    "**Slicing** on the other hand is accessing a sequence of data inside the tuple.\n",
    "\n",
    "**Slicing** is done by defining the index values of the `first element` and the `last element` from the parent list that is required in the sliced tuple.\n",
    "\n",
    "```python\n",
    "sub = num[a : b]\n",
    "sub = num[a : ]\n",
    "sub = num[: b]\n",
    "sub = num[:]\n",
    "```\n",
    "\n",
    "* if both `a` and `b` are specified, `a` is the first index, `b` is the **last index + 1**.\n",
    "* if `b` is omitted, it will slice till last element.\n",
    "* if `a` is omitted, it will starts from first element.\n",
    "* if neither `a` or `b` is specified, it is effectively copy the whole tuple.\n",
    "\n",
    "**Note: the upper bound index is NOT inclusive!**\n",
    "\n",
    "Try out following code.\n",
    "\n",
    "```python\n",
    "num = tuple(range(10))\n",
    "\n",
    "# Get item with index 2 to 4\n",
    "print(num[2:5])\n",
    "\n",
    "# Get first 5 items\n",
    "print(num[:5])\n",
    "\n",
    "# Get from item with index = 5 onwards\n",
    "print(num[5:])\n",
    "```"
   ]
  },
  {
   "cell_type": "code",
   "execution_count": null,
   "metadata": {
    "id": "J280ls60rpHQ"
   },
   "outputs": [],
   "source": [
    "# YOUR CODE HERE"
   ]
  },
  {
   "cell_type": "markdown",
   "metadata": {
    "id": "wKKHFXQ2rpHS"
   },
   "source": [
    "Remember tuple items can be accessed using `negative index`. Same technique can be applied for slicing too.\n",
    "\n",
    "* Last item has index of -1\n",
    "\n",
    "#### Exercise 3.39\n",
    "Consider the tuple `num = (0,1,2,3,4,5,6,7,8,9)`.\n",
    "\n",
    "* How to get last 3 items from a tuple?\n",
    "* How to ignore last 3 items from a tuple?\n",
    "* How to strip first and last items from a tuple?\n",
    "\n"
   ]
  },
  {
   "cell_type": "code",
   "execution_count": null,
   "metadata": {
    "colab": {
     "base_uri": "https://localhost:8080/"
    },
    "id": "XMbxiyC1rpHU",
    "outputId": "001de50a-e769-4f03-81d7-cb2ab19810bd"
   },
   "outputs": [
    {
     "name": "stdout",
     "output_type": "stream",
     "text": [
      "(7, 8, 9)\n",
      "(0, 1, 2, 3, 4, 5, 6)\n",
      "(1, 2, 3, 4, 5, 6, 7, 8)\n"
     ]
    }
   ],
   "source": [
    "num = (0,1,2,3,4,5,6,7,8,9)\n",
    "print(num[-3:])\n",
    "print(num[:-3])\n",
    "print(num[1:-1])"
   ]
  },
  {
   "cell_type": "markdown",
   "metadata": {
    "id": "mpZeqEc5rpHV"
   },
   "source": [
    "#### 3.1.2.4 Working with Tuple"
   ]
  },
  {
   "cell_type": "markdown",
   "metadata": {
    "id": "oOdg85cwrpHW"
   },
   "source": [
    "##### 3.1.2.4.1 Length of tuples `len()`\n",
    "To find the length of the tuple or the number of elements in a tuple, the function `len( )` is used. Syntax is\n",
    ">```python\n",
    ">len(tuples)\n",
    ">```"
   ]
  },
  {
   "cell_type": "markdown",
   "metadata": {
    "id": "1CwD71_yrpHX"
   },
   "source": [
    "##### 3.1.2.4.2 Maximum `max()`, minimum `min()` and sum `sum()` of all the values in the tuple\n",
    "\n",
    "If the tuple consists of all integer elements, the functions `min( )`, `max( )` and `sum()` gives the minimum item, maximum item and total sum value of the tuple. Syntax is\n",
    "```python\n",
    "max(your_tuple)\n",
    "min(your_tuple)\n",
    "sum(your_tuple)\n",
    "```\n",
    "\n",
    "#### Exercise 3.40\n",
    "Print out min value, max value and sum of tuple with items 0-9.\n",
    "\n"
   ]
  },
  {
   "cell_type": "code",
   "execution_count": null,
   "metadata": {
    "colab": {
     "base_uri": "https://localhost:8080/"
    },
    "id": "CQNzFVIWrpHY",
    "outputId": "81594133-4793-4dac-b65d-3ddedbb58e13"
   },
   "outputs": [
    {
     "name": "stdout",
     "output_type": "stream",
     "text": [
      "9\n",
      "0\n",
      "45\n"
     ]
    }
   ],
   "source": [
    "num = (0,1,2,3,4,5,6,7,8,9)\n",
    "print(max(num))\n",
    "print(min(num))\n",
    "print(sum(num))"
   ]
  },
  {
   "cell_type": "markdown",
   "metadata": {
    "id": "teh9s8ZirpHa"
   },
   "source": [
    "#### Exercise 3.41\n",
    "How do you create a tuple by reversing another tuple?"
   ]
  },
  {
   "cell_type": "code",
   "execution_count": null,
   "metadata": {
    "colab": {
     "base_uri": "https://localhost:8080/"
    },
    "id": "INMsHQOVrpHb",
    "outputId": "3692fafd-67cb-4ded-b0e9-d7cf70ae6157"
   },
   "outputs": [
    {
     "name": "stdout",
     "output_type": "stream",
     "text": [
      "(9, 8, 7, 6, 5, 4, 3, 2, 1, 0)\n"
     ]
    }
   ],
   "source": [
    "num = (0,1,2,3,4,5,6,7,8,9)\n",
    "print(num[::-1])"
   ]
  },
  {
   "cell_type": "markdown",
   "metadata": {
    "id": "R19nVHTgrpHc"
   },
   "source": [
    "If elements are string type, `max()` and `min()` is still applicable. `max()` would return a string element whose ASCII value is the highest and the lowest when `min()` is used. Note that only the first index of each element is considered each time and if they value is the same then second index considered so on and so forth."
   ]
  },
  {
   "cell_type": "markdown",
   "metadata": {
    "id": "xQKC2s21rpHd"
   },
   "source": [
    "#### Exercise 3.42\n",
    "What's the minimum and the maximum value of tuple `poly = ('np','sp','tp','rp','nyp')`?"
   ]
  },
  {
   "cell_type": "code",
   "execution_count": null,
   "metadata": {
    "id": "NWbAV0iZrpHe"
   },
   "outputs": [],
   "source": [
    "# YOUR CODE HERE"
   ]
  },
  {
   "cell_type": "markdown",
   "metadata": {
    "id": "5plUB4h0rpHf"
   },
   "source": [
    "##### 3.1.2.4.3 Checking Values in the tuple with `any()` and `all()` function\n",
    "\n",
    "`any()` function returns `True` if any item in tuple (collection) is evaluated `True`.\n",
    "\n",
    "`all()` function returns `True` if all items in tuple (collection) is evaluated `True`.\n",
    "\n",
    "Python evaluates following values as `False`\n",
    "* `False`, `None`, numeric zero of all types\n",
    "* Empty strings and containers (including strings, tuples, lists, dictionaries, sets and frozensets)\n",
    "\n",
    "#### Exercise 3.43\n",
    "\n",
    "For each list of `[2, 4, 0, 9]`, `['', 'hello', 'world']`.\n",
    "* use `any()` to check if the list contains any non-zero item.\n",
    "* use `all()` to check if all items in the list are non-zero  ."
   ]
  },
  {
   "cell_type": "code",
   "execution_count": null,
   "metadata": {
    "colab": {
     "base_uri": "https://localhost:8080/"
    },
    "id": "tKuLdyC_rpHh",
    "outputId": "e200cddc-fdd7-4420-9a06-c71166a151c4"
   },
   "outputs": [
    {
     "name": "stdout",
     "output_type": "stream",
     "text": [
      "list 1 not empty\n",
      "list 2 not empty\n",
      "Not all items in list 1 are non-zero\n",
      "Not all items in list 2 are non-zero\n"
     ]
    }
   ],
   "source": [
    "ex43_list_1 = [2, 4, 0, 9]\n",
    "ex43_list_2 = ['', 'hello', 'world']\n",
    "if any(ex43_list_1):\n",
    "  print(\"list 1 not empty\")\n",
    "else:\n",
    "  print(\"list 1 empty\")\n",
    "if any(ex43_list_2):\n",
    "  print(\"list 2 not empty\")\n",
    "else:\n",
    "  print(\"list 2 empty\")\n",
    "if all(ex43_list_1):\n",
    "  print(\"All items in list 1 are non-zero\")\n",
    "else:\n",
    "  print(\"Not all items in list 1 are non-zero\")\n",
    "if all(ex43_list_2):\n",
    "  print(\"All items in list 2 are non-zero\")\n",
    "else:\n",
    "  print(\"Not all items in list 2 are non-zero\")"
   ]
  },
  {
   "cell_type": "markdown",
   "metadata": {
    "id": "n-XGjBLZrpHi"
   },
   "source": [
    "##### 3.1.2.4.4 Reversing the values in a tuple with `reversed()` function\n",
    "\n",
    "Unlike list, tuple is immutable. Thus `.reverse()` method is **NOT** applicable to tuple.\n",
    "\n",
    "The `reversed()` function returns a reversed object which can be converted to be a tuple or list. Syntax is\n",
    "\n",
    "```python\n",
    "reversed(my_tuple)\n",
    "```\n",
    "\n",
    "E.g.,\n",
    "\n",
    "```python\n",
    "poly = ('np','sp','tp','rp','nyp')\n",
    "r = reversed(poly)\n",
    "print(type(r), tuple(r))\n",
    "```"
   ]
  },
  {
   "cell_type": "code",
   "execution_count": null,
   "metadata": {
    "id": "iqefIx2TrpHj"
   },
   "outputs": [],
   "source": [
    "# YOUR CODE HERE"
   ]
  },
  {
   "cell_type": "markdown",
   "metadata": {
    "id": "X58n614IrpHk"
   },
   "source": [
    "##### 3.1.2.4.5 Arranging the values in a tuple with `sorted()` function\n",
    "\n",
    "Similarly, `.sort()` method cannot be applied directly to tuple itself.\n",
    "\n",
    "`sorted()` function to arrange the elements in **ascending** order. Syntax is\n",
    "\n",
    "```python\n",
    "sorted(my_tuple)\n",
    "```\n",
    "\n",
    "E.g.,\n",
    "\n",
    "```python\n",
    "poly = ('np','sp','tp','rp','nyp')\n",
    "s = sorted(poly)\n",
    "print(poly)\n",
    "print(s)\n",
    "```"
   ]
  },
  {
   "cell_type": "code",
   "execution_count": null,
   "metadata": {
    "id": "NgFRBqilrpHm"
   },
   "outputs": [],
   "source": [
    "# YOUR CODE HERE"
   ]
  },
  {
   "cell_type": "markdown",
   "metadata": {
    "id": "cnutDI-GrpHn"
   },
   "source": [
    "For **descending** order, specify the named argument `reverse = True`.\n",
    "\n",
    "By default the reverse condition will be `False` for `reverse`. Hence changing it to `True` would arrange the elements in descending order."
   ]
  },
  {
   "cell_type": "markdown",
   "metadata": {
    "id": "oSDvSeJUrpHp"
   },
   "source": [
    "The `sort()` function has another named argument `key`, which allows us to specify a callable function. The sorting will be done based on returned value from this callable function.\n",
    "\n",
    "For example, `len()` function returns length of a string.\n",
    "\n",
    "To sort based on string length, `key = len` can be specified as shown."
   ]
  },
  {
   "cell_type": "code",
   "execution_count": null,
   "metadata": {
    "id": "xDmwkV3xrpHp"
   },
   "outputs": [],
   "source": [
    "names = ('duck', 'chicken', 'goose')\n",
    "s1 = sorted(names, key=len)\n",
    "print(s1)\n",
    "# YOUR CODE HERE where s2 is in reverse order\n",
    "print(s2)"
   ]
  },
  {
   "cell_type": "markdown",
   "metadata": {
    "id": "khj_EzE_rpHr"
   },
   "source": [
    "Two tuples can also be join together simply using `+` operator."
   ]
  },
  {
   "cell_type": "markdown",
   "metadata": {
    "id": "Og5mTy6KrpHs"
   },
   "source": [
    "Besides tuples, `str` objects are also immutable. New string will be created when a string is modified."
   ]
  },
  {
   "cell_type": "code",
   "execution_count": null,
   "metadata": {
    "id": "HI-K0hrArpHu"
   },
   "outputs": [],
   "source": [
    "(1,2,3)+(4,5)"
   ]
  },
  {
   "cell_type": "code",
   "execution_count": null,
   "metadata": {
    "id": "Whm4OafPrpHw"
   },
   "outputs": [],
   "source": [
    "s = \"hello world.\"\n",
    "t = s\n",
    "print(t == s, t is s)\n",
    "s = s + \"abc\"\n",
    "print(t == s, t is s)"
   ]
  },
  {
   "cell_type": "markdown",
   "metadata": {
    "id": "PSbbfCAhrpHy"
   },
   "source": [
    "Similarly, tuple is immutable. Modification to tuple will return a new tuple object."
   ]
  },
  {
   "cell_type": "markdown",
   "metadata": {
    "id": "62LoWslerpHz"
   },
   "source": [
    "Similar to list, we can repeat a tuple multiple times with `*` operator."
   ]
  },
  {
   "cell_type": "code",
   "execution_count": null,
   "metadata": {
    "id": "8WNlZUssrpH1"
   },
   "outputs": [],
   "source": [
    "t1 = (1,2,3,4,5,6)\n",
    "t2 = t1 * 2\n",
    "print(t1, t2)"
   ]
  },
  {
   "cell_type": "markdown",
   "metadata": {
    "id": "0zcCK1z9rpH2"
   },
   "source": [
    "#### 3.1.2.5 Membership and Searching elements in a tuple\n",
    "\n",
    "You might need to check if a particular item is in a tuple.\n",
    "\n",
    "Instead of using `for` loop to iterate over the tuple and use the `if` condition, Python provides a simple `in` statement to check membership of an item.\n",
    "\n",
    "```python\n",
    "names = ('duck', 'chicken', 'goose')\n",
    "found1 = 'duck' in names\n",
    "found2 = 'dog' in names\n",
    "print(found1, found2)\n",
    "```"
   ]
  },
  {
   "cell_type": "markdown",
   "metadata": {
    "id": "Y48CuxhdrpH3"
   },
   "source": [
    "`count()` is used to count the occurence of a particular item in a list."
   ]
  },
  {
   "cell_type": "code",
   "execution_count": null,
   "metadata": {
    "id": "fmKV8L3erpH5"
   },
   "outputs": [],
   "source": [
    "names = ('duck', 'chicken', 'goose') * 2\n",
    "print(names)\n",
    "names.count('duck')"
   ]
  },
  {
   "cell_type": "markdown",
   "metadata": {
    "id": "a7jv6dGrrpH5"
   },
   "source": [
    "`index()` is used to find the index value of a particular item.\n",
    "* Note that if there are multiple items of the same value, the first index value of that item is returned.\n",
    "* You can add 2nd argument `x` to start searching from index `x` onwards."
   ]
  },
  {
   "cell_type": "code",
   "execution_count": null,
   "metadata": {
    "id": "O-xYAYyArpH6"
   },
   "outputs": [],
   "source": [
    "names2 = ('duck', 'chicken', 'goose') * 2\n",
    "idx = names2.index('goose')\n",
    "idx2 = names2.index('goose', 4)\n",
    "print('Gooses at index {} and {}'.format(idx, idx2))"
   ]
  },
  {
   "cell_type": "markdown",
   "metadata": {
    "id": "XUEsRVngrpH8"
   },
   "source": [
    "#### 3.1.2.6 Membership and Searching elements in a tuple\n",
    "\n",
    "To iterate through a tuple (collection), you can use `for` loop."
   ]
  },
  {
   "cell_type": "code",
   "execution_count": null,
   "metadata": {
    "id": "qhOUyMJPrpH9"
   },
   "outputs": [],
   "source": [
    "names = ('duck', 'chicken', 'goose')\n",
    "for name in names:\n",
    "    print(name)"
   ]
  },
  {
   "cell_type": "markdown",
   "metadata": {
    "id": "ynUpot4orpH_"
   },
   "source": [
    "\n",
    "If you need the index value, you can use `enumerate()` function."
   ]
  },
  {
   "cell_type": "code",
   "execution_count": null,
   "metadata": {
    "id": "S88WG6KvrpIA"
   },
   "outputs": [],
   "source": [
    "for idx, name in enumerate(names):\n",
    "    print(idx, name)"
   ]
  },
  {
   "cell_type": "markdown",
   "metadata": {
    "id": "AChJzuWFrpIB"
   },
   "source": [
    "#### 3.1.2.7 Function with Multiple Returning Values\n",
    "\n",
    "In most programming languages, function/method can only return a single value. It is the same practice in Python.\n",
    "\n",
    "But in Python, you can return a tuple which can easily pack multiple values together.\n",
    "\n",
    "#### Exercise 3.44\n",
    "\n",
    "Define a function `minmax()` which fulfils following conditions. Test the function with list `[1,2,3,4,5]`.\n",
    "\n",
    "- accept a list as input\n",
    "- return both min and max values of the list"
   ]
  },
  {
   "cell_type": "markdown",
   "metadata": {
    "id": "3ZtFdFRHrpID"
   },
   "source": [
    "Tuple can be easily unpacked into multiple values.\n",
    "\n",
    "During unpacking, number of variable needs to match number of items in tuple"
   ]
  },
  {
   "cell_type": "code",
   "execution_count": null,
   "metadata": {
    "id": "DkCXOaejrpIE"
   },
   "outputs": [],
   "source": [
    "x, y, z = 1, 2, 3\n",
    "print(x, y, z)"
   ]
  },
  {
   "cell_type": "markdown",
   "metadata": {
    "id": "QxNJGUj-rpIF"
   },
   "source": [
    "It is common to use underscore `_` for items to be ignored."
   ]
  },
  {
   "cell_type": "code",
   "execution_count": null,
   "metadata": {
    "id": "sLiKpXCWrpIG"
   },
   "outputs": [],
   "source": [
    "times = '9am to 5pm to 6pm to 8pm'.split('to')\n",
    "print(times)\n",
    "start, _, end, _ = tuple(times)\n",
    "print(start, end)"
   ]
  },
  {
   "cell_type": "markdown",
   "metadata": {
    "id": "67Dp_L--rpIH"
   },
   "source": [
    "#### Exercise 3.45\n",
    "\n",
    "How to swap two values `x` and `y` in a single statement?"
   ]
  },
  {
   "cell_type": "code",
   "execution_count": null,
   "metadata": {
    "id": "cS07w3ymrpII"
   },
   "outputs": [],
   "source": [
    "x = 10\n",
    "y = 20\n",
    "# YOUR CODE HERE"
   ]
  },
  {
   "cell_type": "markdown",
   "metadata": {
    "id": "CCjgFvd4rpIK"
   },
   "source": [
    "You can use `*` to hold any number of unpacked values.\n",
    "\n",
    "For example, from a tuple, you would like to get its last item, and put all other items in a list."
   ]
  },
  {
   "cell_type": "code",
   "execution_count": null,
   "metadata": {
    "id": "6TtofBnBrpIL"
   },
   "outputs": [],
   "source": [
    "t = (1, 2, 3, 4,5)\n",
    "#a, b =t\n",
    "*a, b = t\n",
    "print(a, b)"
   ]
  },
  {
   "cell_type": "markdown",
   "metadata": {
    "id": "6xIBtibqrpIM"
   },
   "source": [
    "#### Exercise 3.46\n",
    "\n",
    "How to extract only first and last items from a tuple `(1,2,3,4,5)`."
   ]
  },
  {
   "cell_type": "code",
   "execution_count": null,
   "metadata": {
    "colab": {
     "base_uri": "https://localhost:8080/"
    },
    "id": "WXNCjtxbrpIN",
    "outputId": "e45253b4-0793-4e00-81ac-4b62d6717e9d"
   },
   "outputs": [
    {
     "name": "stdout",
     "output_type": "stream",
     "text": [
      "1 5\n"
     ]
    }
   ],
   "source": [
    "t = (1,2,3,4,5)\n",
    "first, last = t[0], t[-1]\n",
    "print(first, last)"
   ]
  },
  {
   "cell_type": "markdown",
   "metadata": {
    "id": "uK9JwSrirpIP"
   },
   "source": [
    "## Recap\n",
    "\n",
    "### Difference between Tuple and List\n",
    "\n",
    "A tuple is **immutable** whereas a list is **mutable**.\n",
    "\n",
    "* You can't add elements to a tuple. Tuples have no append or extend method.\n",
    "* You can't remove elements from a tuple. Tuples have no remove or pop method.\n",
    "\n",
    "### When to use Tuple?\n",
    "\n",
    "* Tuples are used in function to return multiple values together.\n",
    "* Tuples are lighter-weight and are more memory efficient and often faster if used in appropriate places.\n",
    "* When using a tuple you protect against accidental modification when passing it between functions.\n",
    "* Tuples, being immutable, can be used as a key in a dictionary, which we’re about to learn about."
   ]
  },
  {
   "cell_type": "markdown",
   "metadata": {
    "id": "P1koc10SrpIR"
   },
   "source": [
    "#"
   ]
  },
  {
   "cell_type": "markdown",
   "metadata": {
    "id": "BTsK7mqorpIS"
   },
   "source": [
    "## 3.2 Hash Table\n",
    "\n",
    "A **hash table** (hash map) is a data structure that stores data in an associative manner. Roughly speaking, it is an unordered collection of key-value pairs, which are just a pair of values where by knowing the `key` value, you can retrieve `value` value.\n",
    "\n",
    "Hash table uses a fixed size array as a storage medium and uses **hash function** to generate an index where an element is to be inserted or is to be located from. Hash table allows us to do a key-value lookup.\n",
    "\n",
    "Reference: https://www.youtube.com/watch?v=sfWyugl4JWA\n",
    "\n",
    "Hashing\n",
    "\n",
    "### 3.2.1 Dictionary\n",
    "\n",
    "Dictionaries are a common feature of modern languages (often known as maps, associative arrays, or hashmaps) which let you associate pairs of values together.\n",
    "\n",
    "In Python, dictionaries are defined in **dict** data type.\n",
    "* It stores keys and their corresponding values.\n",
    "* Keys must be **unique** and **immutable**.\n",
    "* It is **mutable**, i.e. you can add and remove items from a dictionary.\n",
    "* It is **unordered**, i.e. items in a dictionary are not ordered.\n",
    "* Elements in a dictionary is of the form `key_1:value_1, key_2:value_2,....`\n",
    "\n",
    "#### 3.2.1.1 Creating a dictionary\n",
    "\n",
    "Dictionary is created with listed of items surrounded by curly brackets `{}`, and seperated by comma `,`.\n",
    "\n",
    "* To create an empty dictionary, simple use `{}`\n",
    "* Key and value are separated by colon `:`\n",
    "* Key needs to be **immutable** type, e.g. data type like scalar, string or tuple\n",
    "\n",
    "#### Example"
   ]
  },
  {
   "cell_type": "code",
   "execution_count": null,
   "metadata": {
    "id": "t3NeJIqsrpIT"
   },
   "outputs": [],
   "source": [
    "# empty dictionary\n",
    "d0 = {}\n",
    "\n",
    "# dictionary with mixed data type\n",
    "d1 = {'name': 'John', 1: [2, 4, 3]}\n",
    "print(d1)"
   ]
  },
  {
   "cell_type": "markdown",
   "metadata": {
    "id": "zFS8lEIzrpIU"
   },
   "source": [
    "#### Example\n",
    "\n",
    "Create a dictionary `fruits` which has following keys and values.\n",
    "\n",
    "| key | value    |\n",
    "|-----|----------|\n",
    "| a   | Apple    |\n",
    "| b   | Banana   |\n",
    "| c   | Cherries |\n",
    "| d   | Durian   |"
   ]
  },
  {
   "cell_type": "code",
   "execution_count": null,
   "metadata": {
    "id": "l0I4wkAQrpIW"
   },
   "outputs": [],
   "source": [
    "fruits = {\n",
    "    \"a\": \"Apple\",\n",
    "    \"b\": \"Banana\",\n",
    "    \"c\": \"Cherries\",\n",
    "    \"d\": \"Durian\"\n",
    "}"
   ]
  },
  {
   "cell_type": "markdown",
   "metadata": {
    "id": "-e-wYS-JrpIY"
   },
   "source": [
    "New dictionary can be created from a list of tuples too using the `dict()` constructor function, where each tuple contains a key and a value. Syntax is\n",
    ">```python\n",
    ">dict(my_list_of_tuples)\n",
    ">```\n",
    "\n",
    "**Example**\n",
    "\n",
    "Construct a dictionary `f3` using list `[('a','Apple'), ('b','Banana'), ('c','Cherries'), ('d','Durian')]`."
   ]
  },
  {
   "cell_type": "code",
   "execution_count": 1,
   "metadata": {
    "colab": {
     "base_uri": "https://localhost:8080/"
    },
    "id": "gZSNJjVKrpIa",
    "outputId": "5d275072-8e07-46be-94eb-ef1a445f297c"
   },
   "outputs": [
    {
     "name": "stdout",
     "output_type": "stream",
     "text": [
      "{'a': 'Apple', 'b': 'Banana', 'c': 'Cherries', 'd': 'Durian'}\n"
     ]
    }
   ],
   "source": [
    "f3 = dict([('a','Apple'), ('b','Banana'), ('c','Cherries'), ('d','Durian')])\n",
    "print(f3)"
   ]
  },
  {
   "cell_type": "markdown",
   "metadata": {
    "id": "efishRvgrpIb"
   },
   "source": [
    "#### 3.2.1.2 Accessing an Element in dictionary by its respective key.\n",
    "\n",
    "Items in dictionary can be accessed by their respective keys.\n",
    "* Key can be used either inside square brackets or with the `get()` method.\n",
    "* The difference while using `get()` is that it returns `None` instead of `KeyError` Exception, if the key is not found.\n",
    "* `get()` method can take in a default value argument, which will be returned if the key is not found. Syntax is\n",
    ">`your_dict.get(key,message_if_unavailable)`\n",
    "\n",
    "#### Example\n",
    "\n",
    "What happens when you try to use a non-existing key?"
   ]
  },
  {
   "cell_type": "code",
   "execution_count": null,
   "metadata": {
    "id": "jZxwQB4YrpIc"
   },
   "outputs": [],
   "source": [
    "print(fruits)\n",
    "print(fruits['a'])\n",
    "print(fruits['b'])\n",
    "print(fruits['z'])"
   ]
  },
  {
   "cell_type": "markdown",
   "metadata": {
    "id": "eLhO3ED8rpIe"
   },
   "source": [
    "#### Example\n",
    "What happens when you use `.get()` and try to use a non-existing key?"
   ]
  },
  {
   "cell_type": "code",
   "execution_count": null,
   "metadata": {
    "colab": {
     "base_uri": "https://localhost:8080/"
    },
    "id": "LI2FHY-xrpIf",
    "outputId": "79669fa2-7dcf-49e7-e424-4f4822e58de1"
   },
   "outputs": [
    {
     "name": "stdout",
     "output_type": "stream",
     "text": [
      "{'a': 'Apple', 'b': 'Banana', 'c': 'Cherries', 'd': 'Durian'}\n",
      "Apple\n",
      "Not available\n"
     ]
    }
   ],
   "source": [
    "print(f3)\n",
    "print(f3.get('a', 'Not available'))\n",
    "print(f3.get('z', 'Not available'))"
   ]
  },
  {
   "cell_type": "markdown",
   "metadata": {
    "id": "atUvScI0rpIh"
   },
   "source": [
    "3.2.1.3 Finding number of elements in a dictionary with `len()` function\n",
    "\n",
    "To find the number of elements in a dictionary, `len()` function is used. Syntax is\n",
    ">```python\n",
    ">len(my_dictionary)\n",
    ">```\n",
    "\n",
    "#### Example:\n",
    "\n",
    "Find the length of `fruits` dictionary."
   ]
  },
  {
   "cell_type": "code",
   "execution_count": null,
   "metadata": {
    "colab": {
     "base_uri": "https://localhost:8080/"
    },
    "id": "uxKsvVnerpIi",
    "outputId": "21156479-04b0-4c0d-b9a4-b8390d7301d9"
   },
   "outputs": [
    {
     "name": "stdout",
     "output_type": "stream",
     "text": [
      "4\n"
     ]
    }
   ],
   "source": [
    "print(len(f3))"
   ]
  },
  {
   "cell_type": "markdown",
   "metadata": {
    "id": "Dq7fH22prpIj"
   },
   "source": [
    "#### 3.2.1.4 `dict.keys()`, `dict.values()`, `dict.items()` methods\n",
    "\n",
    "* `keys()` method return the dictionary's keys as `dict_keys` object.\n",
    "* `values()` method return the dictionary's values as `dict_values` object.\n",
    "* `items()` return  the dictionary's key-value pairs as `dict_items` object.\n",
    "\n",
    "If you want the various collections as a list typecast the objects using the `list` constructor function.\n",
    "\n",
    "#### Example\n",
    "\n",
    "Print out the keys, values and key-value pairs of the dictionary `fruits`."
   ]
  },
  {
   "cell_type": "code",
   "execution_count": null,
   "metadata": {
    "id": "axyuY0nhrpIk"
   },
   "outputs": [],
   "source": [
    "print(fruits.keys())\n",
    "print(fruits.values())\n",
    "print(fruits.items())"
   ]
  },
  {
   "cell_type": "markdown",
   "metadata": {
    "id": "gKpluMXprpIm"
   },
   "source": [
    "#### 3.2.1.5 Modifying and Updating a dictionary\n",
    "\n",
    "Similar to list, dictionary is a **mutable** collection, i.e. dictionary can be modified and the values of existing items can be updated. Syntax is\n",
    "```python\n",
    "your_dictionary[your_key] = your_value\n",
    "```\n",
    "\n",
    "* If the key exists in the dictionary, existing value will be updated.\n",
    "* If the key doesn't exists in the dictionary, new key:value pair is added to dictionary.\n",
    "\n",
    "#### Example\n",
    "\n",
    "Using the `fruits` dictionary defined earlier.\n",
    "- Update its key `a` value to `['Apple', 'Apricots', 'Avocado']`\n",
    "- Add another key-value pair `{'f':'Fig'}` to `fruits` dictionary."
   ]
  },
  {
   "cell_type": "code",
   "execution_count": 4,
   "metadata": {
    "colab": {
     "base_uri": "https://localhost:8080/"
    },
    "id": "UctDLL7MrpIn",
    "outputId": "ec6b9074-3888-4be2-d650-95ba39b30e3c"
   },
   "outputs": [
    {
     "name": "stdout",
     "output_type": "stream",
     "text": [
      "{'a': ['Apple', 'Apricots', 'Avovado'], 'b': 'Banana', 'c': 'Cherry', 'd': 'Durian', 'f': 'Fig'}\n"
     ]
    }
   ],
   "source": [
    "fruits = {'a': 'captain', 'b': 'Banana', 'c': 'Cherry', 'd': 'Durian'}\n",
    "fruits['a'] = ['Apple', 'Apricots', 'Avovado']\n",
    "fruits['f'] = 'Fig'\n",
    "print(fruits)"
   ]
  },
  {
   "cell_type": "markdown",
   "metadata": {
    "id": "eGTcH01TrpIo"
   },
   "source": [
    "#### 3.2.1.6 Merging Dictionaries with `.update()`\n",
    "\n",
    "`.update()` method is used to merge items from another dictionary.\n",
    "* Adds element(s) to the dictionary if the key is not in the dictionary.\n",
    "* If the key is in the dictionary, it updates the key with the new value.\n",
    "\n",
    "#### Example\n",
    "\n",
    "* Create another dictionary `fruits_too` with items `{'d':'Dates', 'e':'Eldercherry', 'f':'Fig', 'g':'Grape'}`.\n",
    "* Add/update items from `fruits_too` to `fruits`."
   ]
  },
  {
   "cell_type": "code",
   "execution_count": null,
   "metadata": {
    "id": "PLmL6pe5rpIp"
   },
   "outputs": [],
   "source": [
    "# YOUR CODE HERE"
   ]
  },
  {
   "cell_type": "markdown",
   "metadata": {
    "id": "vGNoSkVCrpIq"
   },
   "source": [
    "#### 3.2.1.7 Removing Items with `.pop()`, `.popitem()`, `.clear()`\n",
    "\n",
    "`.pop()` method is used to remove an item by key and returns the value. Syntax is\n",
    ">```python\n",
    ">my_dictionary.pop(my_item)\n",
    ">```\n",
    "\n",
    "It throws exception if key is not found.\n",
    "\n",
    "#### Example"
   ]
  },
  {
   "cell_type": "code",
   "execution_count": null,
   "metadata": {
    "id": "ObyOb1XYrpIr"
   },
   "outputs": [],
   "source": [
    "fruits = {'a': 'captain', 'b': 'Banana', 'c': 'Cherry', 'd': 'Durian', 'f': 'Fig'}\n",
    "print(fruits)\n",
    "\n",
    "p = fruits.pop('b')\n",
    "print(fruits)\n",
    "print(p)\n",
    "\n",
    "b = fruits.popitem()\n",
    "print(fruits)\n",
    "print(b)\n",
    "\n",
    "fruits.clear()\n",
    "print(fruits)"
   ]
  },
  {
   "cell_type": "markdown",
   "metadata": {
    "id": "1pDLbDEcrpIt"
   },
   "source": [
    "`.popitem()` removes any arbitrary item.\n",
    "\n",
    "`.clear()` clears all items in a dictionary."
   ]
  },
  {
   "cell_type": "code",
   "execution_count": null,
   "metadata": {
    "id": "BiAeZe5BrpIu"
   },
   "outputs": [],
   "source": [
    "mixed = dict(fruits)\n",
    "print(mixed.popitem())\n",
    "mixed.clear()\n",
    "print(mixed)"
   ]
  },
  {
   "cell_type": "markdown",
   "metadata": {
    "id": "8p4HYkjTrpIv"
   },
   "source": [
    "#### 3.2.1.8 Iterating Through Dictionary\n",
    "\n",
    "To iterate through a dictionary, you can use for-loop. By default, the iteration is done ONLY on **keys** of the dictionary.\n",
    "\n",
    "#### Example"
   ]
  },
  {
   "cell_type": "code",
   "execution_count": null,
   "metadata": {
    "id": "fVNMhnyJrpIx"
   },
   "outputs": [],
   "source": [
    "fruits = {'a': 'captain', 'b': 'Banana', 'c': 'Cherry', 'd': 'Durian', 'f': 'Fig'}\n",
    "\n",
    "for key in fruits:\n",
    "    print(key)"
   ]
  },
  {
   "cell_type": "markdown",
   "metadata": {
    "id": "XkftpZ_2rpIy"
   },
   "source": [
    "#### Exercise\n",
    "\n",
    "Write a code to:\n",
    "\n",
    "1. iterate through the values in the `fruits` dictionary, and\n",
    "2. iterate through the keys and values in the `fruits` dictionary at the same time."
   ]
  },
  {
   "cell_type": "markdown",
   "metadata": {
    "id": "xf8v5S2_rpI0"
   },
   "source": [
    "#### 3.2.1.9 Dictionary Comprehension\n",
    "\n",
    "Similiar to list, we can also use dictionary comprehension to easily generate a dictionary.\n",
    "\n",
    "#### Example"
   ]
  },
  {
   "cell_type": "code",
   "execution_count": null,
   "metadata": {
    "id": "rq-ivNyxrpI1"
   },
   "outputs": [],
   "source": [
    "s = [x*2 for x in range(10)]\n",
    "print(s)\n",
    "\n",
    "d = {x: x*x for x in range(1,10)}\n",
    "print(d)"
   ]
  },
  {
   "cell_type": "markdown",
   "metadata": {
    "id": "iXfP2LjxrpI2"
   },
   "source": [
    "#### 3.2.1.10 Membership Test\n",
    "\n",
    "We can use `in` operator to check membership of a key in a dictionary.\n",
    "\n",
    "#### Example\n",
    "\n",
    "Check whether key `a` and `z` are in the `fruits` dictionary. By default, membership testing is again done on keys."
   ]
  },
  {
   "cell_type": "code",
   "execution_count": null,
   "metadata": {
    "id": "cKYzgpPOrpI3"
   },
   "outputs": [],
   "source": [
    "print(fruits)\n",
    "\n",
    "# by default, membership testing is done on keys\n",
    "print('a' in fruits)\n",
    "print('z' in fruits)"
   ]
  },
  {
   "cell_type": "markdown",
   "metadata": {
    "id": "XubPSVWFrpI4"
   },
   "source": [
    "#### Exercise\n",
    "\n",
    "* How to test if a value `Apple` is in a dictionary?\n",
    "* How to test if a key-value pair `{'a':'Apple'}` is in the dictionary?\n",
    "* Let `d1 = {'a':'Apple', 'c':'Cherries'}`. How to check if all key-value pairs in one dictionary `d1` are in the dictionary `fruits`?"
   ]
  },
  {
   "cell_type": "code",
   "execution_count": 16,
   "metadata": {
    "colab": {
     "base_uri": "https://localhost:8080/"
    },
    "id": "YRoCoftArpI5",
    "outputId": "54971ec6-5577-4cd1-8496-a6fa450876b8"
   },
   "outputs": [
    {
     "name": "stdout",
     "output_type": "stream",
     "text": [
      "True\n",
      "True\n",
      "True\n"
     ]
    }
   ],
   "source": [
    "fruits = {'a': 'Apple', 'b': 'Banana', 'c': 'Cherry', 'd': 'Durian', 'f': 'Fig'}\n",
    "print(\"Apple\" in fruits.values())\n",
    "print((\"a\", \"Apple\") in fruits.items())\n",
    "d1 = {'a':'Apple', 'c':'Cherry'}\n",
    "print(list(d1.items()) == [x for x in d1.items() if x in fruits.items()])"
   ]
  },
  {
   "cell_type": "markdown",
   "metadata": {
    "id": "9uS11W0kZpR8"
   },
   "source": []
  },
  {
   "cell_type": "markdown",
   "metadata": {
    "id": "8X94xVrYrpI6"
   },
   "source": [
    "In a dictionary, to find key by matching its value, we can either use:\n",
    "* Option 1: for-loop\n",
    "* Option 2: `.index()` method\n",
    "\n",
    "#### Example"
   ]
  },
  {
   "cell_type": "code",
   "execution_count": null,
   "metadata": {
    "id": "n_yewRtfrpI6"
   },
   "outputs": [],
   "source": [
    "x = 'Cherry'\n",
    "s = list(fruits.values())\n",
    "print(s)\n",
    "\n",
    "i = s.index(x)\n",
    "print(i)\n",
    "\n",
    "k = list(fruits.keys())\n",
    "print(k[i])"
   ]
  },
  {
   "cell_type": "markdown",
   "metadata": {
    "id": "aPN_6a6irpI9"
   },
   "source": [
    "## Recap\n",
    "\n",
    "* How to create a dictionary?\n",
    "* How to copy a dictionary?\n",
    "* How to retrieve an item by key? by `[]` & by `.get()`\n",
    "* How to update an item?\n",
    "* How to add an item?\n",
    "* How to remove an item?\n",
    "* How to merge an dictionary to another?\n",
    "* What's the differences among `dict.keys()`, `dict.values()` and `dict.items()`"
   ]
  },
  {
   "cell_type": "markdown",
   "metadata": {
    "id": "bTim1xBhrpI-"
   },
   "source": [
    "## 3.3 Set\n",
    "\n",
    "A set is an **unordered** collection of **unique** values. In Python, `set` is the data type for Sets.\n",
    "\n",
    "* Every element in set is unique (no duplicates) and must be **immutable** (which cannot be changed).\n",
    "* `set` itself is mutable. We can add or remove items from it.\n",
    "* `set` is often used to eliminate repeated numbers in a sequence/list.\n",
    "\n",
    "### 3.3.1. How to create a set?\n",
    "\n",
    "A set is created by either of following methods:\n",
    "* Placing all the items (elements) inside curly braces `{}`, separated by comma `,`\n",
    "* Using the built-in constructor function `set()`, which takes in a collection (list or tuple)\n",
    "\n",
    "**Note:**\n",
    "* Set can contain mixed data type.\n",
    "* All duplicate value will be discarded.\n",
    "\n",
    "#### Example"
   ]
  },
  {
   "cell_type": "code",
   "execution_count": null,
   "metadata": {
    "id": "IAGwy3VErpJA"
   },
   "outputs": [],
   "source": [
    "s = [1,2,3,4]*3\n",
    "print(s)\n",
    "set3 = set(s)\n",
    "print(set3)"
   ]
  },
  {
   "cell_type": "markdown",
   "metadata": {
    "id": "OLqkfJoOrpJB"
   },
   "source": [
    "**Question**\n",
    "* Why we can't use `{}` to create an empty set?\n",
    "\n",
    "#### Example"
   ]
  },
  {
   "cell_type": "code",
   "execution_count": null,
   "metadata": {
    "id": "CLzA9J60rpJD"
   },
   "outputs": [],
   "source": [
    "s = {}\n",
    "print(type(s))\n",
    "# empty set\n",
    "set0 = set()\n",
    "print(type(set0))"
   ]
  },
  {
   "cell_type": "markdown",
   "metadata": {
    "id": "GWe9Yv01rpJF"
   },
   "source": [
    "#### 3.3.2 How to modify a set?\n",
    "\n",
    "Set is mutable. Thus you can perform following actions on a set.\n",
    "* Add a single item\n",
    "* Updae/add multiple items\n",
    "* remove items"
   ]
  },
  {
   "cell_type": "markdown",
   "metadata": {
    "id": "AOh9gf-5rpJG"
   },
   "source": [
    "##### 3.3.2.1 Add a Single Item with `add()`\n",
    "\n",
    "`add()` function is used to add a single item to the list.\n",
    "\n",
    "If the item is already exists in the set, it will be ignored.\n",
    "\n",
    "#### Example\n"
   ]
  },
  {
   "cell_type": "code",
   "execution_count": null,
   "metadata": {
    "id": "NKZQg_kprpJH"
   },
   "outputs": [],
   "source": [
    "set1 = {1,2,3,4}\n",
    "set1.add(5)\n",
    "set1.add(5)\n",
    "print(set1)"
   ]
  },
  {
   "cell_type": "markdown",
   "metadata": {
    "id": "b2m9KjnirpJI"
   },
   "source": [
    "##### 3.3.2.2 Add Multiple Items with `update()`\n",
    "\n",
    "`update()` function is used to add multiple items to a set. It can take in one or more collections, e.g. list, tuple or another set.\n",
    "\n",
    "* If the item already exists, it will be discarded.\n",
    "* If the item does not exist, it will be added.\n",
    "\n",
    "#### Example"
   ]
  },
  {
   "cell_type": "code",
   "execution_count": 2,
   "metadata": {
    "id": "wwHuGJ3OrpJK"
   },
   "outputs": [
    {
     "name": "stdout",
     "output_type": "stream",
     "text": [
      "{1, 2, 3, 4}\n",
      "{1, 2, 3, 4, 5}\n",
      "{1, 2, 3, 4, 5, 7, 8, 9, 10, (5, 6)}\n"
     ]
    }
   ],
   "source": [
    "set1 = {1,2,3,4}\n",
    "print(set1)\n",
    "set1.update([2,3,4,5])\n",
    "print(set1)\n",
    "set1.update([(5,6)], {7,8}, (9,10))\n",
    "print(set1)"
   ]
  },
  {
   "cell_type": "markdown",
   "metadata": {
    "id": "arXEvdC2rpJM"
   },
   "source": [
    "##### 3.3.2.3 Remove Item by Value\n",
    "\n",
    "An item can be removed from set using `discard()` and `remove()` methods.\n",
    "* `discard()` method does not throw exception if the item is not found in the set.\n",
    "* `remove()` method will raise an `Exception` in such condition."
   ]
  },
  {
   "cell_type": "code",
   "execution_count": null,
   "metadata": {
    "id": "bLuDojHfrpJN"
   },
   "outputs": [],
   "source": [
    "set1 = {1,2,3,4}\n",
    "\n",
    "set1.discard(4)\n",
    "set1.discard(44)\n",
    "print(set1)\n",
    "\n",
    "set1.remove(33)\n",
    "print(set1)"
   ]
  },
  {
   "cell_type": "markdown",
   "metadata": {
    "id": "OVFyQXICrpJP"
   },
   "source": [
    "##### 3.3.2.4 Remove an Arbitrary Item\n",
    "\n",
    "`pop()` function can be used to remove an **arbitrary** item from set. This is because set is unordered.\n",
    "* The popped value may seem following a sequence. But that is due to the internal hashmap implementation. It is not reliable and depends on values."
   ]
  },
  {
   "cell_type": "code",
   "execution_count": null,
   "metadata": {
    "id": "qUwZHOxUrpJQ"
   },
   "outputs": [],
   "source": [
    "set1 = {1,2,3,4}\n",
    "print(set1.pop())\n",
    "print(set1.pop())\n",
    "print(set1)"
   ]
  },
  {
   "cell_type": "markdown",
   "metadata": {
    "id": "D7ogLas7rpJS"
   },
   "source": [
    "##### 3.3.2.5 Remove an Arbitrary Item\n",
    "\n",
    "Sets can be used to carry out mathematical set operations\n",
    "* intersection\n",
    "* union\n",
    "* symmetric difference\n",
    "* difference (subtracting)\n",
    "\n",
    "<center>\n",
    "<img src=\"https://github.com/ffgtfgh53/Computing_Materials/blob/main/Notes/images/set-venn.png?raw=1\" alt=\"Set Venn Diagram\" style=\"width: 500px;\"/>\n",
    "</center>\n",
    "\n",
    "##### Example\n",
    "Create 2 sets using `set()` constructor."
   ]
  },
  {
   "cell_type": "code",
   "execution_count": null,
   "metadata": {
    "id": "z8A9hpS6rpJT",
    "outputId": "5523ea88-47df-44f0-f89b-a42c30b7d159"
   },
   "outputs": [
    {
     "name": "stdout",
     "output_type": "stream",
     "text": [
      "{0, 1, 2, 3, 4, 5, 6, 7}\n",
      "{5, 6, 7, 8, 9, 10, 11, 12}\n"
     ]
    }
   ],
   "source": [
    "set1 = set(range(0,8))\n",
    "set2 = set(range(5,13))\n",
    "print(set1)\n",
    "print(set2)"
   ]
  },
  {
   "cell_type": "markdown",
   "metadata": {
    "id": "CHeM54KSrpJV"
   },
   "source": [
    "##### 3.3.2.6 Intersection\n",
    "\n",
    "`intersection()` function outputs a set which contains all the elements that are in both sets.\n",
    "* Operator `&` can be used for Intersection operation."
   ]
  },
  {
   "cell_type": "code",
   "execution_count": null,
   "metadata": {
    "id": "1JBWTeaTrpJX"
   },
   "outputs": [],
   "source": [
    "print(set1.intersection(set2))\n",
    "print(set1 & set2)"
   ]
  },
  {
   "cell_type": "markdown",
   "metadata": {
    "id": "iwoBEkgKrpJZ"
   },
   "source": [
    "##### 3.3.2.7 Union\n",
    "\n",
    "`union()` function returns a set which contains all the elements of both the sets without repition.\n",
    "* Operator `|` can be used for Union operation."
   ]
  },
  {
   "cell_type": "code",
   "execution_count": null,
   "metadata": {
    "id": "n2b--2UerpJa"
   },
   "outputs": [],
   "source": [
    "print(set1.union(set2))\n",
    "print(set1 | set2)"
   ]
  },
  {
   "cell_type": "markdown",
   "metadata": {
    "id": "jA0V3tKtrpJc"
   },
   "source": [
    "##### 3.3.2.8 Difference (Subtracting)\n",
    "\n",
    "`difference()` function ouptuts a set which contains elements that are in set1 and not in set2.\n",
    "* Operator `-` can be use for Subtracting operation."
   ]
  },
  {
   "cell_type": "code",
   "execution_count": null,
   "metadata": {
    "id": "Od03t4jfrpJd"
   },
   "outputs": [],
   "source": [
    "print(set1.difference(set2))\n",
    "print(set1 - set2)"
   ]
  },
  {
   "cell_type": "markdown",
   "metadata": {
    "id": "T72iEfKZrpJf"
   },
   "source": [
    "#### 3.3.2.9 Symetric Difference\n",
    "\n",
    "`symmetric_difference()` function ouputs a function which contains elements that are in one of the sets."
   ]
  },
  {
   "cell_type": "code",
   "execution_count": null,
   "metadata": {
    "id": "x6uNXeCbrpJf"
   },
   "outputs": [],
   "source": [
    "s7 = set1.symmetric_difference(set2)\n",
    "print(s7)"
   ]
  },
  {
   "cell_type": "markdown",
   "metadata": {
    "id": "HMZnLYVSrpJh"
   },
   "source": [
    "#### 3.3.2.10 Subset, Superset\n",
    "\n",
    "`issubset()`, `issuperset()` is used to check if the set1/set2 is a subset, superset of set2/set1 respectively."
   ]
  },
  {
   "cell_type": "code",
   "execution_count": null,
   "metadata": {
    "id": "3aEWfuQBrpJi"
   },
   "outputs": [],
   "source": [
    "set3 = set(range(0,15))\n",
    "set4 = set(range(5,10))\n",
    "print(set3)\n",
    "print(set4)\n",
    "\n",
    "r1 = set3.issubset(set4)\n",
    "r2 = set3.issuperset(set4)\n",
    "print(r1, r2)"
   ]
  },
  {
   "cell_type": "code",
   "execution_count": null,
   "metadata": {
    "id": "A-b7-KiZrpJj"
   },
   "outputs": [],
   "source": [
    "set3 = set(range(0,15))\n",
    "set4 = set(range(5,10))\n",
    "\n",
    "r1 = set4.issubset(set3)\n",
    "r2 = set3.issuperset(set4)\n",
    "print(r1, r2)"
   ]
  },
  {
   "cell_type": "markdown",
   "metadata": {
    "id": "89wkTTA2rpJn"
   },
   "source": [
    "#### 3.3.2.11 Disjoint\n",
    "\n",
    "`isdisjoint()` is used to check if the set1/set2 is disjoint."
   ]
  },
  {
   "cell_type": "code",
   "execution_count": null,
   "metadata": {
    "id": "qADT2Gj8rpJo"
   },
   "outputs": [],
   "source": [
    "r3 = set3.isdisjoint(set4)\n",
    "print(r3)\n",
    "\n",
    "set5 = set(range(5))\n",
    "set6 = set(range(6,10))\n",
    "r4 = set5.isdisjoint(set6)\n",
    "print(r4)"
   ]
  },
  {
   "cell_type": "markdown",
   "metadata": {
    "id": "fMiXy2VVrpJp"
   },
   "source": [
    "## 3.4 Mutability\n",
    "\n",
    "### 3.4.1 Variable Assignment in Python\n",
    "\n",
    "In Python, a variable is a symbolic name that is a reference or pointer to an object, it is not the object itself. For example, consider the following code.\n",
    "```python\n",
    "x = 10\n",
    "```\n",
    "\n",
    "First the integer object `10` is created in the memory and then, the variable `x` is assigned to point to that object.\n",
    "\n",
    "#### 3.4.1.1 `id` function\n",
    "\n",
    "The built-in Python function `id` returns an object’s integer identifier, i.e. the object's location in the memory. Syntax is\n",
    "\n",
    "```python\n",
    "id(your_object)\n",
    "```\n",
    "\n",
    "#### Example 1\n",
    "\n",
    "Assign the values `0` and `1` to the variables `x` and `y` respectively. Afterwards, using the `id` built-in function, print out their integer identifiers."
   ]
  },
  {
   "cell_type": "code",
   "execution_count": 1,
   "metadata": {
    "id": "YyHHv4NZrpJr"
   },
   "outputs": [
    {
     "name": "stdout",
     "output_type": "stream",
     "text": [
      "140734399636232\n",
      "140734399636264\n"
     ]
    }
   ],
   "source": [
    "x = 0\n",
    "y = 1\n",
    "print(id(x))\n",
    "print(id(y))"
   ]
  },
  {
   "cell_type": "markdown",
   "metadata": {
    "id": "Wf6yYvjYrpJs"
   },
   "source": [
    "## 3.4.1.2 Mutable Objects\n",
    "\n",
    "A **mutable** object means that an object of this type can be modified in the memory after it is created. On the other hand, **immutable** object can't.\n",
    "\n",
    "#### Example 2\n",
    "\n",
    "Consider the following codes:"
   ]
  },
  {
   "cell_type": "code",
   "execution_count": null,
   "metadata": {
    "id": "jysWvGTerpJt"
   },
   "outputs": [],
   "source": [
    "a = [\"apples\", \"bananas\", \"oranges\"]\n",
    "print(id(a))\n",
    "a[0]='berries'\n",
    "print(a)\n",
    "print(id(a))"
   ]
  },
  {
   "cell_type": "code",
   "execution_count": null,
   "metadata": {
    "id": "c7w1S4qRrpJv"
   },
   "outputs": [],
   "source": [
    "a = (\"apples\", \"bananas\", \"oranges\")\n",
    "print(id(a))\n",
    "a = (\"berries\", \"bananas\", \"oranges\")\n",
    "print(a)\n",
    "print(id(a))"
   ]
  },
  {
   "cell_type": "markdown",
   "metadata": {
    "id": "NeP22sfLrpJw"
   },
   "source": [
    "## 3.4.1.3 Deep and Shallow Copy\n",
    "\n",
    "TBC"
   ]
  }
 ],
 "metadata": {
  "colab": {
   "provenance": []
  },
  "kernelspec": {
   "display_name": "Python 3 (ipykernel)",
   "language": "python",
   "name": "python3"
  },
  "language_info": {
   "codemirror_mode": {
    "name": "ipython",
    "version": 3
   },
   "file_extension": ".py",
   "mimetype": "text/x-python",
   "name": "python",
   "nbconvert_exporter": "python",
   "pygments_lexer": "ipython3",
   "version": "3.11.3"
  },
  "vscode": {
   "interpreter": {
    "hash": "d4abd50234137fb60a8e52bcd12c63c8cbc1f26b32bc51c54dab6a2ee6deb43f"
   }
  }
 },
 "nbformat": 4,
 "nbformat_minor": 4
}
