{
  "cells": [
    {
      "cell_type": "markdown",
      "metadata": {
        "id": "VKyTXVuGCiUU"
      },
      "source": [
        "# Learning Objectives\n",
        "\n",
        "- [ ]  2.2.3 Apply the fundamental programming constructs to control the flow of program execution:\n",
        "     * Sequence\n",
        "     * Selection\n",
        "     * Iteration\n",
        "\n",
        "[![Open In Colab](https://colab.research.google.com/assets/colab-badge.svg)](https://colab.research.google.com/github/ffgtfgh53/Computing_Materials/blob/main/Notes/Chapter_02_Programming_Constructs.ipynb)\n",
        "\n",
        "# References\n",
        "\n",
        "1. https://realpython.com/python-while-loop/#the-python-break-and-continue-statements"
      ]
    },
    {
      "cell_type": "markdown",
      "metadata": {
        "id": "EppiaL1vCiUY"
      },
      "source": [
        "# 2 Programming Constructs\n",
        "\n",
        ">A programming construct is an abstract way of describing a concept in terms of the syntax of programming language. These constructs are building blocks that forms the basis of all programs.\n",
        "\n",
        "These are basic programming constructs that we need to know:\n",
        "\n",
        "- Sequence,\n",
        "- Assignment,\n",
        "- Selection,\n",
        "- Iteration.\n",
        "\n",
        "We will explore the Assignment and Selection Construct in the sections below.\n",
        "\n",
        "## 2.0 Programming Construct : Sequence\n",
        "\n",
        "The most general construct of programming corresponds to the sequence of instructions, or more specifically, the sequence of statements that are specified within the program code.\n",
        "\n",
        "## 2.1 Programming Construct : Assignment\n",
        "\n",
        "In order to process data, we typically need to store it in computer memory. This is done via the use of variables. You might be familiar with variables given their use in mathematics. However, variables in mathematics and computing are different.\n",
        "\n",
        "In computing, a variable corresponds to an identifier that references a unit of data in computer memory.\n",
        "\n",
        "In order to define a variable, we must utilise the first programming construct: an **assignment statement**.\n",
        "\n",
        "To understand how assignment and variables work, let us refer to the following example:\n",
        "\n",
        ">```text\n",
        ">#x is the variable, 100 is the data, ← is the assignment operator\n",
        ">#and the whole line below is the assignment statement\n",
        ">x ← 100\n",
        ">```\n",
        "\n",
        "The above is a typical assignment statement. We are specifying a variable, i.e., an identifier `x`, which will reference some part of the computer’s memory, and in that segment of computer memory, store the integer value `100`.\n",
        "\n",
        "Essentially, the assignment statement does 3 things:\n",
        "\n",
        "1. Stores the variable identifier in an identifier table\n",
        "2. Allocates computer memory for the storage of the data type value specified; the memory allocated will correspond to some specific location in memory - i.e., a memory address\n",
        "3. Links the variable identifier to the computer memory location\n",
        "\n",
        "In this manner, whenever the variable is used, the computer knows that we are referring to the value that is stored in the associated location in computer memory.\n",
        "\n",
        "Assignment also allows programmers to:\n",
        "\n",
        "1. Assign new values to a variable\n",
        "2. Copy variable values\n",
        "3. Swap values between variables\n",
        "\n",
        "It should also be noted that when assigning a value, that value may be computed using expressions consisting of arithmetic, logical, comparison and/or string operations. For example:\n",
        "\n",
        ">```python\n",
        ">x ← 10 + 20\n",
        ">```\n",
        "\n",
        "Such expressions can, and or course, often do include the specification of other variables. For example:\n",
        "\n",
        ">```python\n",
        ">result ← a*x**2 + b*x + c\n",
        ">```\n",
        "\n",
        "In Python, the assignment operator is `=` , which should not be confused with the equal sign $=$ from mathematics.\n",
        "\n",
        "In Python, we can do multivariable assignment in a single line too. Example:\n",
        ">```python\n",
        "> a,b = 10, 20\n",
        "> a,b = b, a\n",
        ">```\n",
        "\n",
        "### 2.1.1 Python Naming Conventions and some Formatting Standards\n",
        "\n",
        "To prevent conflict and to keep consistency between programs, programming languages normally has some naming conventions for the variables, please check [https://www.python.org/dev/peps/pep-0008/#naming-conventions](https://www.python.org/dev/peps/pep-0008/) for updated style guide for python. For example, never use the characters `l` (lowercase letter el), `O` (uppercase letter oh), or `I` (uppercase letter eye) as single character variable names. In some fonts, these characters are indistinguishable from the numerals one and zero. When tempted to use `l`, use `L` instead.\n",
        "\n",
        "Legal variable names of a variable in Python :\n",
        "- Cannot begin with a digit\n",
        "- Cannot include operator symbols\n",
        "- Cannot be reserved words (e.g., `or`, `and`, `not`, `in`, `is`, `def`, `return`, `pass`, `break`, `continue`)\n",
        "- Should not be built-in function names (e.g., `print`, `input`, `range`, `len`, `sum`,`min`, `max`, `int`, `str`)\n"
      ]
    },
    {
      "cell_type": "markdown",
      "metadata": {
        "id": "hbjsUXubCiUe"
      },
      "source": [
        "#### Exercise 2.1\n",
        "\n",
        "What is the output of the following code?\n",
        "\n",
        ">```python\n",
        ">a = 5\n",
        ">b = a + 7\n",
        ">a = 10\n",
        ">print(str(b))\n",
        ">```"
      ]
    },
    {
      "cell_type": "code",
      "execution_count": null,
      "metadata": {
        "id": "I6P8gScPCiUj"
      },
      "outputs": [],
      "source": [
        "#YOUR ANSWER HERE"
      ]
    },
    {
      "cell_type": "markdown",
      "metadata": {
        "id": "ox8p-5AfCiUn"
      },
      "source": [
        "#### Exercise 2.2\n",
        "\n",
        "The Python interpreter has strict rules for variable names. Which of the following are legal Python variable names? If the name is not legal, state the reason.\n",
        "\n",
        "1. `and`\n",
        "2. `_and`\n",
        "3. `Var`\n",
        "4. `var1`\n",
        "5. `1var`\n",
        "6. `my-name`\n",
        "7. `your_name`\n",
        "8. `COLOUR`"
      ]
    },
    {
      "cell_type": "code",
      "execution_count": null,
      "metadata": {
        "id": "bhwa3zvHCiUp"
      },
      "outputs": [],
      "source": [
        "#YOUR ANSWER HERE"
      ]
    },
    {
      "cell_type": "markdown",
      "metadata": {
        "id": "hc5xvxlCCiUq"
      },
      "source": [
        "## 2.2 Programming Construct : Selection\n",
        "Often, a program consisting of a sequence of statements is insufficient. This is because it is common to face a problem that requires the execution of different sets of statements dependent upon the current state of the data.\n",
        "\n",
        "To remedy this, we utilise the selection programming construct.\n",
        "\n",
        "With the selection programming construct, a query/condition is evaluated. Depending on its result, the program will take one of two possible courses of action. As such, the selection construct is typically referred to as an `if-else` statement (or `if` statement for short), which selects different sets of statements to execute.\n",
        "\n",
        "For example:\n",
        "\n",
        ">```coffeescript\n",
        ">INPUT x\n",
        ">IF x ≥ 50\n",
        ">    THEN\n",
        ">        OUTPUT “PASS”\n",
        ">        OUTPUT “Well done!”\n",
        ">    ELSE\n",
        ">        OUTPUT “FAIL”\n",
        ">        OUTPUT “Please try harder.”\n",
        ">ENDIF\n",
        ">```\n",
        "\n",
        "It should be noted that it is common practice to indent the statements within the `if` or `else` parts of an `if` statement so that it is easier to read the code.\n",
        "\n",
        "Finally, it should also be noted that `if` statements may be nested, i.e., the statements in the `if` or `else` parts may themselves include another `if` statement.\n",
        "\n",
        "In Python, the `if` block follows the structure below:\n",
        "\n",
        ">```python\n",
        ">if <condition_1>:\n",
        ">    <action_1>\n",
        ">else:\n",
        ">    <action_2>\n",
        ">```"
      ]
    },
    {
      "cell_type": "code",
      "execution_count": null,
      "metadata": {
        "id": "7I9uJnJMCiUs"
      },
      "outputs": [],
      "source": [
        "# Python implementation of the example above\n",
        "x = int(input('Please enter marks'))\n",
        "\n",
        "if x >= 50:\n",
        "    print('Pass')\n",
        "    print('Well done!')\n",
        "else:\n",
        "    print('Fail')\n",
        "    print('Please Try Harder')"
      ]
    },
    {
      "cell_type": "markdown",
      "metadata": {
        "id": "qGcX4GssCiUu"
      },
      "source": [
        "Sometimes there are more conditions which require different actions to be carried out when the conditions are met. In Python, we can use `elif` statements inside the `if` block to handle these conditions. In such cases, the `if` follows the structure below:\n",
        "\n",
        ">```python\n",
        ">if <condition_1>:\n",
        ">    <action_1>\n",
        ">elif <condition_2>: #if statements do not always need to be accompanied by elif and else\n",
        ">    <action_2>\n",
        ">else:\n",
        ">    <action_3>\n",
        ">```"
      ]
    },
    {
      "cell_type": "markdown",
      "metadata": {
        "id": "5XKmpyDaCiUx"
      },
      "source": [
        "#### Exercise 2.3\n",
        "\n",
        "Consider the following code.\n",
        "\n",
        ">```python\n",
        ">x = int(input(\"Enter a positive integer value for x: \") )\n",
        ">\n",
        ">if x > 10 and x % 6 == 3:\n",
        ">   print(\"a\", end = \"\")\n",
        ">elif x > 10 and x < 20:\n",
        ">   print(\"b\", end = \"\")\n",
        ">else:\n",
        ">   print(\"c\", end = \"\")\n",
        ">print(\"\")\n",
        ">```\n",
        "\n",
        "Given the following outputs, determine the corresponding value(s) for `x` that would have generated that output. If no values of `a` can produce the listed output, write none.\n",
        "\n",
        "1. `ab`\n",
        "2. `a`\n",
        "3. `b`\n",
        "4. `c`"
      ]
    },
    {
      "cell_type": "code",
      "execution_count": null,
      "metadata": {
        "id": "Zo8oLYu-CiUy"
      },
      "outputs": [],
      "source": [
        "# YOUR ANSWER HERE"
      ]
    },
    {
      "cell_type": "markdown",
      "metadata": {
        "id": "W4ssVmpDCiU0"
      },
      "source": [
        "#### Exercise 2.4\n",
        "\n",
        "In cells, DNA (Deoxyribonucleic acid) is the nucleic acid that functions as the original blueprint for the synthesis of proteins. On the other hand, Ribonucleic acid (RNA) is a nucleic acid which is directly involved in protein synthesis.\n",
        "\n",
        "The four nucleotides found in DNA are adenine (A), cytosine (C), guanine (G) and thymine (T). The four nucleotides found in RNA are adenine (A), cytosine (C), guanine (G) and uracil (U).\n",
        "\n",
        "Given a DNA strand, its transcribed RNA strand is formed by replacing each nucleotide with its complement:\n",
        "\n",
        "```\n",
        "G --> C\n",
        "C --> G\n",
        "T --> A\n",
        "A --> U\n",
        "```\n",
        "\n",
        "Write a program that\n",
        "- request the user for a DNA nucleotide string\n",
        "- transcribes a given DNA nucleotide string `dnaNuc` into a RNA string\n",
        "- assign the transcribed string to `rnaNuc`.\n",
        "- print out the transcribed string\n",
        "\n",
        "For example, if the DNA nucleotide is `\"G\"`, the transcribed string will be `\"C\"`. You may assume the given DNA nucleotide is valid."
      ]
    },
    {
      "cell_type": "code",
      "execution_count": null,
      "metadata": {
        "id": "TN6b3fLwCiU2",
        "outputId": "7102f4b9-5484-4a70-b6b9-67eab970192c",
        "colab": {
          "base_uri": "https://localhost:8080/"
        }
      },
      "outputs": [
        {
          "output_type": "stream",
          "name": "stdout",
          "text": [
            "please give dna stringACTTGACT\n",
            "TGAACTGA\n"
          ]
        }
      ],
      "source": [
        "dnaNuc = input(\"please give dna string\").upper()\n",
        "rnaNuc = \"\"\n",
        "for i in dnaNuc:\n",
        "  if i == \"G\":\n",
        "    result = \"C\"\n",
        "  elif i == \"C\":\n",
        "    result = \"G\"\n",
        "  elif i == \"T\":\n",
        "    result = \"A\"\n",
        "  elif i == \"A\":\n",
        "    result = \"T\"\n",
        "  rnaNuc = rnaNuc + result\n",
        "print(rnaNuc)"
      ]
    },
    {
      "cell_type": "markdown",
      "metadata": {
        "id": "PbyP_TOxCiU5"
      },
      "source": [
        "#### Exercise 2.5\n",
        "\n",
        "Write a program that helps the user to convert a given integer from 0 to 100 inclusive, to an alphabetical grade.\n",
        "\n",
        "The problem:\n",
        "-\tRequest a quantity from the user.\n",
        "-\tif the input quantity is greater or equal to 70, print `A`,\n",
        "-\tif the input quantity is between 60 and 69 inclusive, print `B`,\n",
        "-\tif the input quantity is between 55 and 59 inclusive, print `C`,\n",
        "-\tif the input quantity is between 50 and 54 inclusive, print `D`,\n",
        "-\tif the input quantity is between 45 and 49 inclusive, print `E`,\n",
        "-\tif the input quantity is between 40 and 44 inclusive, print `S`,\n",
        "-\totherwise, print `U`.\n",
        "\n",
        "Example interaction:\n",
        "\n",
        ">```python\n",
        "> Enter mark: 75\n",
        "> A\n",
        ">```"
      ]
    },
    {
      "cell_type": "code",
      "execution_count": 14,
      "metadata": {
        "id": "uUfJCkhCCiVF",
        "outputId": "446390ac-0700-4128-d50c-c4424b00f7ca",
        "colab": {
          "base_uri": "https://localhost:8080/"
        }
      },
      "outputs": [
        {
          "output_type": "stream",
          "name": "stdout",
          "text": [
            "Enter mark: 69.999999999999999999\n",
            "A\n"
          ]
        }
      ],
      "source": [
        "input_text = input(\"Enter mark: \")\n",
        "try:\n",
        "  input_mark = float(input_text)\n",
        "  if (input_mark > 100) or (input_mark < 0) :\n",
        "    raise OverflowError()\n",
        "  if input_mark >= 70:\n",
        "    print(\"A\")\n",
        "  elif input_mark >= 60:\n",
        "    print(\"B\")\n",
        "  elif input_mark >= 55:\n",
        "    print(\"C\")\n",
        "  elif input_mark >= 50:\n",
        "    print(\"D\")\n",
        "  elif input_mark >= 45:\n",
        "    print(\"E\")\n",
        "  elif input_mark >= 40:\n",
        "    print(\"S\")\n",
        "  else:\n",
        "    print(\"U\\n(blud really still had to check💀)\")\n",
        "except OverflowError:\n",
        "  print(\"Please give a number between 0-100\")\n",
        "except ValueError:\n",
        "  print(\"Please enter a valid number.\")"
      ]
    },
    {
      "cell_type": "markdown",
      "metadata": {
        "id": "oLnib3mUCiVG"
      },
      "source": [
        "## 2.3 Programming Constructs : Iteration\n",
        "\n",
        "The last programming construct is the iteration construct, which allows us to specify loops.\n",
        "\n",
        "Often, we will notice that our code requires the execution of similar repeated steps.\n",
        "\n",
        "The iteration, or loop construct allows us to automate repeated steps. More specifically, iteration is the act of repeating a process to achieve a specific end goal. When iteration is used, the sequence/set of instructions within the loop will keep repeating until a certain condition/requirement has been reached, or is no longer satisfied. Each repetition is also known as an iteration. The results of one iteration are used as the starting point for the next iteration.\n",
        "\n",
        "Iteration usually involves the use of loops. Most commonly used loops include:\n",
        "\n",
        "1. **For** loops : Loops with an explicit counter for every iteration. This allows the body of the `for` loop code to know about the sequencing (i.e. index number) of the iteration.\n",
        "2. **While-Do** loops : Loops which continually execute a statement while a particular expression (of a condition/set of conditions) is true. It is executed zero or more times.\n",
        "3. **Do-While** (or Repeat-Until) loops : Similar to while-do loops, except the expression is evaluated at the end. Hence, the block of code is executed at once, then only repeats when the specified condition or set of conditions is met. (Not in Python)\n",
        "\n",
        "In Python, the `for` and `while` loops follow the structure below:\n",
        "\n",
        ">```python\n",
        ">for index in <iterable>:\n",
        ">    <action_here>\n",
        ">\n",
        ">while <condition>:\n",
        ">    <action_here>\n",
        ">```"
      ]
    },
    {
      "cell_type": "markdown",
      "metadata": {
        "id": "jZgN9rwRCiVH"
      },
      "source": [
        "In Python, lists and strings are `iterable` objects.\n",
        "\n",
        "For example, suppose we have the list `[1,2,3,4,5]`. We can print all the elements of the list line by line by using iteration."
      ]
    },
    {
      "cell_type": "code",
      "execution_count": null,
      "metadata": {
        "id": "C_t7wWP6CiVI"
      },
      "outputs": [],
      "source": [
        "l = [1,2,3,4,5]\n",
        "\n",
        "# for loop approach\n",
        "for elem in l:\n",
        "    print(elem)\n",
        "\n",
        "# while loop approach\n",
        "n = len(l)\n",
        "\n",
        "i = 0\n",
        "while i < n:\n",
        "    print(l[i])\n",
        "    i += 1"
      ]
    },
    {
      "cell_type": "markdown",
      "metadata": {
        "id": "Y4Eq74skCiVK"
      },
      "source": [
        "Another example of an `iterable` object in Python is `range`. The syntax is `range(start,end,step)` and it will give an iterable that starts from `start` with the highest being `end - 1` (*note this*). `step` is an optional argument that specify how much the increment from `start` is. By default, `step = 1`.\n",
        "\n",
        "In Python, we can also use `break` and `continue` statements inside the loops to terminate a loop iteration halfway.\n",
        "- the `break` statement stops the loop iteration **completely**, while\n",
        "- the `continue` statement terminates the current loop iteration but goes back to check the condition if the rest of the iteration could be carried out."
      ]
    },
    {
      "cell_type": "code",
      "execution_count": null,
      "metadata": {
        "id": "I7L3rOSYCiVM"
      },
      "outputs": [],
      "source": [
        "n = 5\n",
        "\n",
        "while n >= 1:\n",
        "    print(n)\n",
        "    if n == 3:\n",
        "        n -= 2\n",
        "        continue\n",
        "    n -= 1\n",
        "\n",
        "print('-----')\n",
        "print(n)"
      ]
    },
    {
      "cell_type": "markdown",
      "metadata": {
        "id": "ceFpBb4qCiVN"
      },
      "source": [
        "#### Exercise 2.6\n",
        "\n",
        "What is the output for each of the following pieces of code?\n",
        "\n",
        "1. Code 1\n",
        "\n",
        "    >```python\n",
        "    >num = 10\n",
        "    >while num > 3:\n",
        "    >   print(num)\n",
        "    >   num = num – 1\n",
        "    >```\n",
        "\n",
        "2. Code 2\n",
        "\n",
        "    >```python\n",
        "    >divisor = 2\n",
        "    >for i in range(0, 10, 2):\n",
        "    >   print(i // divisor)\n",
        "    >```\n",
        "\n",
        "3. Code 3\n",
        "\n",
        "    >```python\n",
        "    >num = 10\n",
        "    >while True:\n",
        "    >   if num < 7:\n",
        "    >       break\n",
        "    >   print(num)\n",
        "    >   num -= 1\n",
        "    >```\n",
        "\n",
        "4. Code 4\n",
        "\n",
        "    >```python\n",
        "    >count = 0\n",
        "    >for letter in \"Snow!\":\n",
        "    >   print(\"Letter #\" + str(count), \" is \", letter)\n",
        "    >   count += 1\n",
        "    >```"
      ]
    },
    {
      "cell_type": "code",
      "execution_count": null,
      "metadata": {
        "id": "YRtSGgQgCiVO"
      },
      "outputs": [],
      "source": [
        "#YOUR ANSWER HERE"
      ]
    },
    {
      "cell_type": "markdown",
      "metadata": {
        "id": "enwpwS-oCiVP"
      },
      "source": [
        "#### Example 2.7\n",
        "\n",
        "Write a program that helps the user to print each character in a given string.\n",
        "\n",
        "Example interaction:\n",
        "\n",
        ">```text\n",
        ">Please enter a string: abcdef\n",
        ">a\n",
        ">b\n",
        ">c\n",
        ">d\n",
        ">e\n",
        ">f\n",
        ">```"
      ]
    },
    {
      "cell_type": "code",
      "execution_count": null,
      "metadata": {
        "id": "oqT1vlyXCiVQ"
      },
      "outputs": [],
      "source": [
        "#YOUR ANSWER HERE"
      ]
    },
    {
      "cell_type": "markdown",
      "metadata": {
        "id": "oULAYEM-CiVR"
      },
      "source": [
        "#### Exercise 2.8\n",
        "Show that for any integer $n$, $n^5$ and $n$ always have the same last digit."
      ]
    },
    {
      "cell_type": "code",
      "execution_count": null,
      "metadata": {
        "id": "Miu8EAIzCiVS"
      },
      "outputs": [],
      "source": [
        "#YOUR ANSWER HERE"
      ]
    },
    {
      "cell_type": "markdown",
      "metadata": {
        "id": "iZstYynJCiVT"
      },
      "source": [
        "#### Example 2.9\n",
        "\n",
        "\n",
        "Write a program that helps the user to convert a given integer from 0 to 100 inclusive to a grade repeatedly until a noninteger is entered.\n",
        "\n",
        "The problem:\n",
        "-\tRequest a quantity from the user.\n",
        "-\tif the input quantity is greater or equal to 70, print `A`,\n",
        "-\tif the input quantity is between 60 and 69 inclusive, print `B`,\n",
        "-\tif the input quantity is between 55 and 59 inclusive, print `C`,\n",
        "-\tif the input quantity is between 50 and 54 inclusive, print `D`,\n",
        "-\tif the input quantity is between 45 and 49 inclusive, print `E`,\n",
        "-\tif the input quantity is between 40 and 44 inclusive, print `S`,\n",
        "-\totherwise, print `U`.\n",
        "\n",
        "Example interaction:\n",
        "\n",
        ">```text\n",
        ">Enter mark: 75\n",
        ">A\n",
        ">Enter mark again: 75\n",
        ">B\n",
        ">Enter mark again: *\n",
        ">```"
      ]
    },
    {
      "cell_type": "code",
      "execution_count": null,
      "metadata": {
        "id": "ab76tdp8CiVT"
      },
      "outputs": [],
      "source": [
        "#YOUR ANSWER HERE"
      ]
    },
    {
      "cell_type": "markdown",
      "metadata": {
        "id": "nyXc-KzyCiVU"
      },
      "source": [
        "#### Example 2.10\n",
        "Write a program that helps the user to extracting digits from a given integer input and print them out in the reverse order.\n",
        "\n",
        "Example interaction:\n",
        "\n",
        ">```text\n",
        ">Enter a number: 123\n",
        ">3\n",
        ">2\n",
        ">1\n",
        ">```"
      ]
    },
    {
      "cell_type": "code",
      "execution_count": null,
      "metadata": {
        "id": "Ng9A4L5TCiVV"
      },
      "outputs": [],
      "source": [
        "# YOUR ANSWER HERE"
      ]
    },
    {
      "cell_type": "markdown",
      "metadata": {
        "id": "xjK0b0adCiVW"
      },
      "source": [
        "#### Example 2.11\n",
        "Write a program that helps the user to prints out all the positive factors of a positive integer $n$.\n",
        "\n",
        "Example interaction:\n",
        "\n",
        ">```text\n",
        ">Please enter a positive integer: 225\n",
        ">1\n",
        ">3\n",
        ">5\n",
        ">9\n",
        ">15\n",
        ">25\n",
        ">45\n",
        ">75\n",
        ">225\n",
        ">```"
      ]
    },
    {
      "cell_type": "code",
      "execution_count": null,
      "metadata": {
        "id": "aD8RSqfzCiVX"
      },
      "outputs": [],
      "source": [
        "#YOUR ANSWER HERE"
      ]
    },
    {
      "cell_type": "markdown",
      "metadata": {
        "id": "W5xis5zVCiVY"
      },
      "source": [
        "#### Exercise 2.12\n",
        "\n",
        "What is the output for each of the following pieces of code?\n",
        "\n",
        "Note: if the code does not terminate, write infinite loop.\n",
        "\n",
        "1. Code 1\n",
        "\n",
        "    >```python\n",
        "    >a = 5\n",
        "    >while a < 8:\n",
        "    >   print(\"X\", end = \"\")\n",
        "    >print(\"\")\n",
        "    >```\n",
        "\n",
        "2. Code 2\n",
        "\n",
        "    >```python\n",
        "    >a = -1\n",
        "    >while a < 3:\n",
        "    >   print(\"X\" , end = \"\")\n",
        "    >a = a + 1\n",
        "    >print(\"\")\n",
        "    >```\n",
        "\n",
        "3. Code 3\n",
        "\n",
        "    >```python\n",
        "    >a = 1\n",
        "    >while a % 7 != 0:\n",
        "    >   if a % 2 == 0:\n",
        "    >       print(\"O\" , end = \"\")\n",
        "    >   if a == 2:\n",
        "    >       print(\"X\" , end = \"\")\n",
        "    >   a = a + 1\n",
        "    >print(\"\")\n",
        "    >```"
      ]
    },
    {
      "cell_type": "code",
      "execution_count": null,
      "metadata": {
        "id": "c-aK0dRzCiVZ"
      },
      "outputs": [],
      "source": [
        "#YOUR ANSWER HERE"
      ]
    },
    {
      "cell_type": "markdown",
      "metadata": {
        "id": "sFEE-9UQCiVZ"
      },
      "source": [
        "#### Exercise 2.13\n",
        "\n",
        "What is the output for each of the following pieces of code?\n",
        "\n",
        "1. Code 1\n",
        "\n",
        "    >```python\n",
        "    >keep_going = True\n",
        "    >a = 0\n",
        "    >b = 0\n",
        "    >while keep_going:\n",
        "    >   print(\"O\", end = \"\")\n",
        "    >   a = a + 5\n",
        "    >   b = b + 7\n",
        "    >   if a + b >= 24:\n",
        "    >       |keep_going = False\n",
        "    >print(\"\")\n",
        "    >```\n",
        "\n",
        "2. Code 2\n",
        "\n",
        "    >```python\n",
        "    >keep_going = True\n",
        "    >a = 0\n",
        "    >b = 0\n",
        "    >while keep_going:\n",
        "    >   print(\"O\" , end = \"\")\n",
        "    >   if a + b >= 24:\n",
        "    >       keep_going = False\n",
        "    >   a = a + 5\n",
        "    >   b = b + 7\n",
        "    >print(\"\")\n",
        "    >```\n",
        "\n",
        "3. Code 3\n",
        "\n",
        "    >```python\n",
        "    >keep_going = True\n",
        "    >a = 0\n",
        "    >b = 0\n",
        "    >while keep_going:\n",
        "    >   print(\"O\" , end = \"\")\n",
        "    >   a = a + 5\n",
        "    >   b = b + 7\n",
        "    >   if a + b > 24:  # note that \">\" is used here … vs \">=\" in (i)\n",
        "    >       keep_going = False\n",
        "    >print(\"\")\n",
        "    >```\n",
        "\n",
        "4. Code 4\n",
        "\n",
        "    >```python\n",
        "    >keep_going = True\n",
        "    >a = 0\n",
        "    >b = 0\n",
        "    >while keep_going:\n",
        "    >   print(\"O\" , end = \"\")\n",
        "    >   if a + b > 24:  \n",
        "    >       keep_going = False  # note that \">\" is used here … vs \">=\" in (ii)\n",
        "    >   a = a + 5\n",
        "    >   b = b + 7\n",
        "    >print(\"\")\n",
        "    >```"
      ]
    },
    {
      "cell_type": "code",
      "execution_count": null,
      "metadata": {
        "id": "gd2l_a1wCiVa"
      },
      "outputs": [],
      "source": [
        "#YOUR ANSWER HERE"
      ]
    },
    {
      "cell_type": "markdown",
      "metadata": {
        "id": "zqKz3N0tCiVb"
      },
      "source": [
        "#### Exercise 2.14\n",
        "\n",
        "What is the output for each of the following pieces of code? Note: if the code does not terminate, write infinite loop.\n",
        "\n",
        "1. Code 1\n",
        "\n",
        "    >```python\n",
        "    >a = 0\n",
        "    >while a < 3:\n",
        "    >   while True:\n",
        "    >       print(\"X\", end = \"\")\n",
        "    >       break\n",
        "    >   print(\"O\", end = \"\")\n",
        "    >   a = a + 1\n",
        "    >print(\"\")\n",
        "    >```\n",
        "\n",
        "2. Code 2\n",
        "\n",
        "    >```python\n",
        "    >a = 1\n",
        "    >while a < 3:\n",
        "    >   while a < 3:\n",
        "    >       print(\"O\", end  = \"\")\n",
        "    >   a = a + 1\n",
        "    >print(\"\")\n",
        "    >```\n",
        "\n",
        "3. Code 3\n",
        "\n",
        "    >```python\n",
        "    >a = 1\n",
        "    >while a < 3:\n",
        "    >   if a % 2 == 0:\n",
        "    >       b = 1\n",
        "    >       while b < 3:\n",
        "    >           print(\"X\", end = \"\")\n",
        "    >           b = b + 1\n",
        "    >           print(\"O\", end = \"\")\n",
        "    >   a = a + 1\n",
        "    >print(\"\")\n",
        "    >```"
      ]
    },
    {
      "cell_type": "code",
      "execution_count": null,
      "metadata": {
        "id": "My3QUEWqCiVb"
      },
      "outputs": [],
      "source": [
        "#YOUR ANSWER HERE"
      ]
    },
    {
      "cell_type": "markdown",
      "metadata": {
        "id": "yWL5cE4pCiVb"
      },
      "source": [
        "#### Exercise 2.15\n",
        "\n",
        "The following code loops infinitely when run, fix the code so that its output is `OOOXOXOO`.\n",
        "\n",
        ">```python\n",
        ">a = 1\n",
        ">while a < 3:\n",
        ">   b = 1\n",
        ">   while b < 3:\n",
        ">       if a == 2:\n",
        ">           print(\"X\", end = \"\")\n",
        ">       print(\"O\", end=\"\")\n",
        ">       b = b + 1\n",
        ">   print(\"O\", end = \"\")\n",
        ">print(\"\")\n",
        ">```"
      ]
    },
    {
      "cell_type": "code",
      "execution_count": null,
      "metadata": {
        "id": "qDwvCUZlCiVc"
      },
      "outputs": [],
      "source": [
        "#YOUR ANSWER HERE"
      ]
    },
    {
      "cell_type": "markdown",
      "metadata": {
        "id": "W3R001L1CiVd"
      },
      "source": [
        "#### Exercise 2.16\n",
        "\n",
        "Carl Friedrich Gauss (1777-1855) was one of those remarkable infant prodigies whose natural aptitude for mathematics soon becomes apparent. As a child of three, according to a well-authenticated story, he corrected an error in his father's payroll calculations. His arithmetical powers so overwhelmed his schoolmasters that, by the time Gauss was 10 years old, they admitted that there was nothing more they could teach the boy. It is said that in his first arithmetic class Gauss astonished his teacher by instantly solving what was intended to be a \"busy work\" problem: Find the sum of all the numbers from 1 to 100.\n",
        "\n",
        "How would you find this sum yourself? No Googling for answer kthx."
      ]
    },
    {
      "cell_type": "markdown",
      "metadata": {
        "id": "ucnHlOsFCiVf"
      },
      "source": [
        "##### Answer"
      ]
    },
    {
      "cell_type": "code",
      "execution_count": null,
      "metadata": {
        "id": "4yA2fUHPCiVg"
      },
      "outputs": [],
      "source": [
        "#YOUR ANSWER HERE"
      ]
    }
  ],
  "metadata": {
    "file_extension": ".py",
    "kernelspec": {
      "display_name": "Python 3",
      "language": "python",
      "name": "python3"
    },
    "language_info": {
      "codemirror_mode": {
        "name": "ipython",
        "version": 3
      },
      "file_extension": ".py",
      "mimetype": "text/x-python",
      "name": "python",
      "nbconvert_exporter": "python",
      "pygments_lexer": "ipython3",
      "version": "3.12.1"
    },
    "mimetype": "text/x-python",
    "name": "python",
    "npconvert_exporter": "python",
    "orig_nbformat": 2,
    "pygments_lexer": "ipython3",
    "version": 3,
    "vscode": {
      "interpreter": {
        "hash": "a42ccb73e7d9bfdf27e036f1d2b8b681e55fc0743cc5586bc2474d4a60f4b886"
      }
    },
    "colab": {
      "provenance": []
    }
  },
  "nbformat": 4,
  "nbformat_minor": 0
}